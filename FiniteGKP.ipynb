{
 "cells": [
  {
   "cell_type": "markdown",
   "id": "a9cb2e04-7c87-4309-bd6b-7dddbbaadd5f",
   "metadata": {},
   "source": [
    "# Stabilization of Finite Energy GKP\n",
    "Connor Blake 6/2024 \\\n",
    "[ArXiv Paper](https://arxiv.org/pdf/2009.07941)\n",
    "#### TODO\n",
    "* recreate bath graphs\n",
    "* show BsB visually\n",
    "* X-basis verification\n",
    "\n",
    "Notes:\n",
    "* \"_aa\" indicates second quantization basis\n",
    "* \"_xx\" indicates physical x basis\n",
    "* \"_01\" indicates Pauli basis"
   ]
  },
  {
   "cell_type": "code",
   "execution_count": null,
   "id": "8e78be62-3aff-4dc4-8249-c7342b6e8c9a",
   "metadata": {},
   "outputs": [],
   "source": [
    "from IPython.core.magic import register_cell_magic\n",
    "from IPython import get_ipython\n",
    "@register_cell_magic\n",
    "def skip_if(line,cell):\n",
    "    if eval(line):\n",
    "        return\n",
    "    get_ipython().run_cell(cell)\n",
    "skip_xx = True"
   ]
  },
  {
   "cell_type": "markdown",
   "id": "7ec214a1-b1fc-464e-b254-470f00b45f73",
   "metadata": {},
   "source": [
    "## Setup"
   ]
  },
  {
   "cell_type": "code",
   "execution_count": null,
   "id": "b11e925f-c631-4f1c-bc05-fbc923a795d0",
   "metadata": {},
   "outputs": [],
   "source": [
    "import qutip\n",
    "from qutip import Qobj, tensor, basis\n",
    "from qutip import *\n",
    "import numpy as np\n",
    "from numpy import kron\n",
    "import scipy as sp\n",
    "import pprint\n",
    "import matplotlib.pyplot as plt"
   ]
  },
  {
   "cell_type": "code",
   "execution_count": null,
   "id": "9f0f399c-c9e8-4d71-88cf-195e4803c47e",
   "metadata": {},
   "outputs": [],
   "source": [
    "np.set_printoptions(precision=3)\n",
    "from IPython.display import display, Latex, Math\n",
    "def mat_print(array):\n",
    "    matrix = ''\n",
    "    for row in array:\n",
    "        try:\n",
    "            for number in row:\n",
    "                matrix += f'{np.round(number,3)}&'\n",
    "        except TypeError:\n",
    "            matrix += f'{row}&'\n",
    "        matrix = matrix[:-1] + r'\\\\'\n",
    "    display(Math(r'\\begin{bmatrix}'+matrix+r'\\end{bmatrix}'))\n",
    "def lat_print(val):\n",
    "    display(Latex(val))"
   ]
  },
  {
   "cell_type": "code",
   "execution_count": null,
   "id": "f5497b62-b188-4ad7-9975-780650b72777",
   "metadata": {},
   "outputs": [],
   "source": [
    "def R_x(theta):\n",
    "    return sp.linalg.expm(-1j*theta*X_01/2.0)\n",
    "def R_z(theta):\n",
    "    return sp.linalg.expm(-1j*theta*Z_01/2.0)\n",
    "def com_scalar(ai,bi):\n",
    "    return ai*bi-bi*ai\n",
    "def com_matrix(ai,bi):\n",
    "    return ai@bi - bi@ai\n",
    "def anticom_matrix(ai,bi):\n",
    "    return ai@bi + bi@ai\n",
    "def sin_matrix(ai):\n",
    "    return 1/2.0/1j*(sp.linalg.expm(1j*ai)-sp.linalg.expm(-1j*ai))\n",
    "def sawtooth_fourier(ai,ni,mi):\n",
    "    # a is the matrix\n",
    "    # ni is the fourier truncation\n",
    "    # mi is the half-width of the pulse\n",
    "    sum = 0\n",
    "    arg_a = ai*2*np.pi/mi\n",
    "    for k in range(1,ni+1):\n",
    "        sum += ((-1)**k)/k*sin_matrix(arg_a*k)\n",
    "    return -mi/np.pi*sum"
   ]
  },
  {
   "cell_type": "markdown",
   "id": "df00985b-10bd-478d-bc14-b728519a1194",
   "metadata": {},
   "source": [
    "## A-Basis"
   ]
  },
  {
   "cell_type": "code",
   "execution_count": null,
   "id": "4f1b5c31-6944-48fa-bdbe-e34908f7cc1e",
   "metadata": {},
   "outputs": [],
   "source": [
    "N = 170 # full computational\n",
    "n = 25 # truncated for viewing / verification\n",
    "hbar = 1\n",
    "root2 = np.sqrt(2)\n",
    "pi = np.pi\n",
    "I_N = np.eye(N)\n",
    "ket0 = np.array([[1],[0]])\n",
    "ket1 = np.array([[0],[1]])\n",
    "plus = (ket0+ket1)/root2\n",
    "minus = (ket0-ket1)/root2\n",
    "X_01 = np.array([[0,1],[1,0]])\n",
    "Y_01 = np.array([[0,-1j],[1j,0]])\n",
    "Z_01 = np.array([[1,0],[0,-1]])\n",
    "I_01 = np.array([[1,0],[0,1]])\n",
    "H_01 = np.array([[1,1],[1,-1]])/root2\n",
    "sigma_minus_01 = np.array([[0,1],[0,0]])\n",
    "sigma_plus_01 = np.array([[0,0],[1,0]])\n",
    "a_aa = destroy(N).full()\n",
    "a_dag_aa = create(N).full()\n",
    "n_hat_aa = a_dag_aa@a_aa"
   ]
  },
  {
   "cell_type": "code",
   "execution_count": null,
   "id": "4d1187b9-eb56-4f9d-9baf-7ec05c6a7687",
   "metadata": {},
   "outputs": [],
   "source": [
    "def D_aa(alpha_i):\n",
    "    return sp.linalg.expm(alpha_i*a_dag_aa - np.conjugate(alpha_i)*a_aa)\n",
    "def CD_aa(beta_i):\n",
    "    return sp.linalg.expm(np.kron((beta_i*a_dag_aa - np.conjugate(beta_i)*a_aa),Z_01)/(2*root2))\n",
    "def S_aa(xi):\n",
    "    return sp.linalg.expm(np.conjugate(xi)*(a_aa@a_aa)-xi*(a_dag_aa@a_dag_aa))"
   ]
  },
  {
   "cell_type": "markdown",
   "id": "4fe2992c-e23e-435a-a150-b6b84bf2ec9e",
   "metadata": {},
   "source": [
    "### Setup Variables (Exact GKP)"
   ]
  },
  {
   "cell_type": "code",
   "execution_count": null,
   "id": "2bd144fb-d896-4ea9-a84c-f024525f7196",
   "metadata": {},
   "outputs": [],
   "source": [
    "x_aa = (a_aa+a_dag_aa)/root2 # _aa on all variables represent in a, a_dagger basis (second quantization)\n",
    "p_aa = -1j*(a_aa-a_dag_aa)/root2\n",
    "l = 2*np.sqrt(pi)\n",
    "alpha = l*np.array([0,1])\n",
    "beta =  l*np.array([-1,0])\n",
    "l_j = np.array([np.sqrt(alpha[0]**2+beta[0]**2),np.sqrt(alpha[1]**2 + beta[1]**2)])\n",
    "q_j_aa =      np.array([alpha[0]*x_aa + beta[0]*p_aa, \n",
    "                     alpha[1]*x_aa + beta[1]*p_aa])\n",
    "q_j_perp_aa = np.array([alpha[0]*p_aa - beta[0]*x_aa,\n",
    "                     alpha[1]*p_aa - beta[1]*x_aa])\n",
    "omega_12 = alpha[0]*beta[1]-beta[0]*alpha[1]\n",
    "T_i_0_aa = np.array([sp.linalg.expm(1j*q_j_aa[0]),sp.linalg.expm(1j*q_j_aa[1])])\n",
    "X_0_aa = sp.linalg.fractional_matrix_power(T_i_0_aa[0],.5) # this leads to some kind of numerical error which fails commutation\n",
    "Z_0_aa = sp.linalg.fractional_matrix_power(T_i_0_aa[1],.5) # ditto\n",
    "X_0_aa = sp.linalg.expm(1j*q_j_aa[0]/2.0)\n",
    "Z_0_aa = sp.linalg.expm(1j*q_j_aa[1]/2.0)\n",
    "Y_0_aa = sp.linalg.expm(1j*(q_j_aa[0]+q_j_aa[1])/2.0)\n",
    "fourier_trunc = 60\n",
    "x_j_aa = np.array([q_j_aa[0]/l_j[0],q_j_aa[1]/l_j[1]])\n",
    "x_j_perp_aa = np.array([q_j_perp_aa[0]/l_j[0],q_j_perp_aa[1]/l_j[1]])\n",
    "x_j_m_aa = np.array([sawtooth_fourier(x_j_aa[0],fourier_trunc,2*pi/l_j[0]),\n",
    "                     sawtooth_fourier(x_j_aa[1],fourier_trunc,2*pi/l_j[1])])"
   ]
  },
  {
   "cell_type": "markdown",
   "id": "54072d5e-671e-4cfa-8eef-309ee95eee45",
   "metadata": {},
   "source": [
    "### Verifying Exact GKP Variables"
   ]
  },
  {
   "cell_type": "code",
   "execution_count": null,
   "id": "fb6e5f00-7deb-4c5a-a01b-af43ef635d33",
   "metadata": {},
   "outputs": [],
   "source": [
    "lat_print(\"$[q_j,q_{j,perp}]= i (a_j^2 + b_j^2)$?\")\n",
    "com_0 = com_matrix(q_j_aa[0],q_j_perp_aa[0])\n",
    "com_1 = com_matrix(q_j_aa[1],q_j_perp_aa[1])\n",
    "print(np.all(np.isclose(np.diag(com_0)[:n],1j*(alpha[0]**2+beta[0]**2))))\n",
    "print(np.all(np.isclose(np.diag(com_0)[:n],1j*(alpha[0]**2+beta[0]**2))))\n",
    "lat_print(\"$[x_j,x_{j,perp}]= i$?\")\n",
    "com_0 = com_matrix(x_j_aa[0],x_j_perp_aa[0])\n",
    "com_1 = com_matrix(x_j_aa[1],x_j_perp_aa[1])\n",
    "print(np.all(np.isclose(np.diag(com_0)[:n],1j)))\n",
    "print(np.all(np.isclose(np.diag(com_0)[:n],1j)))\n",
    "lat_print(\"$T_{j,0} = e^{i q_j} = D((- b_j + i a_j) / \\sqrt{2} ) $?\")\n",
    "print(np.allclose(T_i_0_aa[0], D_aa((-beta[0]+1j*alpha[0])/root2)))\n",
    "print(np.allclose(T_i_0_aa[1], D_aa((-beta[1]+1j*alpha[1])/root2)))\n",
    "lat_print(\"$\\omega_{12} = 4 \\pi?$\")\n",
    "print(np.isclose(omega_12,4*pi))\n",
    "lat_print(\"$[T_{1,0},T_{2,0}] = 0$?\")\n",
    "c0 = T_i_0_aa[0]@T_i_0_aa[1]\n",
    "c1 = T_i_0_aa[1]@T_i_0_aa[0]\n",
    "print(np.allclose(c0[:n,:n],c1[:n,:n]))\n",
    "lat_print(\"$X_0 = \\sqrt{T_{1,0}} = e^{iq_1/2}$?\")\n",
    "exp_def_0 = sp.linalg.expm(1j*q_j_aa[0]/2.0)\n",
    "print(np.allclose(X_0_aa[:n,:n],exp_def_0[:n,:n]))\n",
    "lat_print(\"$Z_0 = \\sqrt{T_{2,0}} = e^{iq_2/2}$?\")\n",
    "exp_def_1 = sp.linalg.expm(1j*q_j_aa[1]/2.0)\n",
    "print(np.allclose(Z_0_aa[:n,:n],exp_def_1[:n,:n]))\n",
    "lat_print(\"$[X_0,T_{2,0}]=0$?\")\n",
    "X_T2_com = com_matrix(X_0_aa,T_i_0_aa[1])\n",
    "print(np.allclose(X_T2_com[:n,:n],np.zeros((n,n))))\n",
    "lat_print(\"$[X_0,T_{1,0}]=0$?\")\n",
    "X_T1_com = com_matrix(X_0_aa,T_i_0_aa[0])\n",
    "print(np.allclose(X_T1_com[:n,:n],np.zeros((n,n))))\n",
    "lat_print(\"$[Z_0,T_{1,0}]=0$?\")\n",
    "Z_T1_com = com_matrix(Z_0_aa,T_i_0_aa[0])\n",
    "print(np.allclose(Z_T1_com[:n,:n],np.zeros((n,n))))\n",
    "lat_print(\"$[Z_0,T_{2,0}]=0$?\")\n",
    "Z_T2_com = com_matrix(Z_0_aa,T_i_0_aa[1])\n",
    "print(np.allclose(Z_T2_com[:n,:n],np.zeros((n,n))))\n",
    "lat_print(\"$\\{Z_0,X_0\\}=0$?\")\n",
    "X_Z_anticom = anticom_matrix(X_0_aa,Z_0_aa)\n",
    "print(np.allclose(X_Z_anticom[:n,:n],np.zeros((n,n))))\n",
    "lat_print(\"$Y_0 = -i Z_0 X_0$?\")\n",
    "prod = -1j*Z_0_aa@X_0_aa\n",
    "print(np.allclose(Y_0_aa[:n,:n],prod[:n,:n]))\n",
    "lat_print(\"$\\ln T_{j,0} = i l_j x_{j,[2\\pi/l_j]}$? ($\\pm .05$)\")\n",
    "eps = .05\n",
    "log_T_0 = sp.linalg.logm(T_i_0_aa[0])\n",
    "log_T_1 = sp.linalg.logm(T_i_0_aa[1])\n",
    "rhs_0 = 1j*l_j[0]*x_j_m_aa[0]\n",
    "rhs_1 = 1j*l_j[1]*x_j_m_aa[1]\n",
    "print(np.allclose(log_T_0[:n,:n],rhs_0[:n,:n],atol=eps))\n",
    "print(np.allclose(log_T_1[:n,:n],rhs_1[:n,:n],atol=eps))"
   ]
  },
  {
   "cell_type": "markdown",
   "id": "2b7d7a07-f2a1-4a13-bc46-a5e264837467",
   "metadata": {},
   "source": [
    "### Setup Variables (Finite Energy GKP)"
   ]
  },
  {
   "cell_type": "code",
   "execution_count": null,
   "id": "9565bde0-089b-4fe2-81b9-708df92e2892",
   "metadata": {},
   "outputs": [],
   "source": [
    "Delta = .2\n",
    "c_Delta = np.cosh(Delta**2)\n",
    "s_Delta = np.sinh(Delta**2)\n",
    "t_Delta = np.tanh(Delta**2)\n",
    "m_j = 2*pi/c_Delta/l_j\n",
    "E_D_aa = sp.linalg.expm(-Delta**2*n_hat_aa)\n",
    "E_D_aa_inv = np.linalg.inv(E_D_aa)\n",
    "T_i_E_aa = np.array([np.dot(E_D_aa,T_i_0_aa[0]@E_D_aa_inv), np.dot(E_D_aa,T_i_0_aa[1]@E_D_aa_inv)])\n",
    "d_j_E_aa = 1.0/root2*(x_j_m_aa/np.sqrt(t_Delta) + 1j*x_j_perp_aa*np.sqrt(t_Delta))\n",
    "d_j_E_dag_aa = np.array([np.conjugate(d_j.T) for d_j in d_j_E_aa])\n",
    "d_j_E_prod_aa = np.array([d_j_E_dag_aa[j]@d_j_E_aa[j] for j in [0,1]])\n",
    "# TODO: implement {X, Y, Z}_E_aa"
   ]
  },
  {
   "cell_type": "markdown",
   "id": "b7122d31-4389-47de-924a-8c27fbac3c4a",
   "metadata": {},
   "source": [
    "### Finite State Verification (a-basis)"
   ]
  },
  {
   "cell_type": "code",
   "execution_count": null,
   "id": "1983b942-3c7b-457f-83dc-c69c9b204b3e",
   "metadata": {},
   "outputs": [],
   "source": [
    "lat_print(\"$ET_{i,0}E^{-1} = e^{EqE^{-1}}$?\")\n",
    "exp_form_0 = sp.linalg.expm(1j*E_D_aa@(q_j_aa[0]@E_D_aa_inv))\n",
    "print(np.allclose(T_i_E_aa[0][:n,:n],exp_form_0[:n,:n]))\n",
    "exp_form_1 = sp.linalg.expm(1j*E_D_aa@(q_j_aa[1]@E_D_aa_inv))\n",
    "print(np.allclose(T_i_E_aa[1][:n,:n],exp_form_1[:n,:n]))\n",
    "lat_print(\"$[T_{1,E},T_{2,E}] = 0$?\")\n",
    "com = com_matrix(T_i_E_aa[0],T_i_E_aa[1])\n",
    "print(np.allclose(com[:n,:n],np.zeros((n,n))))\n",
    "lat_print(\"$T_{j,E}=e^{\\cosh(\\Delta^2)\\sinh(\\Delta^2)l_j^2/2}e^{-q_{j,perp}\\sinh(\\Delta^2)}e^{iq_j\\cosh(\\Delta^2)}$?\")\n",
    "exp_def_0 = np.exp(c_Delta*s_Delta*l_j[0]**2/2)*(sp.linalg.expm(-q_j_perp_aa[0]*s_Delta)@sp.linalg.expm(1j*q_j_aa[0]))\n",
    "print(np.allclose(T_i_E_aa[0][:n,:n],exp_def_0[:n,:n],atol=.01))\n",
    "exp_def_1 = np.exp(c_Delta*s_Delta*l_j[1]**2/2)*(sp.linalg.expm(-q_j_perp_aa[1]*s_Delta)@sp.linalg.expm(1j*q_j_aa[1]))\n",
    "print(np.allclose(T_i_E_aa[1][:n,:n],exp_def_1[:n,:n],atol=.01))\n",
    "# TODO verify computational basis"
   ]
  },
  {
   "cell_type": "markdown",
   "id": "d56b5440-23e8-4b6f-9d1d-5ba0f31ee5ad",
   "metadata": {},
   "source": [
    "### Markovian Dynamics"
   ]
  },
  {
   "cell_type": "code",
   "execution_count": null,
   "id": "aebacf27-f06a-480d-ab95-e79c37699a2f",
   "metadata": {},
   "outputs": [],
   "source": [
    "Gamma = 10  # free parameter\n",
    "Gamma_j = np.array([Gamma,Gamma])\n",
    "T = 10\n",
    "epsilon_j = s_Delta*l_j\n",
    "theta_j = np.angle(alpha+1j*beta)\n",
    "Gamma_dt = t_Delta/4*c_Delta**2*l_j**2\n",
    "dt = Gamma_dt[0]/Gamma\n",
    "t_f = dt*T\n",
    "b_k = (X_01 + 1j*Y_01)/2 # typo in paper\n",
    "b_dag_k = np.conjugate(b_k.T)"
   ]
  },
  {
   "cell_type": "code",
   "execution_count": null,
   "id": "1c07876c-8aaf-4279-98ba-fe8d303a8795",
   "metadata": {},
   "outputs": [],
   "source": [
    "def dissipation_super(op,op_dag,op_dag_op,rho):\n",
    "    rho_dot = op@(rho@op_dag) - .5*anticom_matrix(op_dag_op,rho)\n",
    "    return rho_dot\n",
    "def master(rho):\n",
    "    return Gamma_j[0]*dissipation_super(d_j_E_aa[0],d_j_E_dag_aa[0],d_j_E_prod_aa[0],rho) + Gamma_j[1]*dissipation_super(d_j_E_aa[1],d_j_E_dag_aa[1],d_j_E_prod_aa[1],rho)"
   ]
  },
  {
   "cell_type": "code",
   "execution_count": null,
   "id": "1632fe31-5e2c-4ea6-968e-1453d993aff4",
   "metadata": {},
   "outputs": [],
   "source": [
    "H_E_n_aa = np.sqrt(Gamma)*(np.kron(d_j_E_aa[0],b_dag_k) + np.kron(d_j_E_dag_aa[0],b_k)) # TODO figure out [1]\n",
    "U_n_aa01 = sp.linalg.expm(-1j*np.sqrt(dt)*H_E_n_aa)\n",
    "U_n_dag_aa01 = np.conj(U_n_aa01.T)\n",
    "U_T_aa01 = np.linalg.matrix_power(U_n_aa01,T)"
   ]
  },
  {
   "cell_type": "markdown",
   "id": "513cda00-4125-47d3-be8f-026deb3ee614",
   "metadata": {},
   "source": [
    "### Markov Verification"
   ]
  },
  {
   "cell_type": "code",
   "execution_count": null,
   "id": "895b6c17-05ca-4373-93a6-fcaaa8f17c12",
   "metadata": {},
   "outputs": [],
   "source": [
    "lat_print(\"$[b_n,b_n^{\\dagger}] = \\sigma_z$?\")\n",
    "print(np.allclose(com_matrix(b_k,b_dag_k),Z_01))\n",
    "lat_print(\"$U_n$ unitary?\")\n",
    "print(np.isclose(1,np.abs(np.linalg.det(U_n_aa01))))\n",
    "lat_print(\"$U_n^{\\dagger}$ unitary?\")\n",
    "print(np.isclose(1,np.abs(np.linalg.det(U_n_dag_aa01))))\n",
    "lat_print(\"$U_T$ unitary?\")\n",
    "print(np.isclose(1,np.abs(np.linalg.det(U_T_aa01))))\n",
    "lat_print(\"$\\Gamma_j\\delta t=t_{\\Delta}c_{\\Delta}^2l_j^2/4$?\")\n",
    "print(np.allclose(Gamma_j*dt,t_Delta/4*c_Delta**2*l_j**2))"
   ]
  },
  {
   "cell_type": "markdown",
   "id": "6a6f5768-0417-406c-b319-2572dda89316",
   "metadata": {},
   "source": [
    "### Control Schemes"
   ]
  },
  {
   "cell_type": "code",
   "execution_count": null,
   "id": "68e612ed-b757-4be8-8f5a-81ac7c49eaea",
   "metadata": {},
   "outputs": [],
   "source": [
    "CD_A_aa = np.array([CD_aa(epsilon_j[j]*np.exp(1j*theta_j[j])) for j in [0,1]])\n",
    "CD_B_aa = np.array([CD_aa(-1j*(alpha[j]+1j*beta[j])*c_Delta) for j in [0,1]])\n",
    "CD_A2_aa = np.array([CD_aa(epsilon_j[j]*np.exp(1j*theta_j[j])/2) for j in [0,1]])\n",
    "\n",
    "U_st_1_aa = np.array([(sp.linalg.expm(-1j*epsilon_j[j]/2*np.kron(x_j_perp_aa[j],Y_01)))@\n",
    "                      (sp.linalg.expm(-1j*l_j[j]*c_Delta/2*np.kron(x_j_aa[j],X_01))) for j in [0,1]])\n",
    "U_st_2_aa = np.array([(sp.linalg.expm(-1j*l_j[j]*c_Delta/2*np.kron(x_j_aa[j],X_01)))@\n",
    "                      (sp.linalg.expm(-1j*epsilon_j[j]/2*np.kron(x_j_perp_aa[j],Y_01))) for j in [0,1]])\n",
    "\n",
    "U_ST_1_aa = np.array([CD_A_aa[j]@(\n",
    "                   np.kron(np.eye(N),np.conj(R_x(pi/2).T))@\n",
    "                   CD_B_aa[j]) for j in [0,1]])\n",
    "U_ST_2_aa = np.array([CD_B_aa[j]@(\n",
    "                    np.kron(np.eye(N),R_x(pi/2))@\n",
    "                    CD_A_aa[j]) for j in [0,1]])\n",
    "\n",
    "U_sBs_aa = np.array([CD_A2_aa[j]@(\n",
    "                    np.kron(np.eye(N),R_x(pi/2))@(\n",
    "                    CD_B_aa[j]@(\n",
    "                    np.kron(np.eye(N),np.conj(R_x(pi/2).T))@\n",
    "                    CD_A2_aa[j])))for j in [0,1]])"
   ]
  },
  {
   "cell_type": "markdown",
   "id": "fdebe3a7-6260-47fb-ad76-3bb2fe9c1812",
   "metadata": {},
   "source": [
    "### Sharpen-Trim Verification"
   ]
  },
  {
   "cell_type": "code",
   "execution_count": null,
   "id": "22be8b31-3ed2-403a-8021-deb4b93b449a",
   "metadata": {},
   "outputs": [],
   "source": [
    "lat_print(\"$e^{im_j x_{j,perp}}U^{ST}_ie^{-im_jx_{j,perp}}=-U^{ST}_i$?\")\n",
    "prod_1 = np.array([np.kron(sp.linalg.expm(1j*m_j[j]*x_j_perp_aa[j]),I_01)@\n",
    "                   (U_st_1_aa[j]@np.kron(sp.linalg.expm(-1j*m_j[j]*x_j_perp_aa[j]),I_01)) for j in [0,1]])\n",
    "print(np.allclose(prod_1[0][:2*n,:2*n],-U_st_1_aa[0][:2*n,:2*n]))\n",
    "print(np.allclose(prod_1[1][:2*n,:2*n],-U_st_1_aa[1][:2*n,:2*n]))\n",
    "prod_2 = np.array([np.kron(sp.linalg.expm(1j*m_j[j]*x_j_perp_aa[j]),I_01)@\n",
    "                   (U_st_2_aa[j]@np.kron(sp.linalg.expm(-1j*m_j[j]*x_j_perp_aa[j]),I_01)) for j in [0,1]])\n",
    "print(np.allclose(prod_2[0][:2*n,:2*n],-U_st_2_aa[0][:2*n,:2*n]))\n",
    "print(np.allclose(prod_2[1][:2*n,:2*n],-U_st_2_aa[1][:2*n,:2*n]))\n",
    "lat_print(\"$\\sigma_x = H \\sigma_z H$?\")\n",
    "print(np.allclose(X_01,H_01@(Z_01@H_01)))\n",
    "lat_print(\"$\\sigma_y = R_z(\\pi/2)H\\sigma_zHR_z^{\\dagger}(\\pi/2)$?\")\n",
    "print(np.allclose(Y_01,R_z(pi/2)@(H_01@(Z_01@(H_01@np.conj(R_z(pi/2).T))))))\n",
    "lat_print(\"$U^{ST}_1 = CD(\\epsilon_je^{i\\theta_j})R_x^{\\dagger}(\\pi/2)CD(-il_je^{i\\theta_j}c_{\\Delta})$ (up to ancilla)?\")\n",
    "def_1 = np.array([np.kron(np.eye(N),R_z(pi/2))@( # only on ancilla, ignore\n",
    "                    np.kron(np.eye(N),H_01)@( # only on ancilla, ignore\n",
    "                    U_ST_1_aa[j]@(\n",
    "                    np.kron(np.eye(N),H_01) # only on ancilla, ignore\n",
    "                  ))) for j in [0,1]])\n",
    "print(np.allclose(def_1[0][:2*n,:2*n],U_st_1_aa[0][:2*n,:2*n]))\n",
    "print(np.allclose(def_1[1][:2*n,:2*n],U_st_1_aa[1][:2*n,:2*n]))\n",
    "lat_print(\"$U^{ST}_2 = CD(-il_je^{i\\theta_j}c_{\\Delta})R_x(\\pi/2)CD(\\epsilon_je^{i\\theta_j})$ (up to ancilla)?\")\n",
    "def_2 = np.array([  np.kron(np.eye(N),H_01)@( # ignore ancilla\n",
    "                    U_ST_2_aa[j]@(\n",
    "                    np.kron(np.eye(N),H_01)@( # ignore ancilla\n",
    "                    np.kron(np.eye(N),np.conj(R_z(pi/2).T)) # ignore ancilla\n",
    "                    ))) for j in [0,1]])\n",
    "print(np.allclose(def_2[0][:2*n,:2*n],U_st_2_aa[0][:2*n,:2*n]))\n",
    "print(np.allclose(def_2[1][:2*n,:2*n],U_st_2_aa[1][:2*n,:2*n]))\n",
    "lat_print(\"$U^{ST}_i$ unitary?\")\n",
    "print(np.isclose(1,np.abs(np.linalg.det(U_st_1_aa[0]))))\n",
    "print(np.isclose(1,np.abs(np.linalg.det(U_st_1_aa[1]))))\n",
    "print(np.isclose(1,np.abs(np.linalg.det(U_st_2_aa[0]))))\n",
    "print(np.isclose(1,np.abs(np.linalg.det(U_st_2_aa[1]))))\n",
    "lat_print(\"$\\epsilon_j = \\sinh(\\Delta^2)4\\pi/l_j$\")\n",
    "print([np.isclose(epsilon_j[j],s_Delta*4*pi/l_j[j]) for j in [0,1]])\n",
    "lat_print(f\"$\\Gamma = {np.round(Gamma,3)}$\")\n",
    "lat_print(f\"$\\delta t = {np.round(dt,3)}$\")"
   ]
  },
  {
   "cell_type": "markdown",
   "id": "8ddf76e7-2060-4ba1-aeed-e0b0f05680e7",
   "metadata": {},
   "source": [
    "## X-Basis"
   ]
  },
  {
   "cell_type": "code",
   "execution_count": null,
   "id": "c03965fe-d2b0-4517-899e-95b6b3078f52",
   "metadata": {},
   "outputs": [],
   "source": [
    "%%skip_if skip_xx\n",
    "\n",
    "N_states = 15 # \"infinite\" dirac comb\n",
    "x_per_state = 50\n",
    "N_x = x_per_state*N_states # x-basis discretization\n",
    "max_x_x = N_states/2*l_j[0]\n",
    "x_x = np.linspace(-max_x_x,max_x_x,N_x)\n",
    "dx = x_x[1]-x_x[0]\n",
    "x_xx = np.diag(x_x) # <x'|x_hat|x> diagonal matrix"
   ]
  },
  {
   "cell_type": "code",
   "execution_count": null,
   "id": "019b3692-2e3c-4d48-8cb4-a046a228a7c7",
   "metadata": {},
   "outputs": [],
   "source": [
    "%%skip_if skip_xx\n",
    "\n",
    "\n",
    "def D_xx(alpha_i):\n",
    "    return sp.linalg.expm(alpha_i*a_dag_xx - np.conjugate(alpha_i)*a_xx)\n",
    "def CD_xx(beta_i):\n",
    "    return sp.linalg.expm(np.kron((beta_i*a_dag_xx - np.conjugate(beta_i)*a_xx),Z_01)/(2*root2))\n",
    "def S_xx(xi):\n",
    "    return sp.linalg.expm(np.conjugate(xi)*(a_xx@a_xx)-xi*(a_dag_xx@a_dag_xx))"
   ]
  },
  {
   "cell_type": "markdown",
   "id": "d0182612-c568-4c01-bdbe-281323013894",
   "metadata": {},
   "source": [
    "First Derivative Matrix"
   ]
  },
  {
   "cell_type": "code",
   "execution_count": null,
   "id": "3385ee87-c7cf-49bd-86ee-fd76fa196353",
   "metadata": {},
   "outputs": [],
   "source": [
    "%%skip_if skip_xx\n",
    "\n",
    "# bad root circulant Laplacian matrix\n",
    "#L_xx = np.zeros((N_x,N_x))\n",
    "#np.fill_diagonal(L_xx,2)\n",
    "#np.fill_diagonal(L_xx[1:,:],-1)\n",
    "#np.fill_diagonal(L_xx[:,1:],-1)\n",
    "#L_xx[N_x-1,0] = -1\n",
    "#L_xx[0,N_x-1] = -1\n",
    "#L_xx /= dx**2\n",
    "#D_xx = sp.linalg.fractional_matrix_power(L_xx,.5)\n",
    "\n",
    "# circulant 2nd order centered finite difference\n",
    "D_xx = np.zeros((N_x,N_x))\n",
    "np.fill_diagonal(D_xx[2:,:],-1)\n",
    "np.fill_diagonal(D_xx[:,N_x-2:],-1)\n",
    "np.fill_diagonal(D_xx[1:,:],8)\n",
    "D_xx[0,N_x-1] = 8\n",
    "np.fill_diagonal(D_xx[:,1:],-8)\n",
    "D_xx[N_x-1,0] = -8\n",
    "np.fill_diagonal(D_xx[:,2:],1)\n",
    "np.fill_diagonal(D_xx[N_x-2:,:],1)\n",
    "D_xx /= -12*dx"
   ]
  },
  {
   "cell_type": "code",
   "execution_count": null,
   "id": "43fa7f0d-5be8-4c10-ad3d-9d1326773b2a",
   "metadata": {},
   "outputs": [],
   "source": [
    "%%skip_if skip_xx\n",
    "\n",
    "p_xx = -1j*hbar*D_xx"
   ]
  },
  {
   "cell_type": "markdown",
   "id": "e577bd38-7bf3-494d-8ecd-a91da3db7dd9",
   "metadata": {},
   "source": [
    "### Ideal"
   ]
  },
  {
   "cell_type": "code",
   "execution_count": null,
   "id": "9ca9b7d8-c802-4fc7-b154-6dbaf4cd894c",
   "metadata": {},
   "outputs": [],
   "source": [
    "%%skip_if skip_xx\n",
    "\n",
    "Psi_0j_x = np.array([1 if (i % x_per_state ==0) else 0 for i in range(N_x)])  # <x'|Psi_0,j> = Psi_0,0,j(x'), all j states same\n",
    "Psi_0j_x_norm = np.sqrt(np.trace(np.outer(Psi_0j_x,Psi_0j_x)))\n",
    "Psi_0j_x = Psi_0j_x/Psi_0j_x_norm"
   ]
  },
  {
   "cell_type": "markdown",
   "id": "f8577c9f-70bf-4256-b72d-0ec8ffbaf65c",
   "metadata": {},
   "source": [
    "DFT to get $<p'|\\Psi_{0,j}>$"
   ]
  },
  {
   "cell_type": "code",
   "execution_count": null,
   "id": "35719201-8c34-4fc4-a7b3-9cf4bd6c702b",
   "metadata": {},
   "outputs": [],
   "source": [
    "%%skip_if skip_xx\n",
    "\n",
    "# TODO something's off here\n",
    "p_x = np.zeros((N_x,1))\n",
    "M_DFT = np.zeros((N_x,N_x),dtype=complex)\n",
    "omega = np.exp(-pi*2j/N_x)\n",
    "for j in range(N_x):\n",
    "    for k in range(N_x):\n",
    "        M_DFT[j,k] = omega**(j*k)\n",
    "        M_DFT[k,j] = M_DFT[j,k]\n",
    "U_DFT = M_DFT/np.sqrt(N_x)\n",
    "Psi_0j_p = U_DFT@Psi_0j_x"
   ]
  },
  {
   "cell_type": "code",
   "execution_count": null,
   "id": "a8b58850-9a14-4777-a02a-716106f33139",
   "metadata": {},
   "outputs": [],
   "source": [
    "%%skip_if skip_xx\n",
    "\n",
    "plt.plot(x_x,Psi_0j_x,color='orange',label=\"Ideal X-basis\")\n",
    "plt.plot(x_x,np.real(Psi_0j_p),color='green',label=\"Ideal P-basis\")\n",
    "plt.title(\"X,P-basis Representations\")\n",
    "plt.legend()\n",
    "plt.show()"
   ]
  },
  {
   "cell_type": "code",
   "execution_count": null,
   "id": "4ae1cb24-f58b-45a4-9197-5597a3c5a937",
   "metadata": {},
   "outputs": [],
   "source": [
    "%%skip_if skip_xx\n",
    "\n",
    "a_xx =     (x_xx+1j*p_xx)/root2\n",
    "a_dag_xx = (x_xx-1j*p_xx)/root2\n",
    "n_hat_xx = a_dag_xx@a_xx"
   ]
  },
  {
   "cell_type": "code",
   "execution_count": null,
   "id": "c45554f5-4111-4665-8cd8-28d68e419c71",
   "metadata": {},
   "outputs": [],
   "source": [
    "%%skip_if skip_xx\n",
    "\n",
    "q_j_xx =      np.array([alpha[0]*x_xx + beta[0]*p_xx, \n",
    "                     alpha[1]*x_xx + beta[1]*p_xx])\n",
    "q_j_perp_xx = np.array([alpha[0]*p_xx - beta[0]*x_xx,\n",
    "                     alpha[1]*p_xx - beta[1]*x_xx])\n",
    "T_i_0_xx = np.array([sp.linalg.expm(1j*q_j_xx[0]),sp.linalg.expm(1j*q_j_xx[1])])\n",
    "X_0_xx = sp.linalg.fractional_matrix_power(T_i_0_xx[0],.5) # this leads to some kind of numerical error which fails commutation\n",
    "Z_0_xx = sp.linalg.fractional_matrix_power(T_i_0_xx[1],.5) # ditto\n",
    "X_0_xx = sp.linalg.expm(1j*q_j_xx[0]/2.0)\n",
    "Z_0_xx = sp.linalg.expm(1j*q_j_xx[1]/2.0)\n",
    "Y_0_xx = sp.linalg.expm(1j*(q_j_xx[0]+q_j_xx[1])/2.0)"
   ]
  },
  {
   "cell_type": "markdown",
   "id": "41a34afe-9a51-4668-a08b-862ea70af3f7",
   "metadata": {},
   "source": [
    "### Finite"
   ]
  },
  {
   "cell_type": "code",
   "execution_count": null,
   "id": "37f5cd0e-d43a-45f6-8ff7-167475786dd3",
   "metadata": {},
   "outputs": [],
   "source": [
    "%%skip_if skip_xx\n",
    "\n",
    "E_D_xx = sp.linalg.expm(-Delta**2*n_hat_xx)\n",
    "E_D_xx_inv = np.linalg.inv(E_D_xx)\n",
    "T_i_E_xx = np.array([np.dot(E_D_xx,T_i_0_xx[0]@E_D_xx_inv), np.dot(E_D_xx,T_i_0_xx[1]@E_D_xx_inv)])\n",
    "Psi_Ej_x = E_D_xx@Psi_0j_x\n",
    "Psi_Ej_x_norm = np.sqrt(np.trace(np.outer(Psi_Ej_x,Psi_Ej_x)))\n",
    "Psi_Ej_x = Psi_Ej_x/Psi_Ej_x_norm\n",
    "Psi_Ej_p = U_DFT@Psi_Ej_x"
   ]
  },
  {
   "cell_type": "code",
   "execution_count": null,
   "id": "3a7a0deb-6547-4a5b-a451-6a53aec23887",
   "metadata": {},
   "outputs": [],
   "source": [
    "%%skip_if skip_xx\n",
    "\n",
    "plt.plot(x_x,np.real(Psi_Ej_x),color='red',label=\"Finite X-basis\")\n",
    "plt.plot(x_x,np.real(T_i_E_xx[1]@Psi_Ej_x),color='pink',label=\"+1 Eig Val on X-basis\")\n",
    "plt.plot(x_x,np.real(Psi_Ej_p),color='blue',label=\"Finite P-basis\")\n",
    "# plt.plot(x_x,np.real(T_i_E_xx[1]@Psi_Ej_p),color='cyan',label=\"+1 Eig Val on P-basis\") # TODO transform T_i_E too\n",
    "plt.title(\"X-basis Representation\")\n",
    "plt.legend()\n",
    "plt.show()"
   ]
  },
  {
   "cell_type": "markdown",
   "id": "30440db2-623f-4243-ae5d-e3b11c5cd129",
   "metadata": {},
   "source": [
    "### State Verification (X-basis)"
   ]
  },
  {
   "cell_type": "code",
   "execution_count": null,
   "id": "0c662ca5-6345-462f-8cb0-31e047f8d337",
   "metadata": {},
   "outputs": [],
   "source": [
    "%%skip_if skip_xx\n",
    "\n",
    "conj_trans = np.conjugate(a_dag_xx.T)\n",
    "lat_print(\"$a^{\\dagger} = (a)^{\\dagger}$?\")\n",
    "print(np.allclose(a_xx[N_x-10:N_x+10,N_x-10:N_x+10],conj_trans[N_x-10:N_x+10,N_x-10:N_x+10]))\n",
    "lat_print(\"$[a,a^{\\dagger}]\\sim I$?\")\n",
    "com = com_matrix(a_xx,a_dag_xx)\n",
    "row_sums = np.isclose(com.sum(axis=1),1)\n",
    "col_sums = (np.isclose(com.sum(axis=0),1))\n",
    "print(np.all(row_sums[2:N_x-2]) and np.all(col_sums[2:N_x-2]))\n",
    "# TODO: verify rest\n",
    "lat_print(\"Ideal X-basis normalized?\")\n",
    "print(np.isclose(1,np.linalg.norm(Psi_0j_x)))\n",
    "lat_print(\"Ideal P-basis normalized?\")\n",
    "print(np.isclose(1,np.linalg.norm(Psi_0j_p)))\n",
    "lat_print(\"DFT Unitary?\")\n",
    "print(np.isclose(1,np.abs(np.linalg.det(U_DFT))))\n",
    "lat_print(\"Finite X-basis normalized?\")\n",
    "print(np.isclose(1,np.linalg.norm(Psi_Ej_x)))\n",
    "lat_print(\"Finite P-basis normalized?\")\n",
    "print(np.isclose(1,np.linalg.norm(Psi_Ej_p)))"
   ]
  },
  {
   "cell_type": "code",
   "execution_count": null,
   "id": "7c8a7939-3bda-4f4d-9227-30d3f202e40d",
   "metadata": {},
   "outputs": [],
   "source": [
    "%%skip_if skip_xx\n",
    "\n",
    "x_j_xx = np.array([q_j_xx[0]/l_j[0],q_j_xx[1]/l_j[1]])\n",
    "x_j_perp_xx = np.array([q_j_perp_xx[0]/l_j[0],q_j_perp_xx[1]/l_j[1]])\n",
    "x_j_m_xx = np.array([sawtooth_fourier(x_j_xx[0],fourier_trunc,2*pi/l_j[0]),\n",
    "                     sawtooth_fourier(x_j_xx[1],fourier_trunc,2*pi/l_j[1])])\n",
    "d_j_E_xx = 1.0/root2*(x_j_m_xx/np.sqrt(t_Delta) + 1j*x_j_perp_xx*np.sqrt(t_Delta))\n",
    "d_j_E_dag_xx = np.array([np.conj(d_j_E_xx[j].T) for j in [0,1]])"
   ]
  },
  {
   "cell_type": "code",
   "execution_count": null,
   "id": "bed9dc37-499c-43c8-98fe-cbb6a51b3609",
   "metadata": {},
   "outputs": [],
   "source": [
    "%%skip_if skip_xx\n",
    "\n",
    "plt.plot(x_x,np.real(Psi_Ej_x),color='blue',label=\"Finite X\")\n",
    "plt.plot(x_x,np.real(d_j_E_xx[0]@Psi_Ej_x),color='red',label=\"Killed State 1\")\n",
    "# plt.plot(x_x,np.real(d_j_E_xx[1]@Psi_Ej_x),color='orange',label=\"Killed State 2\")\n",
    "plt.title(\"X-basis Representation\")\n",
    "plt.legend()\n",
    "plt.show()"
   ]
  },
  {
   "cell_type": "markdown",
   "id": "bd773ee0-fae5-47c4-8a80-be3ea1f9d1c5",
   "metadata": {},
   "source": [
    "### Markovian Dynamics"
   ]
  },
  {
   "cell_type": "code",
   "execution_count": null,
   "id": "dcb828d7-5c9a-4b2e-b3f0-da42d3587489",
   "metadata": {},
   "outputs": [],
   "source": [
    "%%skip_if skip_xx\n",
    "\n",
    "H_E_n_xx = np.sqrt(Gamma)*(np.kron(d_j_E_xx[0],b_dag_k) + np.kron(d_j_E_dag_xx[0],b_k))\n",
    "U_n_xx = sp.linalg.expm(-1j*np.sqrt(dt)*H_E_n_xx)"
   ]
  },
  {
   "cell_type": "markdown",
   "id": "6e757c5b-a333-4b05-b645-30c4e60c7df5",
   "metadata": {},
   "source": [
    "### Control Schemes"
   ]
  },
  {
   "cell_type": "code",
   "execution_count": null,
   "id": "f0fb0351-a44f-491d-a793-7b93fc77eb65",
   "metadata": {},
   "outputs": [],
   "source": [
    "%%skip_if skip_xx\n",
    "\n",
    "Psi_Ej_xp = np.kron(Psi_Ej_x,plus.T).flatten()"
   ]
  },
  {
   "cell_type": "code",
   "execution_count": null,
   "id": "0105e019-2357-4e6f-af58-de70a03482c4",
   "metadata": {},
   "outputs": [],
   "source": [
    "%%skip_if skip_xx\n",
    "\n",
    "CD_A_xx = np.array([CD_xx(epsilon_j[j]*np.exp(1j*theta_j[j])) for j in [0,1]])\n",
    "CD_B_xx = np.array([CD_xx(-1j*(alpha[j]+1j*beta[j])*c_Delta) for j in [0,1]])\n",
    "CD_A2_xx = np.array([CD_xx(epsilon_j[j]*np.exp(1j*theta_j[j])/2) for j in [0,1]])\n",
    "\n",
    "U_st_1_xx = np.array([(sp.linalg.expm(-1j*epsilon_j[j]/2*np.kron(x_j_perp_xx[j],Y_01)))@\n",
    "                      (sp.linalg.expm(-1j*l_j[j]*c_Delta/2*np.kron(x_j_xx[j],X_01))) for j in [0,1]])\n",
    "U_st_2_xx = np.array([(sp.linalg.expm(-1j*l_j[j]*c_Delta/2*np.kron(x_j_xx[j],X_01)))@\n",
    "                      (sp.linalg.expm(-1j*epsilon_j[j]/2*np.kron(x_j_perp_xx[j],Y_01))) for j in [0,1]])\n",
    "\n",
    "U_ST_1_xx = np.array([CD_A_xx[j]@(\n",
    "                   np.kron(np.eye(N_x),np.conj(R_x(pi/2).T))@\n",
    "                   CD_B_xx[j]) for j in [0,1]])\n",
    "U_ST_2_xx = np.array([CD_B_xx[j]@(\n",
    "                    np.kron(np.eye(N_x),R_x(pi/2))@\n",
    "                    CD_A_xx[j]) for j in [0,1]])\n",
    "\n",
    "U_sBs_xx = np.array([CD_A2_xx[j]@(\n",
    "                    np.kron(np.eye(N_x),R_x(pi/2))@(\n",
    "                    CD_B_xx[j]@(\n",
    "                    np.kron(np.eye(N_x),np.conj(R_x(pi/2).T))@\n",
    "                    CD_A2_xx[j])))for j in [0,1]])"
   ]
  },
  {
   "cell_type": "markdown",
   "id": "dbbb35e8-7dd0-4f5d-89bd-70f9c9af89fc",
   "metadata": {},
   "source": [
    "## Verifying"
   ]
  },
  {
   "cell_type": "code",
   "execution_count": null,
   "id": "76678edb-f290-4a33-97ce-78147f036aed",
   "metadata": {},
   "outputs": [],
   "source": [
    "def expect(op,state):\n",
    "    if state.shape == op.shape:\n",
    "        return np.trace(op@state)\n",
    "    else:\n",
    "        return np.dot(np.conj(state.T),op@state).flatten()\n",
    "def dm2ket(dmi):\n",
    "    U, S, Vh = np.linalg.svd(dmi)\n",
    "    if not (np.isclose(1,S[0]) and np.allclose(np.conj(dmi.T),dmi)):\n",
    "        print(\"States entangled. No simple tensor factoring.\")\n",
    "        return None\n",
    "    return -np.conj(Vh[0,:]).T\n",
    "def ptrace_b(dmi,n1,n2):\n",
    "    new_mat = np.zeros((n1,n1),dtype=complex)\n",
    "    I_n1 = np.eye(n1)\n",
    "    for i in range(n2):\n",
    "        vec = np.zeros((n2,1))\n",
    "        vec[i] = 1\n",
    "        new_mat += np.kron(I_n1,vec.T)@(dmi@np.kron(I_n1,vec))\n",
    "    return new_mat\n",
    "def remove_ancilla(state,Ni):\n",
    "    state_2 = state.flatten()\n",
    "    dmi = np.outer(state_2,np.conj(state_2))\n",
    "    dm_clean = ptrace_b(dmi,Ni,2)\n",
    "    return dm2ket(dm_clean)\n",
    "def rk4_master(rhoi, dti):\n",
    "    k1 = dti*master(rhoi)\n",
    "    k2 = dti*master(rhoi+k1/2.)\n",
    "    k3 = dti*master(rhoi+k2/2.)\n",
    "    k4 = dti*master(rhoi+k3)\n",
    "    rhoi = rhoi + 1./6*(k1+2*k2+2*k3+k4)\n",
    "    return rhoi"
   ]
  },
  {
   "cell_type": "markdown",
   "id": "6f5c1213-73ca-492b-86b8-19913d73559d",
   "metadata": {},
   "source": [
    "#### Master Equation Evolution"
   ]
  },
  {
   "cell_type": "code",
   "execution_count": null,
   "id": "7b9f9751-31fd-44a8-818e-e805237c68c1",
   "metadata": {},
   "outputs": [],
   "source": [
    "state_1_aa = np.zeros((N,1))\n",
    "state_1_aa[8] = 1\n",
    "dm_aa = np.outer(state_1_aa,np.conj(state_1_aa))\n",
    "n_t_master = []\n",
    "delta_t = .0001\n",
    "times = np.arange(0,1,delta_t)\n",
    "for ti in times:\n",
    "    n_t_master.append(expect(n_hat_aa,dm_aa))\n",
    "    dm_aa = rk4_master(dm_aa,delta_t)\n",
    "    tr = np.trace(dm_aa)\n",
    "    dm_aa = dm_aa/tr\n",
    "plt.plot(times,np.real(n_t_master),label=\"Population\")\n",
    "plt.xlabel(\"Time\")\n",
    "plt.ylabel(\"$\\langle n \\\\rangle$\")\n",
    "plt.show()"
   ]
  },
  {
   "cell_type": "markdown",
   "id": "851acd86-cdb8-4065-9e95-7f9a48cb0ead",
   "metadata": {},
   "source": [
    "#### Unitary Evolution"
   ]
  },
  {
   "cell_type": "code",
   "execution_count": null,
   "id": "0ce11500-fe90-4d86-ab11-2e10d8ff98a9",
   "metadata": {},
   "outputs": [],
   "source": [
    "times = np.arange(0,10,dt)\n",
    "dm_01 = np.outer(ket0,ket0)\n",
    "dm_sys_aa01 = np.kron(dm_aa,dm_01)\n",
    "n_t = []\n",
    "for ti in times:\n",
    "    dm_gkp_aa = ptrace_b(dm_sys_aa01,N,2) # kill ancilla qubit\n",
    "    n_t.append(expect(n_hat_aa,dm_gkp_aa))\n",
    "    dm_sys_aa01 = np.kron(dm_gkp_aa,dm_01) # reset ancilla\n",
    "    dm_sys_aa01 = U_n_aa01@(dm_sys_aa01@U_n_dag_aa01)\n",
    "    dm_sys_aa01 = dm_sys_aa01/np.trace(dm_sys_aa01)"
   ]
  },
  {
   "cell_type": "code",
   "execution_count": null,
   "id": "4a3a325b-2a0e-449f-a703-a310b1256561",
   "metadata": {},
   "outputs": [],
   "source": [
    "plt.plot(times,np.real(n_t),label=\"Population\")\n",
    "plt.xlabel(\"Time\")\n",
    "plt.ylabel(\"$\\langle n \\\\rangle$\")\n",
    "plt.show()"
   ]
  },
  {
   "cell_type": "code",
   "execution_count": null,
   "id": "25eb535d-ada3-4da8-b2f8-9a60a4d2d8ca",
   "metadata": {},
   "outputs": [],
   "source": [
    "lat_print(\"$\\langle i | a| i\\\\rangle_x = 0$?\")\n",
    "print(np.isclose(0,np.real(expect(a_xx,Psi_Ej_x))))\n",
    "lat_print(f\"$\\Gamma = {np.round(Gamma,3)}$\")\n",
    "lat_print(f\"$\\delta t = {np.round(dt,3)}$\")"
   ]
  }
 ],
 "metadata": {
  "kernelspec": {
   "display_name": "Python 3 (ipykernel)",
   "language": "python",
   "name": "python3"
  },
  "language_info": {
   "codemirror_mode": {
    "name": "ipython",
    "version": 3
   },
   "file_extension": ".py",
   "mimetype": "text/x-python",
   "name": "python",
   "nbconvert_exporter": "python",
   "pygments_lexer": "ipython3",
   "version": "3.9.18"
  }
 },
 "nbformat": 4,
 "nbformat_minor": 5
}
