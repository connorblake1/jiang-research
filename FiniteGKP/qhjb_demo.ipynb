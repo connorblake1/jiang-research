{
 "cells": [
  {
   "cell_type": "markdown",
   "metadata": {},
   "source": [
    "# Quantum Hamilton-Jacobi-Bellman Solving"
   ]
  },
  {
   "cell_type": "code",
   "execution_count": 1,
   "metadata": {},
   "outputs": [],
   "source": [
    "import jax.numpy as jnp\n",
    "import jax\n",
    "import matplotlib.pyplot as plt\n",
    "import diffrax as dx\n",
    "import equinox as eqx\n",
    "import dynamiqs as dq\n",
    "from jaxpulse.controllers import *\n",
    "from jaxpulse.optimizers import *\n",
    "from jaxpulse.bilinear import *"
   ]
  },
  {
   "cell_type": "code",
   "execution_count": null,
   "metadata": {},
   "outputs": [],
   "source": []
  },
  {
   "cell_type": "code",
   "execution_count": 2,
   "metadata": {},
   "outputs": [],
   "source": [
    "rerun_baseline = False"
   ]
  },
  {
   "cell_type": "markdown",
   "metadata": {},
   "source": [
    "### Baseline Gaussian"
   ]
  },
  {
   "cell_type": "code",
   "execution_count": 3,
   "metadata": {},
   "outputs": [],
   "source": [
    "if rerun_baseline:\n",
    "    t1 = 10.\n",
    "    t0 = 0.\n",
    "    flipper = ClosedQuantumSystem(\n",
    "        H_0=dq.eye(2),\n",
    "        H_M=[dq.sigmax()]\n",
    "    )\n",
    "    flip_control = ControlVector([\n",
    "        GaussianControl.std(amp=1.0,mean=t1/2,sigma=1.)\n",
    "    ])"
   ]
  },
  {
   "cell_type": "code",
   "execution_count": 4,
   "metadata": {},
   "outputs": [],
   "source": [
    "if rerun_baseline:\n",
    "    proj1 = dq.fock_dm(2,1)\n",
    "    flip_opt = OptimalController(\n",
    "        system=flipper,\n",
    "        controls=flip_control,\n",
    "        duration=t1,\n",
    "        y_final=lambda y: 0,\n",
    "        y_statewise=lambda y, u, t: jnp.dot(u,u).squeeze() + 1-dq.expect(proj1,y),\n",
    "        y0=dq.fock(2,0)\n",
    "    )"
   ]
  },
  {
   "cell_type": "code",
   "execution_count": 5,
   "metadata": {},
   "outputs": [],
   "source": [
    "if rerun_baseline:\n",
    "    flip_opt = flip_opt.optimize(\n",
    "        N_steps=45,\n",
    "        learning_rate=.1,\n",
    "        verbosity=2)"
   ]
  },
  {
   "cell_type": "code",
   "execution_count": 6,
   "metadata": {},
   "outputs": [],
   "source": [
    "if rerun_baseline:\n",
    "    fig,ax = plt.subplots()\n",
    "    flip_opt.plot(\n",
    "        ax=ax,\n",
    "        exp_ops=[dq.sigmaz()],\n",
    "        exp_names=[\"<Z>\"]\n",
    "    )\n",
    "    ax.legend()"
   ]
  },
  {
   "cell_type": "markdown",
   "metadata": {},
   "source": [
    "### HJB Implementation"
   ]
  },
  {
   "cell_type": "code",
   "execution_count": 7,
   "metadata": {},
   "outputs": [],
   "source": [
    "from jaxpulse.bilinear import *\n",
    "import dynamiqs as dq\n",
    "import jax.numpy as jnp"
   ]
  },
  {
   "cell_type": "code",
   "execution_count": 8,
   "metadata": {},
   "outputs": [],
   "source": [
    "# example from paper\n",
    "A = jnp.array([\n",
    "    [13./6,5./12],\n",
    "    [-50./3,-8./3],\n",
    "],dtype=complex)\n",
    "B = jnp.array([[-1./8],[0.]],dtype=complex)\n",
    "F = 1000.*dq.eye(2)\n",
    "Q = 10.*dq.eye(2)\n",
    "R = dq.eye(1)\n",
    "H = jnp.zeros((2,2,1),dtype=complex)\n",
    "H = H.at[:,0,:].set(jnp.array([[-1.],[0.]],dtype=complex))\n",
    "H = H.at[:,1,:].set(jnp.array([[0.0],[0.0]],dtype=complex))\n",
    "\n",
    "t1 = 10.0\n",
    "Nt=1_000_000\n"
   ]
  },
  {
   "cell_type": "code",
   "execution_count": 9,
   "metadata": {},
   "outputs": [],
   "source": [
    "bc = QuantumBilinearController(\n",
    "    A=A,\n",
    "    B=B,\n",
    "    F=F,\n",
    "    Q=Q,\n",
    "    R=R,\n",
    "    H=H,\n",
    "    Nt=Nt,\n",
    "    t1=t1,\n",
    "    dt0=.005\n",
    ")"
   ]
  },
  {
   "cell_type": "code",
   "execution_count": 10,
   "metadata": {},
   "outputs": [
    {
     "name": "stderr",
     "output_type": "stream",
     "text": [
      "/home/cjblake/miniconda3/envs/jiang/lib/python3.12/site-packages/equinox/_jit.py:51: UserWarning: Complex dtype support is work in progress, please read https://github.com/patrick-kidger/diffrax/pull/197 and proceed carefully.\n",
      "  out = fun(*args, **kwargs)\n",
      "/home/cjblake/miniconda3/envs/jiang/lib/python3.12/site-packages/equinox/_jit.py:51: UserWarning: Complex dtype support is work in progress, please read https://github.com/patrick-kidger/diffrax/pull/197 and proceed carefully.\n",
      "  out = fun(*args, **kwargs)\n",
      "/home/cjblake/miniconda3/envs/jiang/lib/python3.12/site-packages/jax/_src/ops/scatter.py:92: FutureWarning: scatter inputs have incompatible types: cannot safely cast value from dtype=complex64 to dtype=float32 with jax_numpy_dtype_promotion='standard'. In future JAX releases this will result in an error.\n",
      "  warnings.warn(\n",
      "/home/cjblake/miniconda3/envs/jiang/lib/python3.12/site-packages/jax/_src/ops/scatter.py:134: ComplexWarning: Casting complex values to real discards the imaginary part\n",
      "  return lax_internal._convert_element_type(out, dtype, weak_type)\n"
     ]
    },
    {
     "name": "stdout",
     "output_type": "stream",
     "text": [
      "(2000, 2, 1) (2000, 1) (2, 1)\n"
     ]
    },
    {
     "ename": "ValueError",
     "evalue": "Einstein sum subscript 'k' does not contain the correct number of indices for operand 0.",
     "output_type": "error",
     "traceback": [
      "\u001b[0;31m---------------------------------------------------------------------------\u001b[0m",
      "\u001b[0;31mValueError\u001b[0m                                Traceback (most recent call last)",
      "Cell \u001b[0;32mIn[10], line 2\u001b[0m\n\u001b[1;32m      1\u001b[0m x0\u001b[38;5;241m=\u001b[39mjnp\u001b[38;5;241m.\u001b[39marray([[\u001b[38;5;241m.15\u001b[39m],[\u001b[38;5;241m0.\u001b[39m]],dtype\u001b[38;5;241m=\u001b[39m\u001b[38;5;28mcomplex\u001b[39m)\n\u001b[0;32m----> 2\u001b[0m xr, ur, ts \u001b[38;5;241m=\u001b[39m \u001b[43mbc\u001b[49m\u001b[38;5;241;43m.\u001b[39;49m\u001b[43msolve\u001b[49m\u001b[43m(\u001b[49m\n\u001b[1;32m      3\u001b[0m \u001b[43m    \u001b[49m\u001b[43mx0\u001b[49m\u001b[38;5;241;43m=\u001b[39;49m\u001b[43mx0\u001b[49m\u001b[43m)\u001b[49m\n",
      "    \u001b[0;31m[... skipping hidden 1 frame]\u001b[0m\n",
      "File \u001b[0;32m~/Documents/GitHub/jiang-research/FiniteGKP/jaxpulse/bilinear.py:148\u001b[0m, in \u001b[0;36mQuantumBilinearController.solve\u001b[0;34m(self, x0, N_its)\u001b[0m\n\u001b[1;32m    145\u001b[0m x_0_t \u001b[38;5;241m=\u001b[39m jnp\u001b[38;5;241m.\u001b[39marray([x_k_t(ti) \u001b[38;5;28;01mfor\u001b[39;00m ti \u001b[38;5;129;01min\u001b[39;00m ts])\n\u001b[1;32m    146\u001b[0m x_res \u001b[38;5;241m=\u001b[39m x_res\u001b[38;5;241m.\u001b[39mat[\u001b[38;5;241m0\u001b[39m,:,:]\u001b[38;5;241m.\u001b[39mset(x_0_t\u001b[38;5;241m.\u001b[39mreshape((Nt,\u001b[38;5;241m-\u001b[39m\u001b[38;5;241m1\u001b[39m)))\n\u001b[0;32m--> 148\u001b[0m \u001b[38;5;28;43mself\u001b[39;49m\u001b[38;5;241;43m.\u001b[39;49m\u001b[43mcompute_J\u001b[49m\u001b[43m(\u001b[49m\u001b[43mx_0_t\u001b[49m\u001b[43m,\u001b[49m\u001b[43m \u001b[49m\u001b[43mu_res\u001b[49m\u001b[43m[\u001b[49m\u001b[38;5;241;43m0\u001b[39;49m\u001b[43m,\u001b[49m\u001b[43m:\u001b[49m\u001b[43m,\u001b[49m\u001b[43m:\u001b[49m\u001b[43m]\u001b[49m\u001b[43m,\u001b[49m\u001b[43mts\u001b[49m\u001b[43m)\u001b[49m\n\u001b[1;32m    150\u001b[0m x_k_t \u001b[38;5;241m=\u001b[39m \u001b[38;5;28mself\u001b[39m\u001b[38;5;241m.\u001b[39mx_prop(x0\u001b[38;5;241m=\u001b[39mx0, field\u001b[38;5;241m=\u001b[39minitial_field)\n\u001b[1;32m    151\u001b[0m x_1_t \u001b[38;5;241m=\u001b[39m jnp\u001b[38;5;241m.\u001b[39marray([x_k_t(ti) \u001b[38;5;28;01mfor\u001b[39;00m ti \u001b[38;5;129;01min\u001b[39;00m ts])\n",
      "    \u001b[0;31m[... skipping hidden 1 frame]\u001b[0m\n",
      "File \u001b[0;32m~/Documents/GitHub/jiang-research/FiniteGKP/jaxpulse/bilinear.py:110\u001b[0m, in \u001b[0;36mQuantumBilinearController.compute_J\u001b[0;34m(self, xt, ut, ts)\u001b[0m\n\u001b[1;32m    108\u001b[0m Jf \u001b[38;5;241m=\u001b[39m \u001b[38;5;241m.5\u001b[39m\u001b[38;5;241m*\u001b[39mjnp\u001b[38;5;241m.\u001b[39meinsum(\u001b[38;5;124m\"\u001b[39m\u001b[38;5;124mi,ij,j->\u001b[39m\u001b[38;5;124m\"\u001b[39m,jnp\u001b[38;5;241m.\u001b[39msqueeze(xt[\u001b[38;5;241m-\u001b[39m\u001b[38;5;241m1\u001b[39m,:]),\u001b[38;5;28mself\u001b[39m\u001b[38;5;241m.\u001b[39mF,jnp\u001b[38;5;241m.\u001b[39msqueeze(xt[\u001b[38;5;241m-\u001b[39m\u001b[38;5;241m1\u001b[39m,:]))\n\u001b[1;32m    109\u001b[0m Jt \u001b[38;5;241m=\u001b[39m jax\u001b[38;5;241m.\u001b[39mvmap(\u001b[38;5;28;01mlambda\u001b[39;00m xti, uti: \u001b[38;5;241m.5\u001b[39m\u001b[38;5;241m*\u001b[39mjnp\u001b[38;5;241m.\u001b[39meinsum(\u001b[38;5;124m\"\u001b[39m\u001b[38;5;124mi,ij,j->\u001b[39m\u001b[38;5;124m\"\u001b[39m,jnp\u001b[38;5;241m.\u001b[39msqueeze(xti),\u001b[38;5;28mself\u001b[39m\u001b[38;5;241m.\u001b[39mQ,jnp\u001b[38;5;241m.\u001b[39msqueeze(xti)) \u001b[38;5;241m+\u001b[39m \u001b[38;5;241m.5\u001b[39m\u001b[38;5;241m*\u001b[39mjnp\u001b[38;5;241m.\u001b[39meinsum(\u001b[38;5;124m\"\u001b[39m\u001b[38;5;124mk,kl,l->\u001b[39m\u001b[38;5;124m\"\u001b[39m,jnp\u001b[38;5;241m.\u001b[39msqueeze(uti),\u001b[38;5;28mself\u001b[39m\u001b[38;5;241m.\u001b[39mR,jnp\u001b[38;5;241m.\u001b[39msqueeze(uti)), in_axes\u001b[38;5;241m=\u001b[39m(\u001b[38;5;241m0\u001b[39m,\u001b[38;5;241m0\u001b[39m))\n\u001b[0;32m--> 110\u001b[0m Jt_integrate \u001b[38;5;241m=\u001b[39m jax\u001b[38;5;241m.\u001b[39mscipy\u001b[38;5;241m.\u001b[39mintegrate\u001b[38;5;241m.\u001b[39mtrapezoid(\u001b[43mJt\u001b[49m\u001b[43m(\u001b[49m\u001b[43mxt\u001b[49m\u001b[43m,\u001b[49m\u001b[43m \u001b[49m\u001b[43mut\u001b[49m\u001b[43m)\u001b[49m, ts)\n\u001b[1;32m    111\u001b[0m \u001b[38;5;28mprint\u001b[39m(\u001b[38;5;124mf\u001b[39m\u001b[38;5;124m\"\u001b[39m\u001b[38;5;132;01m{\u001b[39;00mJf\u001b[38;5;132;01m=}\u001b[39;00m\u001b[38;5;124m,\u001b[39m\u001b[38;5;132;01m{\u001b[39;00mJt_integrate\u001b[38;5;132;01m=}\u001b[39;00m\u001b[38;5;124m Total J=\u001b[39m\u001b[38;5;132;01m{\u001b[39;00mJt_integrate\u001b[38;5;241m+\u001b[39mJf\u001b[38;5;132;01m}\u001b[39;00m\u001b[38;5;124m\"\u001b[39m)\n",
      "    \u001b[0;31m[... skipping hidden 3 frame]\u001b[0m\n",
      "File \u001b[0;32m~/Documents/GitHub/jiang-research/FiniteGKP/jaxpulse/bilinear.py:109\u001b[0m, in \u001b[0;36mQuantumBilinearController.compute_J.<locals>.<lambda>\u001b[0;34m(xti, uti)\u001b[0m\n\u001b[1;32m    107\u001b[0m \u001b[38;5;28mprint\u001b[39m(xt\u001b[38;5;241m.\u001b[39mshape, ut\u001b[38;5;241m.\u001b[39mshape, xt[\u001b[38;5;241m-\u001b[39m\u001b[38;5;241m1\u001b[39m,:]\u001b[38;5;241m.\u001b[39mshape)\n\u001b[1;32m    108\u001b[0m Jf \u001b[38;5;241m=\u001b[39m \u001b[38;5;241m.5\u001b[39m\u001b[38;5;241m*\u001b[39mjnp\u001b[38;5;241m.\u001b[39meinsum(\u001b[38;5;124m\"\u001b[39m\u001b[38;5;124mi,ij,j->\u001b[39m\u001b[38;5;124m\"\u001b[39m,jnp\u001b[38;5;241m.\u001b[39msqueeze(xt[\u001b[38;5;241m-\u001b[39m\u001b[38;5;241m1\u001b[39m,:]),\u001b[38;5;28mself\u001b[39m\u001b[38;5;241m.\u001b[39mF,jnp\u001b[38;5;241m.\u001b[39msqueeze(xt[\u001b[38;5;241m-\u001b[39m\u001b[38;5;241m1\u001b[39m,:]))\n\u001b[0;32m--> 109\u001b[0m Jt \u001b[38;5;241m=\u001b[39m jax\u001b[38;5;241m.\u001b[39mvmap(\u001b[38;5;28;01mlambda\u001b[39;00m xti, uti: \u001b[38;5;241m.5\u001b[39m\u001b[38;5;241m*\u001b[39mjnp\u001b[38;5;241m.\u001b[39meinsum(\u001b[38;5;124m\"\u001b[39m\u001b[38;5;124mi,ij,j->\u001b[39m\u001b[38;5;124m\"\u001b[39m,jnp\u001b[38;5;241m.\u001b[39msqueeze(xti),\u001b[38;5;28mself\u001b[39m\u001b[38;5;241m.\u001b[39mQ,jnp\u001b[38;5;241m.\u001b[39msqueeze(xti)) \u001b[38;5;241m+\u001b[39m \u001b[38;5;241m.5\u001b[39m\u001b[38;5;241m*\u001b[39m\u001b[43mjnp\u001b[49m\u001b[38;5;241;43m.\u001b[39;49m\u001b[43meinsum\u001b[49m\u001b[43m(\u001b[49m\u001b[38;5;124;43m\"\u001b[39;49m\u001b[38;5;124;43mk,kl,l->\u001b[39;49m\u001b[38;5;124;43m\"\u001b[39;49m\u001b[43m,\u001b[49m\u001b[43mjnp\u001b[49m\u001b[38;5;241;43m.\u001b[39;49m\u001b[43msqueeze\u001b[49m\u001b[43m(\u001b[49m\u001b[43muti\u001b[49m\u001b[43m)\u001b[49m\u001b[43m,\u001b[49m\u001b[38;5;28;43mself\u001b[39;49m\u001b[38;5;241;43m.\u001b[39;49m\u001b[43mR\u001b[49m\u001b[43m,\u001b[49m\u001b[43mjnp\u001b[49m\u001b[38;5;241;43m.\u001b[39;49m\u001b[43msqueeze\u001b[49m\u001b[43m(\u001b[49m\u001b[43muti\u001b[49m\u001b[43m)\u001b[49m\u001b[43m)\u001b[49m, in_axes\u001b[38;5;241m=\u001b[39m(\u001b[38;5;241m0\u001b[39m,\u001b[38;5;241m0\u001b[39m))\n\u001b[1;32m    110\u001b[0m Jt_integrate \u001b[38;5;241m=\u001b[39m jax\u001b[38;5;241m.\u001b[39mscipy\u001b[38;5;241m.\u001b[39mintegrate\u001b[38;5;241m.\u001b[39mtrapezoid(Jt(xt, ut), ts)\n\u001b[1;32m    111\u001b[0m \u001b[38;5;28mprint\u001b[39m(\u001b[38;5;124mf\u001b[39m\u001b[38;5;124m\"\u001b[39m\u001b[38;5;132;01m{\u001b[39;00mJf\u001b[38;5;132;01m=}\u001b[39;00m\u001b[38;5;124m,\u001b[39m\u001b[38;5;132;01m{\u001b[39;00mJt_integrate\u001b[38;5;132;01m=}\u001b[39;00m\u001b[38;5;124m Total J=\u001b[39m\u001b[38;5;132;01m{\u001b[39;00mJt_integrate\u001b[38;5;241m+\u001b[39mJf\u001b[38;5;132;01m}\u001b[39;00m\u001b[38;5;124m\"\u001b[39m)\n",
      "File \u001b[0;32m~/miniconda3/envs/jiang/lib/python3.12/site-packages/jax/_src/numpy/lax_numpy.py:6369\u001b[0m, in \u001b[0;36meinsum\u001b[0;34m(subscripts, out, optimize, precision, preferred_element_type, _dot_general, *operands)\u001b[0m\n\u001b[1;32m   6367\u001b[0m   contract_path \u001b[38;5;241m=\u001b[39m _poly_einsum_handlers\u001b[38;5;241m.\u001b[39mget(ty, _default_poly_einsum_handler)\n\u001b[1;32m   6368\u001b[0m \u001b[38;5;66;03m# using einsum_call=True here is an internal api for opt_einsum... sorry\u001b[39;00m\n\u001b[0;32m-> 6369\u001b[0m operands, contractions \u001b[38;5;241m=\u001b[39m \u001b[43mcontract_path\u001b[49m\u001b[43m(\u001b[49m\n\u001b[1;32m   6370\u001b[0m \u001b[43m      \u001b[49m\u001b[38;5;241;43m*\u001b[39;49m\u001b[43moperands\u001b[49m\u001b[43m,\u001b[49m\u001b[43m \u001b[49m\u001b[43meinsum_call\u001b[49m\u001b[38;5;241;43m=\u001b[39;49m\u001b[38;5;28;43;01mTrue\u001b[39;49;00m\u001b[43m,\u001b[49m\u001b[43m \u001b[49m\u001b[43muse_blas\u001b[49m\u001b[38;5;241;43m=\u001b[39;49m\u001b[38;5;28;43;01mTrue\u001b[39;49;00m\u001b[43m,\u001b[49m\u001b[43m \u001b[49m\u001b[43moptimize\u001b[49m\u001b[38;5;241;43m=\u001b[39;49m\u001b[43mpath_type\u001b[49m\u001b[43m)\u001b[49m\n\u001b[1;32m   6372\u001b[0m contractions \u001b[38;5;241m=\u001b[39m \u001b[38;5;28mtuple\u001b[39m((a, \u001b[38;5;28mfrozenset\u001b[39m(b), c) \u001b[38;5;28;01mfor\u001b[39;00m a, b, c, \u001b[38;5;241m*\u001b[39m_ \u001b[38;5;129;01min\u001b[39;00m contractions)\n\u001b[1;32m   6374\u001b[0m einsum \u001b[38;5;241m=\u001b[39m jit(_einsum, static_argnums\u001b[38;5;241m=\u001b[39m(\u001b[38;5;241m1\u001b[39m, \u001b[38;5;241m2\u001b[39m, \u001b[38;5;241m3\u001b[39m, \u001b[38;5;241m4\u001b[39m), inline\u001b[38;5;241m=\u001b[39m\u001b[38;5;28;01mTrue\u001b[39;00m)\n",
      "File \u001b[0;32m~/miniconda3/envs/jiang/lib/python3.12/site-packages/opt_einsum/contract.py:228\u001b[0m, in \u001b[0;36mcontract_path\u001b[0;34m(*operands, **kwargs)\u001b[0m\n\u001b[1;32m    225\u001b[0m sh \u001b[38;5;241m=\u001b[39m input_shps[tnum]\n\u001b[1;32m    227\u001b[0m \u001b[38;5;28;01mif\u001b[39;00m \u001b[38;5;28mlen\u001b[39m(sh) \u001b[38;5;241m!=\u001b[39m \u001b[38;5;28mlen\u001b[39m(term):\n\u001b[0;32m--> 228\u001b[0m     \u001b[38;5;28;01mraise\u001b[39;00m \u001b[38;5;167;01mValueError\u001b[39;00m(\u001b[38;5;124m\"\u001b[39m\u001b[38;5;124mEinstein sum subscript \u001b[39m\u001b[38;5;124m'\u001b[39m\u001b[38;5;132;01m{}\u001b[39;00m\u001b[38;5;124m'\u001b[39m\u001b[38;5;124m does not contain the \u001b[39m\u001b[38;5;124m\"\u001b[39m\n\u001b[1;32m    229\u001b[0m                      \u001b[38;5;124m\"\u001b[39m\u001b[38;5;124mcorrect number of indices for operand \u001b[39m\u001b[38;5;132;01m{}\u001b[39;00m\u001b[38;5;124m.\u001b[39m\u001b[38;5;124m\"\u001b[39m\u001b[38;5;241m.\u001b[39mformat(input_list[tnum], tnum))\n\u001b[1;32m    230\u001b[0m \u001b[38;5;28;01mfor\u001b[39;00m cnum, char \u001b[38;5;129;01min\u001b[39;00m \u001b[38;5;28menumerate\u001b[39m(term):\n\u001b[1;32m    231\u001b[0m     dim \u001b[38;5;241m=\u001b[39m \u001b[38;5;28mint\u001b[39m(sh[cnum])\n",
      "\u001b[0;31mValueError\u001b[0m: Einstein sum subscript 'k' does not contain the correct number of indices for operand 0."
     ]
    }
   ],
   "source": [
    "x0=jnp.array([[.15],[0.]],dtype=complex)\n",
    "xr, ur, ts = bc.solve(\n",
    "    x0=x0)"
   ]
  },
  {
   "cell_type": "markdown",
   "metadata": {},
   "source": []
  },
  {
   "cell_type": "code",
   "execution_count": null,
   "metadata": {},
   "outputs": [],
   "source": [
    "plt.plot(ts, xr[0,:,0],label=\"No Control $x_{-1}(t)$\")\n",
    "plt.plot(ts, xr[1,:,0],label=\"Linear Control $x_{0}(t)$\")\n",
    "plt.plot(ts, ur[0,:,0],label=\"No Control $u_{-1}(t)$\")\n",
    "plt.plot(ts, ur[1,:,0],label=\"Linear Control $u(t)$\")\n",
    "for i in range(2,3):\n",
    "    plt.plot(ts, xr[i,:,0],label=\"$x_{\" + str(i) + \"}(t)$\")\n",
    "    plt.plot(ts, ur[i,:,0],label=\"$u_{\" + str(i) + \"}(t)$\")\n",
    "plt.legend()\n",
    "plt.xlabel(\"t\")\n"
   ]
  },
  {
   "cell_type": "code",
   "execution_count": null,
   "metadata": {},
   "outputs": [],
   "source": []
  }
 ],
 "metadata": {
  "kernelspec": {
   "display_name": "jiang",
   "language": "python",
   "name": "python3"
  },
  "language_info": {
   "codemirror_mode": {
    "name": "ipython",
    "version": 3
   },
   "file_extension": ".py",
   "mimetype": "text/x-python",
   "name": "python",
   "nbconvert_exporter": "python",
   "pygments_lexer": "ipython3",
   "version": "3.12.4"
  }
 },
 "nbformat": 4,
 "nbformat_minor": 2
}
