{
 "cells": [
  {
   "cell_type": "markdown",
   "metadata": {},
   "source": [
    "# JAX'd Finite GKP Simulations\n",
    "10/27/24\n"
   ]
  },
  {
   "cell_type": "markdown",
   "metadata": {},
   "source": [
    "## Setup"
   ]
  },
  {
   "cell_type": "code",
   "execution_count": 158,
   "metadata": {},
   "outputs": [],
   "source": [
    "import dynamiqs as dq\n",
    "import qutip as qt\n",
    "import jax\n",
    "from jax import jit\n",
    "from jaxtyping import Array\n",
    "from typing import List\n",
    "import ruff\n",
    "import diffrax as dx\n",
    "import jax.numpy as jnp\n",
    "import jax.scipy.linalg as jla\n",
    "import equinox as eqx\n",
    "import optax\n",
    "import numpy as np\n",
    "import scipy as sp\n",
    "import matplotlib.pyplot as plt\n",
    "from IPython.display import display, Latex, Math\n",
    "import strawberryfields as sf\n",
    "import os\n",
    "from jaxpulse.controllers import *\n",
    "from jaxpulse.optimizers import *\n",
    "os.environ[\"XLA_PYTHON_CLIENT_MEM_FRACTION\"]=\".5\""
   ]
  },
  {
   "cell_type": "code",
   "execution_count": 95,
   "metadata": {},
   "outputs": [],
   "source": [
    "jnp.set_printoptions(precision=3)\n",
    "def mat_print(array,tol=3):\n",
    "    matrix = ''\n",
    "    for row in array:\n",
    "        try:\n",
    "            for number in row:\n",
    "                matrix += f'{np.round(number,tol)}&'\n",
    "        except TypeError:\n",
    "            matrix += f'{row}&'\n",
    "        matrix = matrix[:-1] + r'\\\\'\n",
    "    display(Math(r'\\begin{bmatrix}'+matrix+r'\\end{bmatrix}'))\n",
    "def lat_print(val):\n",
    "    display(Latex(val))"
   ]
  },
  {
   "cell_type": "code",
   "execution_count": 96,
   "metadata": {},
   "outputs": [],
   "source": [
    "run_plots = False\n",
    "run_long_plots = False\n",
    "run_tests = True\n",
    "run_long_tests = False\n",
    "full_reload = False"
   ]
  },
  {
   "cell_type": "code",
   "execution_count": 97,
   "metadata": {},
   "outputs": [],
   "source": [
    "\n",
    "N = 100  # full computational\n",
    "n = 25  # truncated for viewing / verification\n",
    "hbar = 1\n",
    "root2 = jnp.sqrt(2)\n",
    "pi = jnp.pi\n",
    "def tprint(mat,tol=3):\n",
    "    mat_print(mat[:n, :n],tol=tol)"
   ]
  },
  {
   "cell_type": "code",
   "execution_count": 98,
   "metadata": {},
   "outputs": [],
   "source": [
    "\n",
    "ket0 = dq.fock(2, 0)\n",
    "ket1 = dq.fock(2, 1)\n",
    "ketplus = (ket0 + ket1) / root2\n",
    "ketminus = (ket0 - ket1) / root2\n",
    "\n",
    "I_N = dq.eye(N)\n",
    "a = dq.destroy(N)\n",
    "a_dag = dq.create(N)\n",
    "n_hat = dq.number(N)\n",
    "x = (a + a_dag) / root2\n",
    "p = -1j * (a - a_dag) / root2"
   ]
  },
  {
   "cell_type": "code",
   "execution_count": 99,
   "metadata": {},
   "outputs": [],
   "source": [
    "def R_x(theta):\n",
    "    return jla.expm(-1j*theta*dq.sigmax()/2)\n",
    "def R_z(theta):\n",
    "    return jla.expm(-1j*theta*dq.sigmaz()/2)\n",
    "def com(ai,bi):\n",
    "    return ai@bi - bi@ai\n",
    "def anticom(ai,bi):\n",
    "    return ai@bi + bi@ai\n",
    "@jit\n",
    "def sinm(ai):\n",
    "    return -.5j*(jla.expm(1j*ai) - jla.expm(-1j*ai))\n",
    "@jit\n",
    "def sawtooth_fourier(ai,mi,ni=30):\n",
    "    # a is the matrix\n",
    "    # ni is the fourier truncation\n",
    "    # mi is the half-width of the pulse\n",
    "    sum = jnp.zeros_like(ai)\n",
    "    arg_a = ai*2*jnp.pi/mi\n",
    "    for k in range(1,ni+1):\n",
    "        sum = sum + ((-1)**k)/k*sinm(arg_a*k)\n",
    "    return -mi/jnp.pi*sum\n",
    "def D(alpha_i: complex):\n",
    "    return jla.expm(alpha_i*a_dag - jnp.conj(alpha_i)*a)\n",
    "def CD(beta_i: complex):\n",
    "    return jla.expm(dq.tensor(beta_i*a_dag - jnp.conj(beta_i)*a,dq.sigmaz())/(2*root2))\n",
    "def S(xi):\n",
    "    return jla.expm(jnp.conj(xi)*(a@a)-xi*(a_dag@a_dag))"
   ]
  },
  {
   "cell_type": "code",
   "execution_count": 100,
   "metadata": {},
   "outputs": [],
   "source": [
    "if run_plots:\n",
    "    psi = dq.coherent(N, 0)\n",
    "    dq.plot.wigner(psi)\n",
    "    print(psi[:10])\n",
    "    # displacement\n",
    "    alpha_shift = 2 + 1j\n",
    "    psi_shift = D(alpha_shift) @ psi\n",
    "    print(psi_shift[:10])\n",
    "    dq.plot.wigner(psi_shift)\n",
    "\n",
    "    # controlled displacement\n",
    "    psi_cd_shift_0 = CD(2*alpha_shift) @ dq.tensor(psi,ket0)\n",
    "    dq.plot.wigner(dq.ptrace(psi_cd_shift_0,0,(N,2)))\n",
    "    psi_cd_shift_1 = CD(2*alpha_shift) @ dq.tensor(psi,ket1)\n",
    "    dq.plot.wigner(dq.ptrace(psi_cd_shift_1,0,(N,2)))\n",
    "    psi_cd_shift_p = CD(2*alpha_shift) @ dq.tensor(psi,ketminus)\n",
    "    dq.plot.wigner(dq.ptrace(psi_cd_shift_p,0,(N,2)))\n",
    "\n",
    "    # squeezing\n",
    "    psi_squeeze_0 = S(.2j) @ psi\n",
    "    dq.plot.wigner(psi_squeeze_0)\n",
    "  "
   ]
  },
  {
   "cell_type": "markdown",
   "metadata": {},
   "source": [
    "## Exact GKP Variables"
   ]
  },
  {
   "cell_type": "code",
   "execution_count": 101,
   "metadata": {},
   "outputs": [],
   "source": [
    "\n",
    "l = 2 * jnp.sqrt(pi)\n",
    "alpha = l * jnp.array([0, 1])\n",
    "beta = l * jnp.array([-1, 0])\n",
    "l_j = jnp.array(\n",
    "    [\n",
    "        jnp.sqrt(alpha[0] ** 2 + beta[0] ** 2),\n",
    "        jnp.sqrt(alpha[1] ** 2 + beta[1] ** 2),\n",
    "    ]\n",
    ")\n",
    "q_j = jnp.array(\n",
    "    [\n",
    "        alpha[0] * x + beta[0] * p,\n",
    "        alpha[1] * x + beta[1] * p,\n",
    "    ]\n",
    ")\n",
    "q_j_perp = jnp.array(\n",
    "    [\n",
    "        alpha[0] *p - beta[0] * x,\n",
    "        alpha[1] * p - beta[1] * x,\n",
    "    ]\n",
    ")\n",
    "omega_12 = alpha[0] * beta[1] - beta[0] * alpha[1]\n",
    "T_j_0 = jnp.array(\n",
    "    [\n",
    "        jla.expm(1j * q_j[0]),\n",
    "        jla.expm(1j * q_j[1]),\n",
    "    ]\n",
    ")\n",
    "X_0 = jla.expm(1j*q_j[0]/2.)\n",
    "Z_0 = jla.expm(1j*q_j[1]/2.)\n",
    "Y_0 = jla.expm(1j*(q_j[0]+q_j[1])/2.)\n",
    "x_j = jnp.array(\n",
    "    [\n",
    "        q_j[0]/l_j[0],\n",
    "        q_j[1]/l_j[1]\n",
    "    ] \n",
    ")\n",
    "x_j_perp = jnp.array(\n",
    "    [ \n",
    "        q_j_perp[0]/l_j[0],\n",
    "        q_j_perp[1]/l_j[1]\n",
    "    ]\n",
    ")"
   ]
  },
  {
   "cell_type": "code",
   "execution_count": 102,
   "metadata": {},
   "outputs": [],
   "source": [
    "\n",
    "if full_reload:\n",
    "    x_j_m = jnp.array(\n",
    "        [\n",
    "            sawtooth_fourier(x_j[0],2*pi/l_j[0]),\n",
    "            sawtooth_fourier(x_j[1],2*pi/l_j[1])\n",
    "        ]\n",
    "    )\n",
    "    jnp.save(\"fourier_saved.npy\",np.asarray(x_j_m))\n",
    "else:\n",
    "    x_j_m = jnp.asarray(np.load(\"fourier_saved.npy\"))"
   ]
  },
  {
   "cell_type": "markdown",
   "metadata": {},
   "source": [
    "### Verification of Variables"
   ]
  },
  {
   "cell_type": "code",
   "execution_count": 103,
   "metadata": {},
   "outputs": [],
   "source": [
    "def jallclose(A,B,n=n,rtol=1e-6,atol=1e-6):\n",
    "    return jnp.allclose(A[:n, :n],B[:n, :n],atol=atol,rtol=rtol)"
   ]
  },
  {
   "cell_type": "code",
   "execution_count": 104,
   "metadata": {},
   "outputs": [
    {
     "data": {
      "text/latex": [
       "$[q_j,q_{j,perp}]= i (a_j^2 + b_j^2)$?"
      ],
      "text/plain": [
       "<IPython.core.display.Latex object>"
      ]
     },
     "metadata": {},
     "output_type": "display_data"
    },
    {
     "name": "stdout",
     "output_type": "stream",
     "text": [
      "True\n",
      "True\n"
     ]
    },
    {
     "data": {
      "text/latex": [
       "$[x_j,x_{j,perp}]= i$?"
      ],
      "text/plain": [
       "<IPython.core.display.Latex object>"
      ]
     },
     "metadata": {},
     "output_type": "display_data"
    },
    {
     "name": "stdout",
     "output_type": "stream",
     "text": [
      "True\n",
      "True\n"
     ]
    },
    {
     "data": {
      "text/latex": [
       "$T_{j,0} = e^{i q_j} = D((- b_j + i a_j) / \\sqrt{2} ) $?"
      ],
      "text/plain": [
       "<IPython.core.display.Latex object>"
      ]
     },
     "metadata": {},
     "output_type": "display_data"
    },
    {
     "name": "stdout",
     "output_type": "stream",
     "text": [
      "True\n",
      "True\n"
     ]
    },
    {
     "data": {
      "text/latex": [
       "$\\omega_{12} = 4 \\pi?$"
      ],
      "text/plain": [
       "<IPython.core.display.Latex object>"
      ]
     },
     "metadata": {},
     "output_type": "display_data"
    },
    {
     "name": "stdout",
     "output_type": "stream",
     "text": [
      "True\n"
     ]
    },
    {
     "data": {
      "text/latex": [
       "$[T_{1,0},T_{2,0}] = 0$?"
      ],
      "text/plain": [
       "<IPython.core.display.Latex object>"
      ]
     },
     "metadata": {},
     "output_type": "display_data"
    },
    {
     "name": "stdout",
     "output_type": "stream",
     "text": [
      "True\n"
     ]
    },
    {
     "data": {
      "text/latex": [
       "$X_0 = \\sqrt{T_{1,0}} = e^{iq_1/2}$?"
      ],
      "text/plain": [
       "<IPython.core.display.Latex object>"
      ]
     },
     "metadata": {},
     "output_type": "display_data"
    },
    {
     "name": "stdout",
     "output_type": "stream",
     "text": [
      "True\n"
     ]
    },
    {
     "data": {
      "text/latex": [
       "$Z_0 = \\sqrt{T_{2,0}} = e^{iq_2/2}$?"
      ],
      "text/plain": [
       "<IPython.core.display.Latex object>"
      ]
     },
     "metadata": {},
     "output_type": "display_data"
    },
    {
     "name": "stdout",
     "output_type": "stream",
     "text": [
      "True\n"
     ]
    },
    {
     "data": {
      "text/latex": [
       "$[X_0,T_{2,0}]=0$?"
      ],
      "text/plain": [
       "<IPython.core.display.Latex object>"
      ]
     },
     "metadata": {},
     "output_type": "display_data"
    },
    {
     "name": "stdout",
     "output_type": "stream",
     "text": [
      "True\n"
     ]
    },
    {
     "data": {
      "text/latex": [
       "$[X_0,T_{1,0}]=0$?"
      ],
      "text/plain": [
       "<IPython.core.display.Latex object>"
      ]
     },
     "metadata": {},
     "output_type": "display_data"
    },
    {
     "name": "stdout",
     "output_type": "stream",
     "text": [
      "True\n"
     ]
    },
    {
     "data": {
      "text/latex": [
       "$[Z_0,T_{1,0}]=0$?"
      ],
      "text/plain": [
       "<IPython.core.display.Latex object>"
      ]
     },
     "metadata": {},
     "output_type": "display_data"
    },
    {
     "name": "stdout",
     "output_type": "stream",
     "text": [
      "True\n"
     ]
    },
    {
     "data": {
      "text/latex": [
       "$[Z_0,T_{2,0}]=0$?"
      ],
      "text/plain": [
       "<IPython.core.display.Latex object>"
      ]
     },
     "metadata": {},
     "output_type": "display_data"
    },
    {
     "name": "stdout",
     "output_type": "stream",
     "text": [
      "True\n"
     ]
    },
    {
     "data": {
      "text/latex": [
       "$\\{Z_0,X_0\\}=0$?"
      ],
      "text/plain": [
       "<IPython.core.display.Latex object>"
      ]
     },
     "metadata": {},
     "output_type": "display_data"
    },
    {
     "name": "stdout",
     "output_type": "stream",
     "text": [
      "True\n"
     ]
    },
    {
     "data": {
      "text/latex": [
       "$Y_0 = -i Z_0 X_0$?"
      ],
      "text/plain": [
       "<IPython.core.display.Latex object>"
      ]
     },
     "metadata": {},
     "output_type": "display_data"
    },
    {
     "name": "stdout",
     "output_type": "stream",
     "text": [
      "True\n"
     ]
    }
   ],
   "source": [
    "if run_tests:\n",
    "    lat_print(\"$[q_j,q_{j,perp}]= i (a_j^2 + b_j^2)$?\")\n",
    "    com_0 = com(q_j[0],q_j_perp[0])\n",
    "    com_1 = com(q_j[1],q_j_perp[1])\n",
    "    print(jnp.all(jnp.isclose(jnp.diag(com_0)[:n],1j*(alpha[0]**2+beta[0]**2))))\n",
    "    print(jnp.all(jnp.isclose(jnp.diag(com_0)[:n],1j*(alpha[0]**2+beta[0]**2))))\n",
    "    lat_print(\"$[x_j,x_{j,perp}]= i$?\")\n",
    "    com_0 = com(x_j[0],x_j_perp[0])\n",
    "    com_1 = com(x_j[1],x_j_perp[1])\n",
    "    print(jnp.all(jnp.isclose(jnp.diag(com_0)[:n],1j)))\n",
    "    print(jnp.all(jnp.isclose(jnp.diag(com_0)[:n],1j)))\n",
    "    lat_print(\"$T_{j,0} = e^{i q_j} = D((- b_j + i a_j) / \\\\sqrt{2} ) $?\")\n",
    "    Dshift_0 = D((-beta[0]+1j*alpha[0])/root2)\n",
    "    Dshift_1 = D((-beta[1]+1j*alpha[1])/root2)\n",
    "    print(jallclose(T_j_0[0],Dshift_0))\n",
    "    print(jallclose(T_j_0[1],Dshift_1))\n",
    "    lat_print(\"$\\\\omega_{12} = 4 \\\\pi?$\")\n",
    "    print(jnp.isclose(omega_12,4*pi))\n",
    "    lat_print(\"$[T_{1,0},T_{2,0}] = 0$?\")\n",
    "    c0 = T_j_0[0]@T_j_0[1]\n",
    "    c1 = T_j_0[1]@T_j_0[0]\n",
    "    print(jallclose(c0,c1))\n",
    "    lat_print(\"$X_0 = \\\\sqrt{T_{1,0}} = e^{iq_1/2}$?\")\n",
    "    exp_def_0 = jla.expm(1j*q_j[0]/2.0)\n",
    "    print(jallclose(X_0,exp_def_0))\n",
    "    lat_print(\"$Z_0 = \\\\sqrt{T_{2,0}} = e^{iq_2/2}$?\")\n",
    "    exp_def_1 = jla.expm(1j*q_j[1]/2.0)\n",
    "    print(jallclose(Z_0,exp_def_1))\n",
    "    lat_print(\"$[X_0,T_{2,0}]=0$?\")\n",
    "    X_T2_com = com(X_0,T_j_0[1])\n",
    "    print(jallclose(X_T2_com,np.zeros((n,n))))\n",
    "    lat_print(\"$[X_0,T_{1,0}]=0$?\")\n",
    "    X_T1_com = com(X_0,T_j_0[0])\n",
    "    print(jallclose(X_T1_com,np.zeros((n,n))))\n",
    "    lat_print(\"$[Z_0,T_{1,0}]=0$?\")\n",
    "    Z_T1_com = com(Z_0,T_j_0[0])\n",
    "    print(jallclose(Z_T1_com,np.zeros((n,n))))\n",
    "    lat_print(\"$[Z_0,T_{2,0}]=0$?\")\n",
    "    Z_T2_com = com(Z_0,T_j_0[1])\n",
    "    print(jallclose(Z_T2_com,np.zeros((n,n))))\n",
    "    lat_print(\"$\\\\{Z_0,X_0\\\\}=0$?\")\n",
    "    X_Z_anticom = anticom(X_0,Z_0)\n",
    "    print(jallclose(X_Z_anticom,np.zeros((n,n))))\n",
    "    lat_print(\"$Y_0 = -i Z_0 X_0$?\")\n",
    "    prod = -1j*Z_0@X_0\n",
    "    print(jallclose(Y_0,prod))\n",
    "    # lat_print(\"$\\\\ln T_{j,0} = i l_j x_{j,[2\\\\pi/l_j]}$? ($\\\\pm .05$)\")\n",
    "    # eps = .05\n",
    "    # log_T_0 = jla.logm(T_j_0[0])\n",
    "    # log_T_1 = jla.logm(T_j_0[1])\n",
    "    # rhs_0 = 1j*l_j[0]*x_j_m[0]\n",
    "    # rhs_1 = 1j*l_j[1]*x_j_m[1]\n",
    "    # print(jallclose(log_T_0,rhs_0,atol=eps))\n",
    "    # print(jallclose(log_T_1,rhs_1,atol=eps))"
   ]
  },
  {
   "cell_type": "markdown",
   "metadata": {},
   "source": [
    "## Finite GKP Variables"
   ]
  },
  {
   "cell_type": "code",
   "execution_count": 105,
   "metadata": {},
   "outputs": [],
   "source": [
    "Delta = .2\n",
    "c_Delta = jnp.cosh(Delta**2)\n",
    "s_Delta = jnp.sinh(Delta**2)\n",
    "t_Delta = jnp.tanh(Delta**2)\n",
    "m_j = 2*pi/c_Delta/l_j\n",
    "E_D = jla.expm(-Delta**2*n_hat)\n",
    "E_D_plus = jla.expm(-Delta**2*(n_hat + I_N))\n",
    "E_D_minus = jla.expm(-Delta**2*(n_hat - I_N))\n",
    "E_D_inv = jla.inv(E_D)\n",
    "c_n = .5*(E_D_minus@E_D_inv + E_D_plus@E_D_inv)\n",
    "s_n = .5*(E_D_minus@E_D_inv - E_D_plus@E_D_inv)\n",
    "T_j_E = jnp.array([E_D@T_j_0[0]@E_D_inv, E_D@T_j_0[1]@E_D_inv])\n",
    "d_j_E = 1.0/root2*(x_j_m/jnp.sqrt(t_Delta) + 1j*x_j_perp*jnp.sqrt(t_Delta))\n",
    "d_j_E_dag = np.array([jnp.conj(d_j.T) for d_j in d_j_E])\n",
    "d_j_E_prod = np.array([d_j_E_dag[j]@d_j_E[j] for j in [0,1]])\n",
    "X_E = jla.expm(.5*(1j*q_j[0]*c_Delta - q_j_perp[0]*s_Delta))\n",
    "Z_E = jla.expm(.5*(1j*q_j[1]*c_Delta - q_j_perp[1]*s_Delta))\n",
    "Y_E = 1j*Z_E@X_E"
   ]
  },
  {
   "cell_type": "markdown",
   "metadata": {},
   "source": [
    "### Verification of Variables"
   ]
  },
  {
   "cell_type": "code",
   "execution_count": 106,
   "metadata": {},
   "outputs": [
    {
     "data": {
      "text/latex": [
       "$ET_{i,0}E^{-1} = e^{EqE^{-1}}$?"
      ],
      "text/plain": [
       "<IPython.core.display.Latex object>"
      ]
     },
     "metadata": {},
     "output_type": "display_data"
    },
    {
     "name": "stdout",
     "output_type": "stream",
     "text": [
      "True\n",
      "True\n"
     ]
    },
    {
     "data": {
      "text/latex": [
       "$[T_{1,E},T_{2,E}] = 0$?"
      ],
      "text/plain": [
       "<IPython.core.display.Latex object>"
      ]
     },
     "metadata": {},
     "output_type": "display_data"
    },
    {
     "name": "stdout",
     "output_type": "stream",
     "text": [
      "True\n"
     ]
    },
    {
     "data": {
      "text/latex": [
       "$T_{j,E}=e^{\\cosh(\\Delta^2)\\sinh(\\Delta^2)l_j^2/2}e^{-q_{j,perp}\\sinh(\\Delta^2)}e^{iq_j\\cosh(\\Delta^2)}$?"
      ],
      "text/plain": [
       "<IPython.core.display.Latex object>"
      ]
     },
     "metadata": {},
     "output_type": "display_data"
    },
    {
     "name": "stdout",
     "output_type": "stream",
     "text": [
      "True\n",
      "True\n"
     ]
    }
   ],
   "source": [
    "lat_print(\"$ET_{i,0}E^{-1} = e^{EqE^{-1}}$?\")\n",
    "exp_form_0 = jla.expm(1j*E_D@(q_j[0]@E_D_inv))\n",
    "print(jallclose(T_j_E[0],exp_form_0))\n",
    "exp_form_1 = jla.expm(1j*E_D@(q_j[1]@E_D_inv))\n",
    "print(jallclose(T_j_E[1],exp_form_1))\n",
    "lat_print(\"$[T_{1,E},T_{2,E}] = 0$?\")\n",
    "com_val = com(T_j_E[0],T_j_E[1])\n",
    "print(jallclose(com_val,jnp.zeros((n,n)),atol=1e-4))\n",
    "lat_print(\"$T_{j,E}=e^{\\\\cosh(\\\\Delta^2)\\\\sinh(\\\\Delta^2)l_j^2/2}e^{-q_{j,perp}\\\\sinh(\\\\Delta^2)}e^{iq_j\\\\cosh(\\\\Delta^2)}$?\")\n",
    "exp_def_0 = np.exp(c_Delta*s_Delta*l_j[0]**2/2)*(jla.expm(-q_j_perp[0]*s_Delta)@jla.expm(1j*q_j[0]))\n",
    "print(jallclose(T_j_E[0],exp_def_0,atol=.01))\n",
    "exp_def_1 = np.exp(c_Delta*s_Delta*l_j[1]**2/2)*(jla.expm(-q_j_perp[1]*s_Delta)@jla.expm(1j*q_j[1]))\n",
    "print(jallclose(T_j_E[1],exp_def_1,atol=.01))"
   ]
  },
  {
   "cell_type": "markdown",
   "metadata": {},
   "source": [
    "## Dynamics"
   ]
  },
  {
   "cell_type": "markdown",
   "metadata": {},
   "source": [
    "### Setup"
   ]
  },
  {
   "cell_type": "code",
   "execution_count": 107,
   "metadata": {},
   "outputs": [],
   "source": [
    "gamma = 1.  # free parameter\n",
    "gamma_j = jnp.array([gamma,gamma])\n",
    "T = 10\n",
    "epsilon_j = s_Delta*4*jnp.pi/l_j\n",
    "theta_j = jnp.angle(alpha+1j*beta)\n",
    "Gamma_dt = t_Delta/4*c_Delta**2*l_j**2\n",
    "dt = Gamma_dt[0]/gamma\n",
    "t_f = dt*T\n",
    "b_k = (dq.sigmax() + 1j*dq.sigmay())/2 # typo in paper\n",
    "b_dag_k = dq.dag(b_k)\n",
    "Nt = 100\n",
    "t = jnp.linspace(0,1,Nt)"
   ]
  },
  {
   "cell_type": "code",
   "execution_count": 15,
   "metadata": {},
   "outputs": [],
   "source": [
    "H_idle = dq.tensor(dq.eye(N),dq.eye(2))\n",
    "H_E_n = jnp.sqrt(gamma)*(dq.tensor(d_j_E[0],b_dag_k) + dq.tensor(d_j_E_dag[0],b_k))\n",
    "U_n = jla.expm(-1j*jnp.sqrt(dt)*H_E_n)\n",
    "U_n_dag = dq.dag(U_n)\n",
    "Number_rq = dq.tensor(dq.number(N),dq.eye(2))\n",
    "a_rq = dq.tensor(a,dq.eye(2))"
   ]
  },
  {
   "cell_type": "code",
   "execution_count": 119,
   "metadata": {},
   "outputs": [],
   "source": [
    "CD_A = jnp.array([CD(epsilon_j[i]*jnp.exp(1.0j*theta_j[i])) for i in [0,1]])\n",
    "CD_B = jnp.array([CD(-1.0j*(alpha[i]+1.0j*beta[i])*c_Delta) for i in [0,1]])\n",
    "CD_A_small = jnp.array([CD(epsilon_j[i]*jnp.exp(1.0j*theta_j[i])/2.0) for i in [0,1]])\n",
    "U_sBs = jnp.array(\n",
    "    [\n",
    "        CD_A_small[i]@(\n",
    "        dq.tensor(dq.eye(N),dq.dag(R_x(jnp.pi/2.)))@(\n",
    "        CD_B[i]@(\n",
    "        dq.tensor(dq.eye(N),R_x(jnp.pi/2.))@(\n",
    "        CD_A_small[i]))))\n",
    "        for i in [0,1]\n",
    "    ]\n",
    ")"
   ]
  },
  {
   "cell_type": "markdown",
   "metadata": {},
   "source": [
    "### Markov Verification"
   ]
  },
  {
   "cell_type": "code",
   "execution_count": 17,
   "metadata": {},
   "outputs": [
    {
     "data": {
      "text/latex": [
       "$[b_n,b_n^{\\dagger}] = \\sigma_z$?"
      ],
      "text/plain": [
       "<IPython.core.display.Latex object>"
      ]
     },
     "metadata": {},
     "output_type": "display_data"
    },
    {
     "name": "stdout",
     "output_type": "stream",
     "text": [
      "True\n"
     ]
    },
    {
     "data": {
      "text/latex": [
       "$U_n$ unitary?"
      ],
      "text/plain": [
       "<IPython.core.display.Latex object>"
      ]
     },
     "metadata": {},
     "output_type": "display_data"
    },
    {
     "name": "stdout",
     "output_type": "stream",
     "text": [
      "True\n"
     ]
    },
    {
     "data": {
      "text/latex": [
       "$U_n^{\\dagger}$ unitary?"
      ],
      "text/plain": [
       "<IPython.core.display.Latex object>"
      ]
     },
     "metadata": {},
     "output_type": "display_data"
    },
    {
     "name": "stdout",
     "output_type": "stream",
     "text": [
      "True\n"
     ]
    },
    {
     "data": {
      "text/latex": [
       "$\\Gamma_j\\delta t=t_{\\Delta}c_{\\Delta}^2l_j^2/4$?"
      ],
      "text/plain": [
       "<IPython.core.display.Latex object>"
      ]
     },
     "metadata": {},
     "output_type": "display_data"
    },
    {
     "name": "stdout",
     "output_type": "stream",
     "text": [
      "True\n"
     ]
    }
   ],
   "source": [
    "if run_tests:\n",
    "    lat_print(\"$[b_n,b_n^{\\\\dagger}] = \\\\sigma_z$?\")\n",
    "    print(jallclose(com(b_k,b_dag_k),dq.sigmaz()))\n",
    "    lat_print(\"$U_n$ unitary?\")\n",
    "    print(jnp.isclose(1,jnp.abs(jnp.linalg.det(U_n))))\n",
    "    lat_print(\"$U_n^{\\\\dagger}$ unitary?\")\n",
    "    print(jnp.isclose(1,jnp.abs(jnp.linalg.det(U_n_dag))))\n",
    "    lat_print(\"$\\\\Gamma_j\\\\delta t=t_{\\\\Delta}c_{\\\\Delta}^2l_j^2/4$?\")\n",
    "    print(jnp.allclose(gamma_j*dt,t_Delta/4*c_Delta**2*l_j**2))"
   ]
  },
  {
   "cell_type": "markdown",
   "metadata": {},
   "source": [
    "### Manifold Functions & Strawberry Fields Verification"
   ]
  },
  {
   "cell_type": "code",
   "execution_count": 18,
   "metadata": {},
   "outputs": [],
   "source": [
    "run_plots = False\n",
    "run_tests = False"
   ]
  },
  {
   "cell_type": "code",
   "execution_count": 19,
   "metadata": {},
   "outputs": [],
   "source": [
    "import strawberryfields as sf\n",
    "nmodes = 1\n",
    "\n",
    "prog_gkp_fock = sf.Program(nmodes)\n",
    "with prog_gkp_fock.context as q:\n",
    "    sf.ops.GKP(state=[0,0],epsilon=Delta**2) | q\n",
    "\n",
    "eng = sf.Engine(\"fock\", backend_options={\"cutoff_dim\": N, \"hbar\": 1})\n",
    "logical_zero = jnp.array(eng.run(prog_gkp_fock).state.data).reshape((N,1))\n",
    "\n",
    "prog_gkp_fock2 = sf.Program(nmodes)\n",
    "with prog_gkp_fock2.context as q:\n",
    "    sf.ops.GKP(state=[np.pi,0],epsilon=Delta**2) | q\n",
    "logical_one = jnp.array(eng.run(prog_gkp_fock2).state.data).reshape((N,1))\n",
    "U = jnp.hstack((logical_zero,logical_one))\n",
    "U_dag = dq.dag(U)\n",
    "U_ident = U_dag@U\n",
    "U_proj = U@U_dag"
   ]
  },
  {
   "cell_type": "code",
   "execution_count": 20,
   "metadata": {},
   "outputs": [],
   "source": [
    "def Pi(rho):\n",
    "    return U_proj@rho@U_proj\n",
    "def Pi_perp(rho):\n",
    "    return rho - Pi(rho)\n",
    "def Pidot_2(sigma_dot):\n",
    "    return .5*(dq.sigmax() * dq.trace(dq.sigmax() @ sigma_dot) +\n",
    "            dq.sigmay() * dq.trace(dq.sigmay() @ sigma_dot) + \n",
    "            dq.sigmaz() * dq.trace(dq.sigmaz() @ sigma_dot))\n",
    "def Pidot(rho_dot):\n",
    "    return U@Pidot_2(U_dag@rho_dot@U)@U_dag\n",
    "def Pidot_perp(rho_dot):\n",
    "    return rho_dot - Pidot(rho_dot)\n",
    "def sigma_proj(rho):\n",
    "    return U_dag @ rho @ U"
   ]
  },
  {
   "cell_type": "code",
   "execution_count": 21,
   "metadata": {},
   "outputs": [],
   "source": [
    "def psi_C(theta: float, phi: float):\n",
    "    return jnp.cos(theta/2.)*logical_zero + jnp.exp(1j*phi)*jnp.sin(theta/2.)*logical_one\n",
    "def rho_C(theta:float, phi: float):\n",
    "    return dq.todm(psi_C(theta=theta,phi=phi))\n",
    "def compute_bloch_vector(rho):\n",
    "    sigma = sigma_proj(rho)\n",
    "    return dq.expect([dq.sigmax(), dq.sigmay(), dq.sigmaz()], sigma)\n",
    "def add_rho_to_bloch(rho, blocher):\n",
    "    vec = compute_bloch_vector(rho)\n",
    "    blocher.add_vectors(vec)\n",
    "    "
   ]
  },
  {
   "cell_type": "code",
   "execution_count": 141,
   "metadata": {},
   "outputs": [
    {
     "name": "stdout",
     "output_type": "stream",
     "text": [
      "Overlap = [[-3.442e-05+0.j]]\n",
      "Normalizaton = [[1.+0.j]]\n",
      "(1+0j)\n",
      "(0.99999976+0j)\n",
      "(8.910894e-06+0j)\n",
      "0j\n",
      "(-4.4883564e-10+0j)\n",
      "(0.9999999+0j)\n",
      "(0.00800254+0j)\n"
     ]
    }
   ],
   "source": [
    "if run_tests:\n",
    "    print(f\"Overlap = {jnp.conj(logical_one.T)@logical_zero}\")\n",
    "    print(f\"Normalizaton = {jnp.conj(logical_one.T)@logical_one}\")\n",
    "    # manifold functions only\n",
    "    rho_A = rho_C(0,0)\n",
    "    rho_B = Pi(rho_A)\n",
    "    print(dq.trace(rho_A))\n",
    "    print(dq.trace(rho_B))\n",
    "    print(np.max(rho_A-rho_B))\n",
    "    print(np.max(rho_A - (rho_B + Pi_perp(rho_A))))\n",
    "    print(dq.trace(rho_C(0,0)@rho_C(jnp.pi,0)))\n",
    "    print(dq.trace(rho_A@rho_A))\n",
    "    cohere = dq.coherent_dm(N, 4)\n",
    "    print(dq.trace(cohere@rho_A))\n",
    "if run_plots:\n",
    "    dq.plot.wigner(logical_one)\n",
    "    dq.plot.wigner(logical_zero)\n",
    "    # bloch tests\n",
    "    b = qt.Bloch()\n",
    "    add_rho_to_bloch(rho_A, b) # 0\n",
    "    add_rho_to_bloch(rho_B, b) # 0 off by a bit\n",
    "    add_rho_to_bloch(rho_C(jnp.pi,0),b) # 1\n",
    "    add_rho_to_bloch(rho_C(jnp.pi/2,jnp.pi/2.),b) # y\n",
    "    b.show()"
   ]
  },
  {
   "cell_type": "markdown",
   "metadata": {},
   "source": [
    "### SBS Factory"
   ]
  },
  {
   "cell_type": "code",
   "execution_count": 304,
   "metadata": {},
   "outputs": [
    {
     "data": {
      "text/plain": [
       "Array([[0.   +0.j, 1.   +0.j, 0.   +0.j, ..., 0.   +0.j, 0.   +0.j,\n",
       "        0.   +0.j],\n",
       "       [0.   +0.j, 0.   +0.j, 1.414+0.j, ..., 0.   +0.j, 0.   +0.j,\n",
       "        0.   +0.j],\n",
       "       [0.   +0.j, 0.   +0.j, 0.   +0.j, ..., 0.   +0.j, 0.   +0.j,\n",
       "        0.   +0.j],\n",
       "       ...,\n",
       "       [0.   +0.j, 0.   +0.j, 0.   +0.j, ..., 0.   +0.j, 9.899+0.j,\n",
       "        0.   +0.j],\n",
       "       [0.   +0.j, 0.   +0.j, 0.   +0.j, ..., 0.   +0.j, 0.   +0.j,\n",
       "        9.95 +0.j],\n",
       "       [0.   +0.j, 0.   +0.j, 0.   +0.j, ..., 0.   +0.j, 0.   +0.j,\n",
       "        0.   +0.j]], dtype=complex64)"
      ]
     },
     "execution_count": 304,
     "metadata": {},
     "output_type": "execute_result"
    }
   ],
   "source": [
    "a"
   ]
  },
  {
   "cell_type": "code",
   "execution_count": 305,
   "metadata": {},
   "outputs": [],
   "source": [
    "plus = 1/jnp.sqrt(2.0)*(dq.fock(2,0) + dq.fock(2,1))\n",
    "plusdm = dq.todm(plus)\n",
    "U_sBs_dag = dq.dag(U_sBs)\n",
    "# rho0_sbs = dq.tensor(dq.fock_dm(N,0),plusdm)\n",
    "loss_thetaphi = a@rho_C(0,0)@dq.dag(a)/dq.trace(a@rho_C(0,0)@dq.dag(a))\n",
    "rho0_sbs = dq.tensor(loss_thetaphi, dq.fock_dm(2,0))\n",
    "ts = jnp.linspace(0,t_final,100)"
   ]
  },
  {
   "cell_type": "code",
   "execution_count": 325,
   "metadata": {},
   "outputs": [
    {
     "data": {
      "image/png": "[encoded data removed]",
      "text/plain": [
       "<Figure size 700x437.5 with 2 Axes>"
      ]
     },
     "metadata": {},
     "output_type": "display_data"
    }
   ],
   "source": [
    "dq.plot.wigner(loss_thetaphi)"
   ]
  },
  {
   "cell_type": "code",
   "execution_count": 312,
   "metadata": {},
   "outputs": [],
   "source": [
    "I_N = dq.eye(N)\n",
    "class SBSSet(eqx.Module):\n",
    "    Ncut: int = eqx.field(static=True)\n",
    "    alpha_real: Array # chronological order\n",
    "    alpha_imag: Array\n",
    "    theta_x: Array\n",
    "    def gen_unitary(self) -> Array:\n",
    "        Ncd = self.alpha_real.shape[0]\n",
    "        Nr = self.theta_x.shape[0]\n",
    "        cd_dominant = Ncd > Nr\n",
    "        U_out = dq.tensor(I_N,dq.eye(2))\n",
    "        for i in range(Ncd + Nr):\n",
    "            if cd_dominant and i % 2 == 0:\n",
    "                # print(\"CD\",i//2)\n",
    "                # print(self.alpha_real[i//2],self.alpha_imag[i//2])\n",
    "                U_out = CD(self.alpha_real[i//2] + 1j*self.alpha_imag[i//2]) @ U_out\n",
    "            else:\n",
    "                # print(\"R\",i//2,self.theta_x[i//2])\n",
    "                U_out = dq.tensor(I_N, R_x(self.theta_x[i//2])) @ U_out\n",
    "        return U_out\n",
    "    \n",
    "class CompositeSBS(eqx.Module):\n",
    "    sbs_sets: List[SBSSet]\n",
    "\n",
    "class SBS_Optimizer(eqx.Module):\n",
    "    sbs_set: CompositeSBS\n",
    "    Uq: Array\n",
    "    Up: Array\n",
    "    rho_0: Array\n",
    "    rho_target: Array\n",
    "    ts: Array\n",
    "    def __init__(self, sbs_set: CompositeSBS, rho_0: Array, rho_target: Array, ts: Array):\n",
    "        self.sbs_set = sbs_set\n",
    "        self.Uq = sbs_set[0].gen_unitary()\n",
    "        self.Up = sbs_set[1].gen_unitary()\n",
    "        self.rho_0 = rho_0\n",
    "        self.rho_target = rho_target\n",
    "        self.ts = ts\n",
    "    \n",
    "    @jax.jit\n",
    "    def _run(self, rho: Array, ts: Array, sbs_optim_set: CompositeSBS):\n",
    "        n_t = jnp.zeros_like(ts)\n",
    "        Uq = sbs_optim_set[0].gen_unitary()\n",
    "        Up = sbs_optim_set[1].gen_unitary()\n",
    "        Uq_dag = dq.dag(Uq)\n",
    "        Up_dag = dq.dag(Up)\n",
    "        for i in range(len(ts)):\n",
    "            traced_out = dq.ptrace(rho, 0, (N,2))\n",
    "            n_t = n_t.at[i].set(dq.expect(n_hat, traced_out))\n",
    "            recombo = dq.tensor(traced_out, plusdm) # TODO make reset state also optimizable\n",
    "            xevolve = Uq@recombo@Uq_dag\n",
    "            xpevolve = Up@xevolve@Up_dag\n",
    "            rho = xpevolve/dq.trace(xpevolve)\n",
    "        return n_t, rho\n",
    "\n",
    "    def loss(self, sbs_optim_set):\n",
    "        n_t, rho_T = self._run(self.rho_0, self.ts, sbs_optim_set)\n",
    "        return -jnp.real(dq.trace(self.rho_target@dq.ptrace(rho_T,0,(N,2))))\n",
    "        # TODO: - entanglement fidelity goes here\n",
    "\n",
    "    def optimize(\n",
    "            self,\n",
    "            N_steps: int, \n",
    "            learning_rate: float = .01,\n",
    "            verbosity: int = 0\n",
    "        ) -> SBSSet:\n",
    "        optim = optax.adam(learning_rate, nesterov=True)\n",
    "        opt_state = optim.init(self.sbs_set)\n",
    "        state = self.sbs_set\n",
    "\n",
    "        @eqx.filter_jit\n",
    "        def make_step(U_state, opt_state):\n",
    "            loss_val, grads = eqx.filter_value_and_grad(self.loss)(U_state)\n",
    "            updates, opt_state = optim.update(grads, opt_state)\n",
    "            U_state = eqx.apply_updates(U_state, updates)\n",
    "            return U_state, opt_state, loss_val\n",
    "\n",
    "        for step in range(N_steps):\n",
    "            state, opt_state, loss_val = make_step(U_state=state, opt_state=opt_state)\n",
    "            if verbosity > 0:\n",
    "                if verbosity > 1:\n",
    "                    eqx.tree_pprint(state, short_arrays=False)\n",
    "                print(f\"Step {step} Loss: {np.round(loss_val,3)}\")\n",
    "        \n",
    "        return state"
   ]
  },
  {
   "cell_type": "markdown",
   "metadata": {},
   "source": [
    "### sBs - analytic vs optimizable\n"
   ]
  },
  {
   "cell_type": "code",
   "execution_count": 326,
   "metadata": {},
   "outputs": [],
   "source": [
    "# @jax.jit\n",
    "def sbs_prop(rho,ts):\n",
    "    n_t = jnp.zeros_like(ts)\n",
    "    for i in range(len(ts)):\n",
    "        traced_out = dq.ptrace(rho, 0, (N,2))\n",
    "        n_t = n_t.at[i].set(dq.expect(n_hat, traced_out))\n",
    "        recombo = dq.tensor(traced_out, plusdm)\n",
    "        xevolve = U_sBs[0]@recombo@U_sBs_dag[0]\n",
    "        xpevolve = U_sBs[1]@xevolve@U_sBs_dag[1]\n",
    "        rho = xpevolve/dq.trace(xpevolve)\n",
    "    return n_t, rho"
   ]
  },
  {
   "cell_type": "code",
   "execution_count": 327,
   "metadata": {},
   "outputs": [
    {
     "name": "stderr",
     "output_type": "stream",
     "text": [
      "/home/cjblake/miniconda3/envs/jiang/lib/python3.12/site-packages/jax/_src/ops/scatter.py:92: FutureWarning: scatter inputs have incompatible types: cannot safely cast value from dtype=complex64 to dtype=float32 with jax_numpy_dtype_promotion='standard'. In future JAX releases this will result in an error.\n",
      "/home/cjblake/miniconda3/envs/jiang/lib/python3.12/site-packages/jax/_src/ops/scatter.py:134: ComplexWarning: Casting complex values to real discards the imaginary part\n"
     ]
    },
    {
     "data": {
      "image/png": "[encoded data removed]",
      "text/plain": [
       "<Figure size 640x480 with 1 Axes>"
      ]
     },
     "metadata": {},
     "output_type": "display_data"
    },
    {
     "name": "stdout",
     "output_type": "stream",
     "text": [
      "(0.00032354085+9.590622e-10j)\n"
     ]
    },
    {
     "data": {
      "image/png": "[encoded data removed]",
      "text/plain": [
       "<Figure size 700x437.5 with 2 Axes>"
      ]
     },
     "metadata": {},
     "output_type": "display_data"
    }
   ],
   "source": [
    "n_t_sbs, rho_sbs_T = sbs_prop(rho0_sbs,ts)\n",
    "plt.plot(ts, n_t_sbs)\n",
    "plt.show()\n",
    "dq.plot.wigner(dq.ptrace(rho_sbs_T,0,(N,2)))\n",
    "print(dq.trace(rho_sbs_T@rho0_sbs))"
   ]
  },
  {
   "cell_type": "code",
   "execution_count": 315,
   "metadata": {},
   "outputs": [],
   "source": [
    "# q dissipator\n",
    "alpha_q = jnp.array(\n",
    "    [\n",
    "        epsilon_j[0]*jnp.exp(1.0j*theta_j[0])/2.0,\n",
    "        -1.0j*(alpha[0]+1.0j*beta[0])*c_Delta,\n",
    "        epsilon_j[0]*jnp.exp(1.0j*theta_j[0])/2.0\n",
    "    ],\n",
    "    dtype=complex\n",
    ")\n",
    "alpha_qr = jnp.real(alpha_q)\n",
    "alpha_qi = jnp.imag(alpha_q)\n",
    "theta_q = jnp.array(\n",
    "    [\n",
    "        jnp.pi/2.,\n",
    "        -jnp.pi/2.,\n",
    "    ]\n",
    ")\n",
    "U_q = SBSSet(\n",
    "    Ncut=N,\n",
    "    alpha_real=alpha_qr,\n",
    "    alpha_imag=alpha_qi,\n",
    "    theta_x=theta_q\n",
    ")\n",
    "\n",
    "\n",
    "# p dissipator\n",
    "alpha_p = jnp.array(\n",
    "    [\n",
    "        epsilon_j[1]*jnp.exp(1.0j*theta_j[1])/2.0,\n",
    "        -1.0j*(alpha[1]+1.0j*beta[1])*c_Delta,\n",
    "        epsilon_j[1]*jnp.exp(1.0j*theta_j[1])/2.0\n",
    "    ],\n",
    "    dtype=complex\n",
    ")\n",
    "alpha_pr = jnp.real(alpha_p)\n",
    "alpha_pi = jnp.imag(alpha_p)\n",
    "theta_p = jnp.array(\n",
    "    [\n",
    "        jnp.pi/2.,\n",
    "        -jnp.pi/2.,\n",
    "    ]\n",
    ")\n",
    "U_p = SBSSet(\n",
    "    Ncut=N,\n",
    "    alpha_real=alpha_pr,\n",
    "    alpha_imag=alpha_pi,\n",
    "    theta_x = theta_p\n",
    ")\n",
    "\n",
    "sbs_set = [U_q, U_p]\n",
    "sbs_opt = SBS_Optimizer(sbs_set=sbs_set, rho_0=rho0_sbs, rho_target=rho_C(0,0), ts=ts)"
   ]
  },
  {
   "cell_type": "code",
   "execution_count": 316,
   "metadata": {},
   "outputs": [
    {
     "name": "stderr",
     "output_type": "stream",
     "text": [
      "/home/cjblake/miniconda3/envs/jiang/lib/python3.12/site-packages/jax/_src/ops/scatter.py:92: FutureWarning: scatter inputs have incompatible types: cannot safely cast value from dtype=complex64 to dtype=float32 with jax_numpy_dtype_promotion='standard'. In future JAX releases this will result in an error.\n",
      "/home/cjblake/miniconda3/envs/jiang/lib/python3.12/site-packages/jax/_src/ops/scatter.py:134: ComplexWarning: Casting complex values to real discards the imaginary part\n"
     ]
    },
    {
     "data": {
      "image/png": "[encoded data removed]",
      "text/plain": [
       "<Figure size 640x480 with 1 Axes>"
      ]
     },
     "metadata": {},
     "output_type": "display_data"
    },
    {
     "name": "stdout",
     "output_type": "stream",
     "text": [
      "(0.00032354085+9.590622e-10j)\n"
     ]
    },
    {
     "data": {
      "image/png": "[encoded data removed]",
      "text/plain": [
       "<Figure size 700x437.5 with 2 Axes>"
      ]
     },
     "metadata": {},
     "output_type": "display_data"
    }
   ],
   "source": [
    "n_t_opt, rho_opt_T = sbs_opt._run(rho0_sbs,ts, sbs_optim_set=sbs_set)\n",
    "plt.plot(ts, n_t_opt)\n",
    "plt.show()\n",
    "dq.plot.wigner(dq.ptrace(rho_opt_T ,0,(N,2)))\n",
    "print(dq.trace(rho_opt_T @rho0_sbs))"
   ]
  },
  {
   "cell_type": "markdown",
   "metadata": {},
   "source": [
    "### sbs Optimization"
   ]
  },
  {
   "cell_type": "code",
   "execution_count": 329,
   "metadata": {},
   "outputs": [
    {
     "name": "stdout",
     "output_type": "stream",
     "text": [
      "[-3.100e-09-0.071j -3.548e+00+0.j    -3.100e-09-0.071j]\n",
      "[ 1.571 -1.571]\n",
      "[0.071+0.j    0.   -3.548j 0.071+0.j   ]\n",
      "[ 1.571 -1.571]\n"
     ]
    }
   ],
   "source": [
    "print(alpha_q)\n",
    "print(theta_q)\n",
    "print(alpha_p)\n",
    "print(theta_p)"
   ]
  },
  {
   "cell_type": "code",
   "execution_count": 328,
   "metadata": {},
   "outputs": [
    {
     "name": "stdout",
     "output_type": "stream",
     "text": [
      "[\n",
      "  SBSSet(\n",
      "    Ncut=100,\n",
      "    alpha_real=Array([ 1.474e-03, -3.546e+00,  1.474e-03], dtype=float32),\n",
      "    alpha_imag=Array([-0.072,  0.001, -0.069], dtype=float32),\n",
      "    theta_x=Array([ 1.572, -1.569], dtype=float32)\n",
      "  ),\n",
      "  SBSSet(\n",
      "    Ncut=100,\n",
      "    alpha_real=Array([0.072, 0.001, 0.072], dtype=float32),\n",
      "    alpha_imag=Array([ 1.474e-03, -3.546e+00,  1.474e-03], dtype=float32),\n",
      "    theta_x=Array([ 1.572, -1.569], dtype=float32)\n",
      "  )\n",
      "]\n",
      "Step 0 Loss: -0.9700000286102295\n",
      "[\n",
      "  SBSSet(\n",
      "    Ncut=100,\n",
      "    alpha_real=Array([ 2.572e-03, -3.547e+00,  2.255e-03], dtype=float32),\n",
      "    alpha_imag=Array([-0.073,  0.002, -0.07 ], dtype=float32),\n",
      "    theta_x=Array([ 1.573, -1.568], dtype=float32)\n",
      "  ),\n",
      "  SBSSet(\n",
      "    Ncut=100,\n",
      "    alpha_real=Array([0.073, 0.   , 0.074], dtype=float32),\n",
      "    alpha_imag=Array([ 1.373e-03, -3.547e+00,  8.197e-04], dtype=float32),\n",
      "    theta_x=Array([ 1.574, -1.569], dtype=float32)\n",
      "  )\n",
      "]\n",
      "Step 1 Loss: -0.9760000705718994\n",
      "[\n",
      "  SBSSet(\n",
      "    Ncut=100,\n",
      "    alpha_real=Array([ 3.563e-03, -3.548e+00,  2.880e-03], dtype=float32),\n",
      "    alpha_imag=Array([-0.074,  0.002, -0.07 ], dtype=float32),\n",
      "    theta_x=Array([ 1.574, -1.567], dtype=float32)\n",
      "  ),\n",
      "  SBSSet(\n",
      "    Ncut=100,\n",
      "    alpha_real=Array([0.074, 0.001, 0.075], dtype=float32),\n",
      "    alpha_imag=Array([ 9.182e-04, -3.548e+00,  1.249e-04], dtype=float32),\n",
      "    theta_x=Array([ 1.574, -1.568], dtype=float32)\n",
      "  )\n",
      "]\n",
      "Step 2 Loss: -0.9780000448226929\n",
      "[\n",
      "  SBSSet(\n",
      "    Ncut=100,\n",
      "    alpha_real=Array([ 4.483e-03, -3.548e+00,  3.413e-03], dtype=float32),\n",
      "    alpha_imag=Array([-0.075,  0.002, -0.071], dtype=float32),\n",
      "    theta_x=Array([ 1.574, -1.566], dtype=float32)\n",
      "  ),\n",
      "  SBSSet(\n",
      "    Ncut=100,\n",
      "    alpha_real=Array([0.074, 0.001, 0.076], dtype=float32),\n",
      "    alpha_imag=Array([ 3.365e-04, -3.548e+00, -6.976e-04], dtype=float32),\n",
      "    theta_x=Array([ 1.575, -1.567], dtype=float32)\n",
      "  )\n",
      "]\n",
      "Step 3 Loss: -0.9800000190734863\n",
      "[\n",
      "  SBSSet(\n",
      "    Ncut=100,\n",
      "    alpha_real=Array([ 0.005, -3.548,  0.004], dtype=float32),\n",
      "    alpha_imag=Array([-0.076,  0.002, -0.071], dtype=float32),\n",
      "    theta_x=Array([ 1.574, -1.565], dtype=float32)\n",
      "  ),\n",
      "  SBSSet(\n",
      "    Ncut=100,\n",
      "    alpha_real=Array([0.075, 0.002, 0.077], dtype=float32),\n",
      "    alpha_imag=Array([-2.994e-04, -3.548e+00, -1.584e-03], dtype=float32),\n",
      "    theta_x=Array([ 1.576, -1.566], dtype=float32)\n",
      "  )\n",
      "]\n",
      "Step 4 Loss: -0.9810000658035278\n",
      "[\n",
      "  SBSSet(\n",
      "    Ncut=100,\n",
      "    alpha_real=Array([ 0.006, -3.548,  0.004], dtype=float32),\n",
      "    alpha_imag=Array([-0.076,  0.001, -0.072], dtype=float32),\n",
      "    theta_x=Array([ 1.574, -1.565], dtype=float32)\n",
      "  ),\n",
      "  SBSSet(\n",
      "    Ncut=100,\n",
      "    alpha_real=Array([0.075, 0.002, 0.078], dtype=float32),\n",
      "    alpha_imag=Array([-9.513e-04, -3.548e+00, -2.509e-03], dtype=float32),\n",
      "    theta_x=Array([ 1.577, -1.565], dtype=float32)\n",
      "  )\n",
      "]\n",
      "Step 5 Loss: -0.9820000529289246\n",
      "[\n",
      "  SBSSet(\n",
      "    Ncut=100,\n",
      "    alpha_real=Array([ 0.007, -3.549,  0.005], dtype=float32),\n",
      "    alpha_imag=Array([-0.077,  0.001, -0.073], dtype=float32),\n",
      "    theta_x=Array([ 1.574, -1.564], dtype=float32)\n",
      "  ),\n",
      "  SBSSet(\n",
      "    Ncut=100,\n",
      "    alpha_real=Array([0.076, 0.003, 0.079], dtype=float32),\n",
      "    alpha_imag=Array([-1.594e-03, -3.548e+00, -3.457e-03], dtype=float32),\n",
      "    theta_x=Array([ 1.577, -1.565], dtype=float32)\n",
      "  )\n",
      "]\n",
      "Step 6 Loss: -0.9830000400543213\n",
      "[\n",
      "  SBSSet(\n",
      "    Ncut=100,\n",
      "    alpha_real=Array([ 0.008, -3.549,  0.005], dtype=float32),\n",
      "    alpha_imag=Array([-0.077,  0.001, -0.073], dtype=float32),\n",
      "    theta_x=Array([ 1.574, -1.563], dtype=float32)\n",
      "  ),\n",
      "  SBSSet(\n",
      "    Ncut=100,\n",
      "    alpha_real=Array([0.076, 0.003, 0.08 ], dtype=float32),\n",
      "    alpha_imag=Array([-2.208e-03, -3.548e+00, -4.413e-03], dtype=float32),\n",
      "    theta_x=Array([ 1.578, -1.564], dtype=float32)\n",
      "  )\n",
      "]\n",
      "Step 7 Loss: -0.984000027179718\n",
      "[\n",
      "  SBSSet(\n",
      "    Ncut=100,\n",
      "    alpha_real=Array([ 0.008, -3.549,  0.005], dtype=float32),\n",
      "    alpha_imag=Array([-0.078,  0.   , -0.074], dtype=float32),\n",
      "    theta_x=Array([ 1.574, -1.562], dtype=float32)\n",
      "  ),\n",
      "  SBSSet(\n",
      "    Ncut=100,\n",
      "    alpha_real=Array([0.076, 0.004, 0.081], dtype=float32),\n",
      "    alpha_imag=Array([-2.779e-03, -3.548e+00, -5.363e-03], dtype=float32),\n",
      "    theta_x=Array([ 1.579, -1.563], dtype=float32)\n",
      "  )\n",
      "]\n",
      "Step 8 Loss: -0.984000027179718\n",
      "[\n",
      "  SBSSet(\n",
      "    Ncut=100,\n",
      "    alpha_real=Array([ 0.009, -3.549,  0.006], dtype=float32),\n",
      "    alpha_imag=Array([-7.872e-02,  8.693e-05, -7.422e-02], dtype=float32),\n",
      "    theta_x=Array([ 1.574, -1.561], dtype=float32)\n",
      "  ),\n",
      "  SBSSet(\n",
      "    Ncut=100,\n",
      "    alpha_real=Array([0.077, 0.004, 0.081], dtype=float32),\n",
      "    alpha_imag=Array([-3.299e-03, -3.548e+00, -6.286e-03], dtype=float32),\n",
      "    theta_x=Array([ 1.58 , -1.563], dtype=float32)\n",
      "  )\n",
      "]\n",
      "Step 9 Loss: -0.9850000739097595\n",
      "[\n",
      "  SBSSet(\n",
      "    Ncut=100,\n",
      "    alpha_real=Array([ 0.009, -3.549,  0.006], dtype=float32),\n",
      "    alpha_imag=Array([-7.932e-02, -3.471e-05, -7.468e-02], dtype=float32),\n",
      "    theta_x=Array([ 1.574, -1.56 ], dtype=float32)\n",
      "  ),\n",
      "  SBSSet(\n",
      "    Ncut=100,\n",
      "    alpha_real=Array([0.077, 0.004, 0.082], dtype=float32),\n",
      "    alpha_imag=Array([-0.004, -3.548, -0.007], dtype=float32),\n",
      "    theta_x=Array([ 1.581, -1.563], dtype=float32)\n",
      "  )\n",
      "]\n",
      "Step 10 Loss: -0.9850000739097595\n",
      "[\n",
      "  SBSSet(\n",
      "    Ncut=100,\n",
      "    alpha_real=Array([ 0.009, -3.55 ,  0.006], dtype=float32),\n",
      "    alpha_imag=Array([-7.991e-02, -7.983e-05, -7.510e-02], dtype=float32),\n",
      "    theta_x=Array([ 1.574, -1.559], dtype=float32)\n",
      "  ),\n",
      "  SBSSet(\n",
      "    Ncut=100,\n",
      "    alpha_real=Array([0.077, 0.004, 0.083], dtype=float32),\n",
      "    alpha_imag=Array([-0.004, -3.548, -0.008], dtype=float32),\n",
      "    theta_x=Array([ 1.582, -1.562], dtype=float32)\n",
      "  )\n",
      "]\n",
      "Step 11 Loss: -0.9850000739097595\n",
      "[\n",
      "  SBSSet(\n",
      "    Ncut=100,\n",
      "    alpha_real=Array([ 0.01 , -3.55 ,  0.006], dtype=float32),\n",
      "    alpha_imag=Array([-8.047e-02, -6.012e-05, -7.547e-02], dtype=float32),\n",
      "    theta_x=Array([ 1.574, -1.559], dtype=float32)\n",
      "  ),\n",
      "  SBSSet(\n",
      "    Ncut=100,\n",
      "    alpha_real=Array([0.077, 0.004, 0.084], dtype=float32),\n",
      "    alpha_imag=Array([-0.005, -3.548, -0.009], dtype=float32),\n",
      "    theta_x=Array([ 1.582, -1.562], dtype=float32)\n",
      "  )\n",
      "]\n",
      "Step 12 Loss: -0.9850000739097595\n",
      "[\n",
      "  SBSSet(\n",
      "    Ncut=100,\n",
      "    alpha_real=Array([ 0.01 , -3.55 ,  0.007], dtype=float32),\n",
      "    alpha_imag=Array([-8.101e-02,  7.801e-06, -7.580e-02], dtype=float32),\n",
      "    theta_x=Array([ 1.574, -1.558], dtype=float32)\n",
      "  ),\n",
      "  SBSSet(\n",
      "    Ncut=100,\n",
      "    alpha_real=Array([0.078, 0.005, 0.084], dtype=float32),\n",
      "    alpha_imag=Array([-0.005, -3.548, -0.009], dtype=float32),\n",
      "    theta_x=Array([ 1.583, -1.562], dtype=float32)\n",
      "  )\n",
      "]\n",
      "Step 13 Loss: -0.9860000610351562\n",
      "[\n",
      "  SBSSet(\n",
      "    Ncut=100,\n",
      "    alpha_real=Array([ 0.01 , -3.55 ,  0.007], dtype=float32),\n",
      "    alpha_imag=Array([-0.082,  0.   , -0.076], dtype=float32),\n",
      "    theta_x=Array([ 1.575, -1.557], dtype=float32)\n",
      "  ),\n",
      "  SBSSet(\n",
      "    Ncut=100,\n",
      "    alpha_real=Array([0.078, 0.005, 0.085], dtype=float32),\n",
      "    alpha_imag=Array([-0.005, -3.548, -0.01 ], dtype=float32),\n",
      "    theta_x=Array([ 1.584, -1.562], dtype=float32)\n",
      "  )\n",
      "]\n",
      "Step 14 Loss: -0.9860000610351562\n",
      "[\n",
      "  SBSSet(\n",
      "    Ncut=100,\n",
      "    alpha_real=Array([ 0.011, -3.55 ,  0.007], dtype=float32),\n",
      "    alpha_imag=Array([-0.082,  0.   , -0.076], dtype=float32),\n",
      "    theta_x=Array([ 1.575, -1.556], dtype=float32)\n",
      "  ),\n",
      "  SBSSet(\n",
      "    Ncut=100,\n",
      "    alpha_real=Array([0.078, 0.005, 0.085], dtype=float32),\n",
      "    alpha_imag=Array([-0.005, -3.548, -0.01 ], dtype=float32),\n",
      "    theta_x=Array([ 1.585, -1.562], dtype=float32)\n",
      "  )\n",
      "]\n",
      "Step 15 Loss: -0.9860000610351562\n",
      "[\n",
      "  SBSSet(\n",
      "    Ncut=100,\n",
      "    alpha_real=Array([ 0.011, -3.55 ,  0.007], dtype=float32),\n",
      "    alpha_imag=Array([-0.082,  0.   , -0.077], dtype=float32),\n",
      "    theta_x=Array([ 1.575, -1.556], dtype=float32)\n",
      "  ),\n",
      "  SBSSet(\n",
      "    Ncut=100,\n",
      "    alpha_real=Array([0.078, 0.005, 0.086], dtype=float32),\n",
      "    alpha_imag=Array([-0.006, -3.548, -0.01 ], dtype=float32),\n",
      "    theta_x=Array([ 1.585, -1.562], dtype=float32)\n",
      "  )\n",
      "]\n",
      "Step 16 Loss: -0.9860000610351562\n",
      "[\n",
      "  SBSSet(\n",
      "    Ncut=100,\n",
      "    alpha_real=Array([ 0.011, -3.55 ,  0.007], dtype=float32),\n",
      "    alpha_imag=Array([-0.083,  0.   , -0.077], dtype=float32),\n",
      "    theta_x=Array([ 1.575, -1.555], dtype=float32)\n",
      "  ),\n",
      "  SBSSet(\n",
      "    Ncut=100,\n",
      "    alpha_real=Array([0.078, 0.005, 0.086], dtype=float32),\n",
      "    alpha_imag=Array([-0.006, -3.548, -0.01 ], dtype=float32),\n",
      "    theta_x=Array([ 1.586, -1.563], dtype=float32)\n",
      "  )\n",
      "]\n",
      "Step 17 Loss: -0.9860000610351562\n",
      "[\n",
      "  SBSSet(\n",
      "    Ncut=100,\n",
      "    alpha_real=Array([ 0.011, -3.55 ,  0.007], dtype=float32),\n",
      "    alpha_imag=Array([-0.083,  0.   , -0.077], dtype=float32),\n",
      "    theta_x=Array([ 1.575, -1.554], dtype=float32)\n",
      "  ),\n",
      "  SBSSet(\n",
      "    Ncut=100,\n",
      "    alpha_real=Array([0.078, 0.005, 0.087], dtype=float32),\n",
      "    alpha_imag=Array([-0.006, -3.548, -0.011], dtype=float32),\n",
      "    theta_x=Array([ 1.587, -1.563], dtype=float32)\n",
      "  )\n",
      "]\n",
      "Step 18 Loss: -0.9860000610351562\n",
      "[\n",
      "  SBSSet(\n",
      "    Ncut=100,\n",
      "    alpha_real=Array([ 0.011, -3.55 ,  0.007], dtype=float32),\n",
      "    alpha_imag=Array([-0.083,  0.001, -0.077], dtype=float32),\n",
      "    theta_x=Array([ 1.574, -1.554], dtype=float32)\n",
      "  ),\n",
      "  SBSSet(\n",
      "    Ncut=100,\n",
      "    alpha_real=Array([0.078, 0.005, 0.087], dtype=float32),\n",
      "    alpha_imag=Array([-0.006, -3.547, -0.011], dtype=float32),\n",
      "    theta_x=Array([ 1.588, -1.563], dtype=float32)\n",
      "  )\n",
      "]\n",
      "Step 19 Loss: -0.9860000610351562\n",
      "[\n",
      "  SBSSet(\n",
      "    Ncut=100,\n",
      "    alpha_real=Array([ 0.011, -3.55 ,  0.007], dtype=float32),\n",
      "    alpha_imag=Array([-0.084,  0.001, -0.077], dtype=float32),\n",
      "    theta_x=Array([ 1.574, -1.553], dtype=float32)\n",
      "  ),\n",
      "  SBSSet(\n",
      "    Ncut=100,\n",
      "    alpha_real=Array([0.078, 0.005, 0.088], dtype=float32),\n",
      "    alpha_imag=Array([-0.006, -3.547, -0.011], dtype=float32),\n",
      "    theta_x=Array([ 1.588, -1.564], dtype=float32)\n",
      "  )\n",
      "]\n",
      "Step 20 Loss: -0.9860000610351562\n",
      "[\n",
      "  SBSSet(\n",
      "    Ncut=100,\n",
      "    alpha_real=Array([ 0.011, -3.55 ,  0.007], dtype=float32),\n",
      "    alpha_imag=Array([-0.084,  0.001, -0.077], dtype=float32),\n",
      "    theta_x=Array([ 1.574, -1.552], dtype=float32)\n",
      "  ),\n",
      "  SBSSet(\n",
      "    Ncut=100,\n",
      "    alpha_real=Array([0.078, 0.005, 0.088], dtype=float32),\n",
      "    alpha_imag=Array([-0.006, -3.547, -0.011], dtype=float32),\n",
      "    theta_x=Array([ 1.589, -1.564], dtype=float32)\n",
      "  )\n",
      "]\n",
      "Step 21 Loss: -0.9860000610351562\n",
      "[\n",
      "  SBSSet(\n",
      "    Ncut=100,\n",
      "    alpha_real=Array([ 0.011, -3.55 ,  0.007], dtype=float32),\n",
      "    alpha_imag=Array([-0.084,  0.001, -0.077], dtype=float32),\n",
      "    theta_x=Array([ 1.574, -1.552], dtype=float32)\n",
      "  ),\n",
      "  SBSSet(\n",
      "    Ncut=100,\n",
      "    alpha_real=Array([0.078, 0.005, 0.088], dtype=float32),\n",
      "    alpha_imag=Array([-0.006, -3.547, -0.011], dtype=float32),\n",
      "    theta_x=Array([ 1.589, -1.565], dtype=float32)\n",
      "  )\n",
      "]\n",
      "Step 22 Loss: -0.9860000610351562\n",
      "[\n",
      "  SBSSet(\n",
      "    Ncut=100,\n",
      "    alpha_real=Array([ 0.011, -3.55 ,  0.007], dtype=float32),\n",
      "    alpha_imag=Array([-0.084,  0.001, -0.077], dtype=float32),\n",
      "    theta_x=Array([ 1.574, -1.551], dtype=float32)\n",
      "  ),\n",
      "  SBSSet(\n",
      "    Ncut=100,\n",
      "    alpha_real=Array([0.078, 0.005, 0.088], dtype=float32),\n",
      "    alpha_imag=Array([-0.007, -3.547, -0.011], dtype=float32),\n",
      "    theta_x=Array([ 1.59 , -1.565], dtype=float32)\n",
      "  )\n",
      "]\n",
      "Step 23 Loss: -0.9860000610351562\n",
      "[\n",
      "  SBSSet(\n",
      "    Ncut=100,\n",
      "    alpha_real=Array([ 0.011, -3.55 ,  0.007], dtype=float32),\n",
      "    alpha_imag=Array([-0.084,  0.001, -0.078], dtype=float32),\n",
      "    theta_x=Array([ 1.573, -1.551], dtype=float32)\n",
      "  ),\n",
      "  SBSSet(\n",
      "    Ncut=100,\n",
      "    alpha_real=Array([0.078, 0.005, 0.089], dtype=float32),\n",
      "    alpha_imag=Array([-0.007, -3.547, -0.011], dtype=float32),\n",
      "    theta_x=Array([ 1.591, -1.566], dtype=float32)\n",
      "  )\n",
      "]\n",
      "Step 24 Loss: -0.9860000610351562\n",
      "[\n",
      "  SBSSet(\n",
      "    Ncut=100,\n",
      "    alpha_real=Array([ 0.01 , -3.55 ,  0.007], dtype=float32),\n",
      "    alpha_imag=Array([-0.085,  0.001, -0.078], dtype=float32),\n",
      "    theta_x=Array([ 1.573, -1.55 ], dtype=float32)\n",
      "  ),\n",
      "  SBSSet(\n",
      "    Ncut=100,\n",
      "    alpha_real=Array([0.078, 0.006, 0.089], dtype=float32),\n",
      "    alpha_imag=Array([-0.007, -3.547, -0.011], dtype=float32),\n",
      "    theta_x=Array([ 1.591, -1.567], dtype=float32)\n",
      "  )\n",
      "]\n",
      "Step 25 Loss: -0.9860000610351562\n",
      "[\n",
      "  SBSSet(\n",
      "    Ncut=100,\n",
      "    alpha_real=Array([ 0.01 , -3.55 ,  0.007], dtype=float32),\n",
      "    alpha_imag=Array([-0.085,  0.001, -0.078], dtype=float32),\n",
      "    theta_x=Array([ 1.573, -1.55 ], dtype=float32)\n",
      "  ),\n",
      "  SBSSet(\n",
      "    Ncut=100,\n",
      "    alpha_real=Array([0.078, 0.006, 0.089], dtype=float32),\n",
      "    alpha_imag=Array([-0.007, -3.547, -0.011], dtype=float32),\n",
      "    theta_x=Array([ 1.592, -1.567], dtype=float32)\n",
      "  )\n",
      "]\n",
      "Step 26 Loss: -0.9860000610351562\n",
      "[\n",
      "  SBSSet(\n",
      "    Ncut=100,\n",
      "    alpha_real=Array([ 0.01 , -3.551,  0.007], dtype=float32),\n",
      "    alpha_imag=Array([-0.085,  0.001, -0.078], dtype=float32),\n",
      "    theta_x=Array([ 1.572, -1.549], dtype=float32)\n",
      "  ),\n",
      "  SBSSet(\n",
      "    Ncut=100,\n",
      "    alpha_real=Array([0.078, 0.006, 0.089], dtype=float32),\n",
      "    alpha_imag=Array([-0.007, -3.547, -0.011], dtype=float32),\n",
      "    theta_x=Array([ 1.592, -1.568], dtype=float32)\n",
      "  )\n",
      "]\n",
      "Step 27 Loss: -0.9860000610351562\n",
      "[\n",
      "  SBSSet(\n",
      "    Ncut=100,\n",
      "    alpha_real=Array([ 0.01 , -3.551,  0.007], dtype=float32),\n",
      "    alpha_imag=Array([-0.085,  0.001, -0.078], dtype=float32),\n",
      "    theta_x=Array([ 1.572, -1.549], dtype=float32)\n",
      "  ),\n",
      "  SBSSet(\n",
      "    Ncut=100,\n",
      "    alpha_real=Array([0.078, 0.006, 0.089], dtype=float32),\n",
      "    alpha_imag=Array([-0.007, -3.547, -0.011], dtype=float32),\n",
      "    theta_x=Array([ 1.593, -1.568], dtype=float32)\n",
      "  )\n",
      "]\n",
      "Step 28 Loss: -0.9860000610351562\n",
      "[\n",
      "  SBSSet(\n",
      "    Ncut=100,\n",
      "    alpha_real=Array([ 0.01 , -3.551,  0.007], dtype=float32),\n",
      "    alpha_imag=Array([-0.084,  0.001, -0.078], dtype=float32),\n",
      "    theta_x=Array([ 1.571, -1.549], dtype=float32)\n",
      "  ),\n",
      "  SBSSet(\n",
      "    Ncut=100,\n",
      "    alpha_real=Array([0.078, 0.006, 0.089], dtype=float32),\n",
      "    alpha_imag=Array([-0.007, -3.548, -0.01 ], dtype=float32),\n",
      "    theta_x=Array([ 1.593, -1.569], dtype=float32)\n",
      "  )\n",
      "]\n",
      "Step 29 Loss: -0.9860000610351562\n",
      "[\n",
      "  SBSSet(\n",
      "    Ncut=100,\n",
      "    alpha_real=Array([ 0.01 , -3.551,  0.007], dtype=float32),\n",
      "    alpha_imag=Array([-0.084,  0.001, -0.078], dtype=float32),\n",
      "    theta_x=Array([ 1.571, -1.548], dtype=float32)\n",
      "  ),\n",
      "  SBSSet(\n",
      "    Ncut=100,\n",
      "    alpha_real=Array([0.078, 0.006, 0.089], dtype=float32),\n",
      "    alpha_imag=Array([-0.007, -3.548, -0.01 ], dtype=float32),\n",
      "    theta_x=Array([ 1.593, -1.57 ], dtype=float32)\n",
      "  )\n",
      "]\n",
      "Step 30 Loss: -0.9860000610351562\n",
      "[\n",
      "  SBSSet(\n",
      "    Ncut=100,\n",
      "    alpha_real=Array([ 0.009, -3.551,  0.007], dtype=float32),\n",
      "    alpha_imag=Array([-0.084,  0.001, -0.078], dtype=float32),\n",
      "    theta_x=Array([ 1.571, -1.548], dtype=float32)\n",
      "  ),\n",
      "  SBSSet(\n",
      "    Ncut=100,\n",
      "    alpha_real=Array([0.078, 0.006, 0.088], dtype=float32),\n",
      "    alpha_imag=Array([-0.007, -3.548, -0.01 ], dtype=float32),\n",
      "    theta_x=Array([ 1.594, -1.571], dtype=float32)\n",
      "  )\n",
      "]\n",
      "Step 31 Loss: -0.9860000610351562\n",
      "[\n",
      "  SBSSet(\n",
      "    Ncut=100,\n",
      "    alpha_real=Array([ 0.009, -3.551,  0.007], dtype=float32),\n",
      "    alpha_imag=Array([-0.084,  0.001, -0.077], dtype=float32),\n",
      "    theta_x=Array([ 1.57 , -1.548], dtype=float32)\n",
      "  ),\n",
      "  SBSSet(\n",
      "    Ncut=100,\n",
      "    alpha_real=Array([0.078, 0.007, 0.088], dtype=float32),\n",
      "    alpha_imag=Array([-0.007, -3.548, -0.01 ], dtype=float32),\n",
      "    theta_x=Array([ 1.594, -1.571], dtype=float32)\n",
      "  )\n",
      "]\n",
      "Step 32 Loss: -0.9860000610351562\n",
      "[\n",
      "  SBSSet(\n",
      "    Ncut=100,\n",
      "    alpha_real=Array([ 0.009, -3.551,  0.007], dtype=float32),\n",
      "    alpha_imag=Array([-0.084,  0.001, -0.077], dtype=float32),\n",
      "    theta_x=Array([ 1.57 , -1.547], dtype=float32)\n",
      "  ),\n",
      "  SBSSet(\n",
      "    Ncut=100,\n",
      "    alpha_real=Array([0.078, 0.007, 0.088], dtype=float32),\n",
      "    alpha_imag=Array([-0.007, -3.548, -0.01 ], dtype=float32),\n",
      "    theta_x=Array([ 1.595, -1.572], dtype=float32)\n",
      "  )\n",
      "]\n",
      "Step 33 Loss: -0.9860000610351562\n",
      "[\n",
      "  SBSSet(\n",
      "    Ncut=100,\n",
      "    alpha_real=Array([ 0.009, -3.551,  0.007], dtype=float32),\n",
      "    alpha_imag=Array([-0.084,  0.002, -0.077], dtype=float32),\n",
      "    theta_x=Array([ 1.569, -1.547], dtype=float32)\n",
      "  ),\n",
      "  SBSSet(\n",
      "    Ncut=100,\n",
      "    alpha_real=Array([0.078, 0.007, 0.088], dtype=float32),\n",
      "    alpha_imag=Array([-0.006, -3.548, -0.009], dtype=float32),\n",
      "    theta_x=Array([ 1.595, -1.573], dtype=float32)\n",
      "  )\n",
      "]\n",
      "Step 34 Loss: -0.9860000610351562\n",
      "[\n",
      "  SBSSet(\n",
      "    Ncut=100,\n",
      "    alpha_real=Array([ 0.009, -3.551,  0.007], dtype=float32),\n",
      "    alpha_imag=Array([-0.084,  0.002, -0.077], dtype=float32),\n",
      "    theta_x=Array([ 1.569, -1.547], dtype=float32)\n",
      "  ),\n",
      "  SBSSet(\n",
      "    Ncut=100,\n",
      "    alpha_real=Array([0.078, 0.007, 0.088], dtype=float32),\n",
      "    alpha_imag=Array([-0.006, -3.548, -0.009], dtype=float32),\n",
      "    theta_x=Array([ 1.595, -1.574], dtype=float32)\n",
      "  )\n",
      "]\n",
      "Step 35 Loss: -0.9860000610351562\n",
      "[\n",
      "  SBSSet(\n",
      "    Ncut=100,\n",
      "    alpha_real=Array([ 0.009, -3.551,  0.007], dtype=float32),\n",
      "    alpha_imag=Array([-0.084,  0.002, -0.077], dtype=float32),\n",
      "    theta_x=Array([ 1.568, -1.546], dtype=float32)\n",
      "  ),\n",
      "  SBSSet(\n",
      "    Ncut=100,\n",
      "    alpha_real=Array([0.078, 0.007, 0.087], dtype=float32),\n",
      "    alpha_imag=Array([-0.006, -3.548, -0.009], dtype=float32),\n",
      "    theta_x=Array([ 1.596, -1.574], dtype=float32)\n",
      "  )\n",
      "]\n",
      "Step 36 Loss: -0.9860000610351562\n",
      "[\n",
      "  SBSSet(\n",
      "    Ncut=100,\n",
      "    alpha_real=Array([ 0.009, -3.55 ,  0.007], dtype=float32),\n",
      "    alpha_imag=Array([-0.083,  0.002, -0.077], dtype=float32),\n",
      "    theta_x=Array([ 1.568, -1.546], dtype=float32)\n",
      "  ),\n",
      "  SBSSet(\n",
      "    Ncut=100,\n",
      "    alpha_real=Array([0.078, 0.007, 0.087], dtype=float32),\n",
      "    alpha_imag=Array([-0.006, -3.548, -0.009], dtype=float32),\n",
      "    theta_x=Array([ 1.596, -1.575], dtype=float32)\n",
      "  )\n",
      "]\n",
      "Step 37 Loss: -0.9860000610351562\n",
      "[\n",
      "  SBSSet(\n",
      "    Ncut=100,\n",
      "    alpha_real=Array([ 0.008, -3.55 ,  0.007], dtype=float32),\n",
      "    alpha_imag=Array([-0.083,  0.002, -0.077], dtype=float32),\n",
      "    theta_x=Array([ 1.567, -1.546], dtype=float32)\n",
      "  ),\n",
      "  SBSSet(\n",
      "    Ncut=100,\n",
      "    alpha_real=Array([0.078, 0.007, 0.087], dtype=float32),\n",
      "    alpha_imag=Array([-0.006, -3.548, -0.008], dtype=float32),\n",
      "    theta_x=Array([ 1.597, -1.576], dtype=float32)\n",
      "  )\n",
      "]\n",
      "Step 38 Loss: -0.9860000610351562\n",
      "[\n",
      "  SBSSet(\n",
      "    Ncut=100,\n",
      "    alpha_real=Array([ 0.008, -3.55 ,  0.007], dtype=float32),\n",
      "    alpha_imag=Array([-0.083,  0.002, -0.077], dtype=float32),\n",
      "    theta_x=Array([ 1.567, -1.545], dtype=float32)\n",
      "  ),\n",
      "  SBSSet(\n",
      "    Ncut=100,\n",
      "    alpha_real=Array([0.078, 0.007, 0.087], dtype=float32),\n",
      "    alpha_imag=Array([-0.006, -3.548, -0.008], dtype=float32),\n",
      "    theta_x=Array([ 1.597, -1.577], dtype=float32)\n",
      "  )\n",
      "]\n",
      "Step 39 Loss: -0.9860000610351562\n",
      "[\n",
      "  SBSSet(\n",
      "    Ncut=100,\n",
      "    alpha_real=Array([ 0.008, -3.55 ,  0.007], dtype=float32),\n",
      "    alpha_imag=Array([-0.083,  0.002, -0.077], dtype=float32),\n",
      "    theta_x=Array([ 1.566, -1.545], dtype=float32)\n",
      "  ),\n",
      "  SBSSet(\n",
      "    Ncut=100,\n",
      "    alpha_real=Array([0.078, 0.007, 0.086], dtype=float32),\n",
      "    alpha_imag=Array([-0.006, -3.548, -0.008], dtype=float32),\n",
      "    theta_x=Array([ 1.597, -1.577], dtype=float32)\n",
      "  )\n",
      "]\n",
      "Step 40 Loss: -0.9860000610351562\n",
      "[\n",
      "  SBSSet(\n",
      "    Ncut=100,\n",
      "    alpha_real=Array([ 0.008, -3.55 ,  0.007], dtype=float32),\n",
      "    alpha_imag=Array([-0.083,  0.002, -0.077], dtype=float32),\n",
      "    theta_x=Array([ 1.566, -1.545], dtype=float32)\n",
      "  ),\n",
      "  SBSSet(\n",
      "    Ncut=100,\n",
      "    alpha_real=Array([0.078, 0.007, 0.086], dtype=float32),\n",
      "    alpha_imag=Array([-0.006, -3.548, -0.008], dtype=float32),\n",
      "    theta_x=Array([ 1.598, -1.578], dtype=float32)\n",
      "  )\n",
      "]\n",
      "Step 41 Loss: -0.9860000610351562\n",
      "[\n",
      "  SBSSet(\n",
      "    Ncut=100,\n",
      "    alpha_real=Array([ 0.008, -3.55 ,  0.007], dtype=float32),\n",
      "    alpha_imag=Array([-0.083,  0.002, -0.077], dtype=float32),\n",
      "    theta_x=Array([ 1.565, -1.545], dtype=float32)\n",
      "  ),\n",
      "  SBSSet(\n",
      "    Ncut=100,\n",
      "    alpha_real=Array([0.078, 0.007, 0.086], dtype=float32),\n",
      "    alpha_imag=Array([-0.006, -3.548, -0.008], dtype=float32),\n",
      "    theta_x=Array([ 1.598, -1.579], dtype=float32)\n",
      "  )\n",
      "]\n",
      "Step 42 Loss: -0.9860000610351562\n",
      "[\n",
      "  SBSSet(\n",
      "    Ncut=100,\n",
      "    alpha_real=Array([ 0.008, -3.55 ,  0.007], dtype=float32),\n",
      "    alpha_imag=Array([-0.082,  0.002, -0.077], dtype=float32),\n",
      "    theta_x=Array([ 1.565, -1.544], dtype=float32)\n",
      "  ),\n",
      "  SBSSet(\n",
      "    Ncut=100,\n",
      "    alpha_real=Array([0.078, 0.007, 0.086], dtype=float32),\n",
      "    alpha_imag=Array([-0.006, -3.548, -0.007], dtype=float32),\n",
      "    theta_x=Array([ 1.599, -1.58 ], dtype=float32)\n",
      "  )\n",
      "]\n",
      "Step 43 Loss: -0.9860000610351562\n",
      "[\n",
      "  SBSSet(\n",
      "    Ncut=100,\n",
      "    alpha_real=Array([ 0.008, -3.55 ,  0.007], dtype=float32),\n",
      "    alpha_imag=Array([-0.082,  0.002, -0.077], dtype=float32),\n",
      "    theta_x=Array([ 1.564, -1.544], dtype=float32)\n",
      "  ),\n",
      "  SBSSet(\n",
      "    Ncut=100,\n",
      "    alpha_real=Array([0.078, 0.007, 0.086], dtype=float32),\n",
      "    alpha_imag=Array([-0.006, -3.548, -0.007], dtype=float32),\n",
      "    theta_x=Array([ 1.599, -1.58 ], dtype=float32)\n",
      "  )\n",
      "]\n",
      "Step 44 Loss: -0.9860000610351562\n",
      "[\n",
      "  SBSSet(\n",
      "    Ncut=100,\n",
      "    alpha_real=Array([ 0.007, -3.55 ,  0.007], dtype=float32),\n",
      "    alpha_imag=Array([-0.082,  0.002, -0.077], dtype=float32),\n",
      "    theta_x=Array([ 1.564, -1.544], dtype=float32)\n",
      "  ),\n",
      "  SBSSet(\n",
      "    Ncut=100,\n",
      "    alpha_real=Array([0.078, 0.007, 0.086], dtype=float32),\n",
      "    alpha_imag=Array([-0.006, -3.548, -0.007], dtype=float32),\n",
      "    theta_x=Array([ 1.599, -1.581], dtype=float32)\n",
      "  )\n",
      "]\n",
      "Step 45 Loss: -0.9860000610351562\n",
      "[\n",
      "  SBSSet(\n",
      "    Ncut=100,\n",
      "    alpha_real=Array([ 0.007, -3.55 ,  0.007], dtype=float32),\n",
      "    alpha_imag=Array([-0.082,  0.003, -0.077], dtype=float32),\n",
      "    theta_x=Array([ 1.564, -1.543], dtype=float32)\n",
      "  ),\n",
      "  SBSSet(\n",
      "    Ncut=100,\n",
      "    alpha_real=Array([0.078, 0.007, 0.085], dtype=float32),\n",
      "    alpha_imag=Array([-0.006, -3.548, -0.007], dtype=float32),\n",
      "    theta_x=Array([ 1.6  , -1.582], dtype=float32)\n",
      "  )\n",
      "]\n",
      "Step 46 Loss: -0.9860000610351562\n",
      "[\n",
      "  SBSSet(\n",
      "    Ncut=100,\n",
      "    alpha_real=Array([ 0.007, -3.55 ,  0.007], dtype=float32),\n",
      "    alpha_imag=Array([-0.082,  0.003, -0.077], dtype=float32),\n",
      "    theta_x=Array([ 1.563, -1.543], dtype=float32)\n",
      "  ),\n",
      "  SBSSet(\n",
      "    Ncut=100,\n",
      "    alpha_real=Array([0.078, 0.007, 0.085], dtype=float32),\n",
      "    alpha_imag=Array([-0.006, -3.548, -0.007], dtype=float32),\n",
      "    theta_x=Array([ 1.6  , -1.582], dtype=float32)\n",
      "  )\n",
      "]\n",
      "Step 47 Loss: -0.9860000610351562\n",
      "[\n",
      "  SBSSet(\n",
      "    Ncut=100,\n",
      "    alpha_real=Array([ 0.007, -3.55 ,  0.007], dtype=float32),\n",
      "    alpha_imag=Array([-0.082,  0.003, -0.077], dtype=float32),\n",
      "    theta_x=Array([ 1.563, -1.543], dtype=float32)\n",
      "  ),\n",
      "  SBSSet(\n",
      "    Ncut=100,\n",
      "    alpha_real=Array([0.078, 0.007, 0.085], dtype=float32),\n",
      "    alpha_imag=Array([-0.006, -3.548, -0.007], dtype=float32),\n",
      "    theta_x=Array([ 1.601, -1.583], dtype=float32)\n",
      "  )\n",
      "]\n",
      "Step 48 Loss: -0.9860000610351562\n",
      "[\n",
      "  SBSSet(\n",
      "    Ncut=100,\n",
      "    alpha_real=Array([ 0.007, -3.55 ,  0.008], dtype=float32),\n",
      "    alpha_imag=Array([-0.082,  0.003, -0.077], dtype=float32),\n",
      "    theta_x=Array([ 1.562, -1.543], dtype=float32)\n",
      "  ),\n",
      "  SBSSet(\n",
      "    Ncut=100,\n",
      "    alpha_real=Array([0.078, 0.007, 0.085], dtype=float32),\n",
      "    alpha_imag=Array([-0.006, -3.548, -0.006], dtype=float32),\n",
      "    theta_x=Array([ 1.601, -1.583], dtype=float32)\n",
      "  )\n",
      "]\n",
      "Step 49 Loss: -0.9860000610351562\n",
      "[\n",
      "  SBSSet(\n",
      "    Ncut=100,\n",
      "    alpha_real=Array([ 0.007, -3.55 ,  0.008], dtype=float32),\n",
      "    alpha_imag=Array([-0.082,  0.003, -0.077], dtype=float32),\n",
      "    theta_x=Array([ 1.562, -1.542], dtype=float32)\n",
      "  ),\n",
      "  SBSSet(\n",
      "    Ncut=100,\n",
      "    alpha_real=Array([0.078, 0.008, 0.085], dtype=float32),\n",
      "    alpha_imag=Array([-0.006, -3.548, -0.006], dtype=float32),\n",
      "    theta_x=Array([ 1.602, -1.584], dtype=float32)\n",
      "  )\n",
      "]\n",
      "Step 50 Loss: -0.9860000610351562\n",
      "[\n",
      "  SBSSet(\n",
      "    Ncut=100,\n",
      "    alpha_real=Array([ 0.007, -3.55 ,  0.008], dtype=float32),\n",
      "    alpha_imag=Array([-0.082,  0.003, -0.077], dtype=float32),\n",
      "    theta_x=Array([ 1.562, -1.542], dtype=float32)\n",
      "  ),\n",
      "  SBSSet(\n",
      "    Ncut=100,\n",
      "    alpha_real=Array([0.078, 0.008, 0.085], dtype=float32),\n",
      "    alpha_imag=Array([-0.006, -3.548, -0.006], dtype=float32),\n",
      "    theta_x=Array([ 1.602, -1.585], dtype=float32)\n",
      "  )\n",
      "]\n",
      "Step 51 Loss: -0.9860000610351562\n",
      "[\n",
      "  SBSSet(\n",
      "    Ncut=100,\n",
      "    alpha_real=Array([ 0.007, -3.55 ,  0.008], dtype=float32),\n",
      "    alpha_imag=Array([-0.082,  0.003, -0.077], dtype=float32),\n",
      "    theta_x=Array([ 1.561, -1.542], dtype=float32)\n",
      "  ),\n",
      "  SBSSet(\n",
      "    Ncut=100,\n",
      "    alpha_real=Array([0.079, 0.008, 0.085], dtype=float32),\n",
      "    alpha_imag=Array([-0.006, -3.548, -0.006], dtype=float32),\n",
      "    theta_x=Array([ 1.602, -1.585], dtype=float32)\n",
      "  )\n",
      "]\n",
      "Step 52 Loss: -0.9860000610351562\n",
      "[\n",
      "  SBSSet(\n",
      "    Ncut=100,\n",
      "    alpha_real=Array([ 0.007, -3.55 ,  0.008], dtype=float32),\n",
      "    alpha_imag=Array([-0.082,  0.003, -0.077], dtype=float32),\n",
      "    theta_x=Array([ 1.561, -1.541], dtype=float32)\n",
      "  ),\n",
      "  SBSSet(\n",
      "    Ncut=100,\n",
      "    alpha_real=Array([0.079, 0.008, 0.085], dtype=float32),\n",
      "    alpha_imag=Array([-0.006, -3.548, -0.006], dtype=float32),\n",
      "    theta_x=Array([ 1.603, -1.586], dtype=float32)\n",
      "  )\n",
      "]\n",
      "Step 53 Loss: -0.9860000610351562\n",
      "[\n",
      "  SBSSet(\n",
      "    Ncut=100,\n",
      "    alpha_real=Array([ 0.006, -3.55 ,  0.008], dtype=float32),\n",
      "    alpha_imag=Array([-0.082,  0.003, -0.077], dtype=float32),\n",
      "    theta_x=Array([ 1.56 , -1.541], dtype=float32)\n",
      "  ),\n",
      "  SBSSet(\n",
      "    Ncut=100,\n",
      "    alpha_real=Array([0.079, 0.008, 0.085], dtype=float32),\n",
      "    alpha_imag=Array([-0.006, -3.548, -0.006], dtype=float32),\n",
      "    theta_x=Array([ 1.603, -1.586], dtype=float32)\n",
      "  )\n",
      "]\n",
      "Step 54 Loss: -0.9860000610351562\n",
      "[\n",
      "  SBSSet(\n",
      "    Ncut=100,\n",
      "    alpha_real=Array([ 0.006, -3.55 ,  0.008], dtype=float32),\n",
      "    alpha_imag=Array([-0.082,  0.003, -0.077], dtype=float32),\n",
      "    theta_x=Array([ 1.56 , -1.541], dtype=float32)\n",
      "  ),\n",
      "  SBSSet(\n",
      "    Ncut=100,\n",
      "    alpha_real=Array([0.079, 0.008, 0.085], dtype=float32),\n",
      "    alpha_imag=Array([-0.006, -3.548, -0.006], dtype=float32),\n",
      "    theta_x=Array([ 1.604, -1.587], dtype=float32)\n",
      "  )\n",
      "]\n",
      "Step 55 Loss: -0.9860000610351562\n",
      "[\n",
      "  SBSSet(\n",
      "    Ncut=100,\n",
      "    alpha_real=Array([ 0.006, -3.55 ,  0.008], dtype=float32),\n",
      "    alpha_imag=Array([-0.082,  0.003, -0.077], dtype=float32),\n",
      "    theta_x=Array([ 1.56, -1.54], dtype=float32)\n",
      "  ),\n",
      "  SBSSet(\n",
      "    Ncut=100,\n",
      "    alpha_real=Array([0.079, 0.008, 0.085], dtype=float32),\n",
      "    alpha_imag=Array([-0.006, -3.548, -0.006], dtype=float32),\n",
      "    theta_x=Array([ 1.604, -1.587], dtype=float32)\n",
      "  )\n",
      "]\n",
      "Step 56 Loss: -0.9860000610351562\n",
      "[\n",
      "  SBSSet(\n",
      "    Ncut=100,\n",
      "    alpha_real=Array([ 0.006, -3.55 ,  0.008], dtype=float32),\n",
      "    alpha_imag=Array([-0.082,  0.003, -0.077], dtype=float32),\n",
      "    theta_x=Array([ 1.56, -1.54], dtype=float32)\n",
      "  ),\n",
      "  SBSSet(\n",
      "    Ncut=100,\n",
      "    alpha_real=Array([0.079, 0.008, 0.085], dtype=float32),\n",
      "    alpha_imag=Array([-0.006, -3.548, -0.006], dtype=float32),\n",
      "    theta_x=Array([ 1.605, -1.587], dtype=float32)\n",
      "  )\n",
      "]\n",
      "Step 57 Loss: -0.9860000610351562\n",
      "[\n",
      "  SBSSet(\n",
      "    Ncut=100,\n",
      "    alpha_real=Array([ 0.006, -3.55 ,  0.008], dtype=float32),\n",
      "    alpha_imag=Array([-0.082,  0.003, -0.077], dtype=float32),\n",
      "    theta_x=Array([ 1.559, -1.54 ], dtype=float32)\n",
      "  ),\n",
      "  SBSSet(\n",
      "    Ncut=100,\n",
      "    alpha_real=Array([0.079, 0.008, 0.085], dtype=float32),\n",
      "    alpha_imag=Array([-0.006, -3.548, -0.006], dtype=float32),\n",
      "    theta_x=Array([ 1.605, -1.588], dtype=float32)\n",
      "  )\n",
      "]\n",
      "Step 58 Loss: -0.9860000610351562\n",
      "[\n",
      "  SBSSet(\n",
      "    Ncut=100,\n",
      "    alpha_real=Array([ 0.006, -3.55 ,  0.008], dtype=float32),\n",
      "    alpha_imag=Array([-0.082,  0.003, -0.077], dtype=float32),\n",
      "    theta_x=Array([ 1.559, -1.54 ], dtype=float32)\n",
      "  ),\n",
      "  SBSSet(\n",
      "    Ncut=100,\n",
      "    alpha_real=Array([0.079, 0.008, 0.085], dtype=float32),\n",
      "    alpha_imag=Array([-0.006, -3.548, -0.005], dtype=float32),\n",
      "    theta_x=Array([ 1.605, -1.588], dtype=float32)\n",
      "  )\n",
      "]\n",
      "Step 59 Loss: -0.9860000610351562\n",
      "[\n",
      "  SBSSet(\n",
      "    Ncut=100,\n",
      "    alpha_real=Array([ 0.006, -3.55 ,  0.008], dtype=float32),\n",
      "    alpha_imag=Array([-0.082,  0.003, -0.077], dtype=float32),\n",
      "    theta_x=Array([ 1.559, -1.539], dtype=float32)\n",
      "  ),\n",
      "  SBSSet(\n",
      "    Ncut=100,\n",
      "    alpha_real=Array([0.079, 0.008, 0.085], dtype=float32),\n",
      "    alpha_imag=Array([-0.007, -3.548, -0.005], dtype=float32),\n",
      "    theta_x=Array([ 1.606, -1.589], dtype=float32)\n",
      "  )\n",
      "]\n",
      "Step 60 Loss: -0.9860000610351562\n",
      "[\n",
      "  SBSSet(\n",
      "    Ncut=100,\n",
      "    alpha_real=Array([ 0.006, -3.55 ,  0.008], dtype=float32),\n",
      "    alpha_imag=Array([-0.082,  0.004, -0.077], dtype=float32),\n",
      "    theta_x=Array([ 1.558, -1.539], dtype=float32)\n",
      "  ),\n",
      "  SBSSet(\n",
      "    Ncut=100,\n",
      "    alpha_real=Array([0.079, 0.008, 0.085], dtype=float32),\n",
      "    alpha_imag=Array([-0.007, -3.548, -0.005], dtype=float32),\n",
      "    theta_x=Array([ 1.606, -1.589], dtype=float32)\n",
      "  )\n",
      "]\n",
      "Step 61 Loss: -0.9860000610351562\n",
      "[\n",
      "  SBSSet(\n",
      "    Ncut=100,\n",
      "    alpha_real=Array([ 0.006, -3.55 ,  0.008], dtype=float32),\n",
      "    alpha_imag=Array([-0.082,  0.004, -0.078], dtype=float32),\n",
      "    theta_x=Array([ 1.558, -1.539], dtype=float32)\n",
      "  ),\n",
      "  SBSSet(\n",
      "    Ncut=100,\n",
      "    alpha_real=Array([0.079, 0.008, 0.085], dtype=float32),\n",
      "    alpha_imag=Array([-0.007, -3.548, -0.005], dtype=float32),\n",
      "    theta_x=Array([ 1.607, -1.589], dtype=float32)\n",
      "  )\n",
      "]\n",
      "Step 62 Loss: -0.9860000610351562\n",
      "[\n",
      "  SBSSet(\n",
      "    Ncut=100,\n",
      "    alpha_real=Array([ 0.006, -3.55 ,  0.008], dtype=float32),\n",
      "    alpha_imag=Array([-0.082,  0.004, -0.078], dtype=float32),\n",
      "    theta_x=Array([ 1.558, -1.538], dtype=float32)\n",
      "  ),\n",
      "  SBSSet(\n",
      "    Ncut=100,\n",
      "    alpha_real=Array([0.079, 0.008, 0.085], dtype=float32),\n",
      "    alpha_imag=Array([-0.007, -3.548, -0.005], dtype=float32),\n",
      "    theta_x=Array([ 1.607, -1.59 ], dtype=float32)\n",
      "  )\n",
      "]\n",
      "Step 63 Loss: -0.9860000610351562\n",
      "[\n",
      "  SBSSet(\n",
      "    Ncut=100,\n",
      "    alpha_real=Array([ 0.005, -3.55 ,  0.008], dtype=float32),\n",
      "    alpha_imag=Array([-0.082,  0.004, -0.078], dtype=float32),\n",
      "    theta_x=Array([ 1.558, -1.538], dtype=float32)\n",
      "  ),\n",
      "  SBSSet(\n",
      "    Ncut=100,\n",
      "    alpha_real=Array([0.079, 0.008, 0.085], dtype=float32),\n",
      "    alpha_imag=Array([-0.007, -3.548, -0.005], dtype=float32),\n",
      "    theta_x=Array([ 1.608, -1.59 ], dtype=float32)\n",
      "  )\n",
      "]\n",
      "Step 64 Loss: -0.9860000610351562\n",
      "[\n",
      "  SBSSet(\n",
      "    Ncut=100,\n",
      "    alpha_real=Array([ 0.005, -3.55 ,  0.008], dtype=float32),\n",
      "    alpha_imag=Array([-0.082,  0.004, -0.078], dtype=float32),\n",
      "    theta_x=Array([ 1.557, -1.538], dtype=float32)\n",
      "  ),\n",
      "  SBSSet(\n",
      "    Ncut=100,\n",
      "    alpha_real=Array([0.079, 0.008, 0.085], dtype=float32),\n",
      "    alpha_imag=Array([-0.007, -3.548, -0.005], dtype=float32),\n",
      "    theta_x=Array([ 1.608, -1.59 ], dtype=float32)\n",
      "  )\n",
      "]\n",
      "Step 65 Loss: -0.9860000610351562\n",
      "[\n",
      "  SBSSet(\n",
      "    Ncut=100,\n",
      "    alpha_real=Array([ 0.005, -3.55 ,  0.008], dtype=float32),\n",
      "    alpha_imag=Array([-0.082,  0.004, -0.078], dtype=float32),\n",
      "    theta_x=Array([ 1.557, -1.538], dtype=float32)\n",
      "  ),\n",
      "  SBSSet(\n",
      "    Ncut=100,\n",
      "    alpha_real=Array([0.079, 0.008, 0.086], dtype=float32),\n",
      "    alpha_imag=Array([-0.007, -3.548, -0.005], dtype=float32),\n",
      "    theta_x=Array([ 1.608, -1.591], dtype=float32)\n",
      "  )\n",
      "]\n",
      "Step 66 Loss: -0.9860000610351562\n",
      "[\n",
      "  SBSSet(\n",
      "    Ncut=100,\n",
      "    alpha_real=Array([ 0.005, -3.55 ,  0.008], dtype=float32),\n",
      "    alpha_imag=Array([-0.082,  0.004, -0.078], dtype=float32),\n",
      "    theta_x=Array([ 1.557, -1.537], dtype=float32)\n",
      "  ),\n",
      "  SBSSet(\n",
      "    Ncut=100,\n",
      "    alpha_real=Array([0.079, 0.009, 0.086], dtype=float32),\n",
      "    alpha_imag=Array([-0.007, -3.548, -0.005], dtype=float32),\n",
      "    theta_x=Array([ 1.609, -1.591], dtype=float32)\n",
      "  )\n",
      "]\n",
      "Step 67 Loss: -0.9860000610351562\n",
      "[\n",
      "  SBSSet(\n",
      "    Ncut=100,\n",
      "    alpha_real=Array([ 0.005, -3.55 ,  0.008], dtype=float32),\n",
      "    alpha_imag=Array([-0.082,  0.004, -0.078], dtype=float32),\n",
      "    theta_x=Array([ 1.557, -1.537], dtype=float32)\n",
      "  ),\n",
      "  SBSSet(\n",
      "    Ncut=100,\n",
      "    alpha_real=Array([0.079, 0.009, 0.086], dtype=float32),\n",
      "    alpha_imag=Array([-0.007, -3.548, -0.005], dtype=float32),\n",
      "    theta_x=Array([ 1.609, -1.591], dtype=float32)\n",
      "  )\n",
      "]\n",
      "Step 68 Loss: -0.9860000610351562\n",
      "[\n",
      "  SBSSet(\n",
      "    Ncut=100,\n",
      "    alpha_real=Array([ 0.005, -3.55 ,  0.009], dtype=float32),\n",
      "    alpha_imag=Array([-0.082,  0.004, -0.078], dtype=float32),\n",
      "    theta_x=Array([ 1.556, -1.537], dtype=float32)\n",
      "  ),\n",
      "  SBSSet(\n",
      "    Ncut=100,\n",
      "    alpha_real=Array([0.079, 0.009, 0.086], dtype=float32),\n",
      "    alpha_imag=Array([-0.007, -3.548, -0.005], dtype=float32),\n",
      "    theta_x=Array([ 1.61 , -1.591], dtype=float32)\n",
      "  )\n",
      "]\n",
      "Step 69 Loss: -0.9860000610351562\n",
      "[\n",
      "  SBSSet(\n",
      "    Ncut=100,\n",
      "    alpha_real=Array([ 0.005, -3.55 ,  0.009], dtype=float32),\n",
      "    alpha_imag=Array([-0.082,  0.004, -0.078], dtype=float32),\n",
      "    theta_x=Array([ 1.556, -1.537], dtype=float32)\n",
      "  ),\n",
      "  SBSSet(\n",
      "    Ncut=100,\n",
      "    alpha_real=Array([0.079, 0.009, 0.086], dtype=float32),\n",
      "    alpha_imag=Array([-0.007, -3.548, -0.005], dtype=float32),\n",
      "    theta_x=Array([ 1.61 , -1.592], dtype=float32)\n",
      "  )\n",
      "]\n",
      "Step 70 Loss: -0.9860000610351562\n",
      "[\n",
      "  SBSSet(\n",
      "    Ncut=100,\n",
      "    alpha_real=Array([ 0.005, -3.55 ,  0.009], dtype=float32),\n",
      "    alpha_imag=Array([-0.082,  0.004, -0.078], dtype=float32),\n",
      "    theta_x=Array([ 1.556, -1.536], dtype=float32)\n",
      "  ),\n",
      "  SBSSet(\n",
      "    Ncut=100,\n",
      "    alpha_real=Array([0.08 , 0.009, 0.086], dtype=float32),\n",
      "    alpha_imag=Array([-0.007, -3.548, -0.005], dtype=float32),\n",
      "    theta_x=Array([ 1.611, -1.592], dtype=float32)\n",
      "  )\n",
      "]\n",
      "Step 71 Loss: -0.9860000610351562\n",
      "[\n",
      "  SBSSet(\n",
      "    Ncut=100,\n",
      "    alpha_real=Array([ 0.005, -3.55 ,  0.009], dtype=float32),\n",
      "    alpha_imag=Array([-0.082,  0.004, -0.078], dtype=float32),\n",
      "    theta_x=Array([ 1.556, -1.536], dtype=float32)\n",
      "  ),\n",
      "  SBSSet(\n",
      "    Ncut=100,\n",
      "    alpha_real=Array([0.08 , 0.009, 0.086], dtype=float32),\n",
      "    alpha_imag=Array([-0.007, -3.548, -0.004], dtype=float32),\n",
      "    theta_x=Array([ 1.611, -1.592], dtype=float32)\n",
      "  )\n",
      "]\n",
      "Step 72 Loss: -0.9860000610351562\n",
      "[\n",
      "  SBSSet(\n",
      "    Ncut=100,\n",
      "    alpha_real=Array([ 0.005, -3.55 ,  0.009], dtype=float32),\n",
      "    alpha_imag=Array([-0.082,  0.004, -0.078], dtype=float32),\n",
      "    theta_x=Array([ 1.555, -1.536], dtype=float32)\n",
      "  ),\n",
      "  SBSSet(\n",
      "    Ncut=100,\n",
      "    alpha_real=Array([0.08 , 0.009, 0.086], dtype=float32),\n",
      "    alpha_imag=Array([-0.007, -3.548, -0.004], dtype=float32),\n",
      "    theta_x=Array([ 1.611, -1.592], dtype=float32)\n",
      "  )\n",
      "]\n",
      "Step 73 Loss: -0.9860000610351562\n",
      "[\n",
      "  SBSSet(\n",
      "    Ncut=100,\n",
      "    alpha_real=Array([ 0.005, -3.55 ,  0.009], dtype=float32),\n",
      "    alpha_imag=Array([-0.082,  0.004, -0.078], dtype=float32),\n",
      "    theta_x=Array([ 1.555, -1.536], dtype=float32)\n",
      "  ),\n",
      "  SBSSet(\n",
      "    Ncut=100,\n",
      "    alpha_real=Array([0.08 , 0.009, 0.086], dtype=float32),\n",
      "    alpha_imag=Array([-0.007, -3.548, -0.004], dtype=float32),\n",
      "    theta_x=Array([ 1.612, -1.593], dtype=float32)\n",
      "  )\n",
      "]\n",
      "Step 74 Loss: -0.9860000610351562\n",
      "[\n",
      "  SBSSet(\n",
      "    Ncut=100,\n",
      "    alpha_real=Array([ 0.004, -3.55 ,  0.009], dtype=float32),\n",
      "    alpha_imag=Array([-0.082,  0.004, -0.078], dtype=float32),\n",
      "    theta_x=Array([ 1.555, -1.535], dtype=float32)\n",
      "  ),\n",
      "  SBSSet(\n",
      "    Ncut=100,\n",
      "    alpha_real=Array([0.08 , 0.009, 0.086], dtype=float32),\n",
      "    alpha_imag=Array([-0.008, -3.548, -0.004], dtype=float32),\n",
      "    theta_x=Array([ 1.612, -1.593], dtype=float32)\n",
      "  )\n",
      "]\n",
      "Step 75 Loss: -0.9860000610351562\n",
      "[\n",
      "  SBSSet(\n",
      "    Ncut=100,\n",
      "    alpha_real=Array([ 0.004, -3.55 ,  0.009], dtype=float32),\n",
      "    alpha_imag=Array([-0.082,  0.004, -0.078], dtype=float32),\n",
      "    theta_x=Array([ 1.555, -1.535], dtype=float32)\n",
      "  ),\n",
      "  SBSSet(\n",
      "    Ncut=100,\n",
      "    alpha_real=Array([0.08 , 0.009, 0.086], dtype=float32),\n",
      "    alpha_imag=Array([-0.008, -3.548, -0.004], dtype=float32),\n",
      "    theta_x=Array([ 1.613, -1.593], dtype=float32)\n",
      "  )\n",
      "]\n",
      "Step 76 Loss: -0.9860000610351562\n",
      "[\n",
      "  SBSSet(\n",
      "    Ncut=100,\n",
      "    alpha_real=Array([ 0.004, -3.55 ,  0.009], dtype=float32),\n",
      "    alpha_imag=Array([-0.082,  0.004, -0.078], dtype=float32),\n",
      "    theta_x=Array([ 1.554, -1.535], dtype=float32)\n",
      "  ),\n",
      "  SBSSet(\n",
      "    Ncut=100,\n",
      "    alpha_real=Array([0.08 , 0.009, 0.086], dtype=float32),\n",
      "    alpha_imag=Array([-0.008, -3.548, -0.004], dtype=float32),\n",
      "    theta_x=Array([ 1.613, -1.593], dtype=float32)\n",
      "  )\n",
      "]\n",
      "Step 77 Loss: -0.9860000610351562\n",
      "[\n",
      "  SBSSet(\n",
      "    Ncut=100,\n",
      "    alpha_real=Array([ 0.004, -3.55 ,  0.009], dtype=float32),\n",
      "    alpha_imag=Array([-0.082,  0.004, -0.079], dtype=float32),\n",
      "    theta_x=Array([ 1.554, -1.535], dtype=float32)\n",
      "  ),\n",
      "  SBSSet(\n",
      "    Ncut=100,\n",
      "    alpha_real=Array([0.08 , 0.009, 0.086], dtype=float32),\n",
      "    alpha_imag=Array([-0.008, -3.548, -0.004], dtype=float32),\n",
      "    theta_x=Array([ 1.613, -1.593], dtype=float32)\n",
      "  )\n",
      "]\n",
      "Step 78 Loss: -0.9860000610351562\n",
      "[\n",
      "  SBSSet(\n",
      "    Ncut=100,\n",
      "    alpha_real=Array([ 0.004, -3.55 ,  0.009], dtype=float32),\n",
      "    alpha_imag=Array([-0.082,  0.004, -0.079], dtype=float32),\n",
      "    theta_x=Array([ 1.554, -1.534], dtype=float32)\n",
      "  ),\n",
      "  SBSSet(\n",
      "    Ncut=100,\n",
      "    alpha_real=Array([0.08 , 0.009, 0.086], dtype=float32),\n",
      "    alpha_imag=Array([-0.008, -3.548, -0.004], dtype=float32),\n",
      "    theta_x=Array([ 1.614, -1.594], dtype=float32)\n",
      "  )\n",
      "]\n",
      "Step 79 Loss: -0.9860000610351562\n",
      "[\n",
      "  SBSSet(\n",
      "    Ncut=100,\n",
      "    alpha_real=Array([ 0.004, -3.55 ,  0.009], dtype=float32),\n",
      "    alpha_imag=Array([-0.082,  0.004, -0.079], dtype=float32),\n",
      "    theta_x=Array([ 1.554, -1.534], dtype=float32)\n",
      "  ),\n",
      "  SBSSet(\n",
      "    Ncut=100,\n",
      "    alpha_real=Array([0.08 , 0.009, 0.086], dtype=float32),\n",
      "    alpha_imag=Array([-0.008, -3.548, -0.004], dtype=float32),\n",
      "    theta_x=Array([ 1.614, -1.594], dtype=float32)\n",
      "  )\n",
      "]\n",
      "Step 80 Loss: -0.9860000610351562\n",
      "[\n",
      "  SBSSet(\n",
      "    Ncut=100,\n",
      "    alpha_real=Array([ 0.004, -3.55 ,  0.009], dtype=float32),\n",
      "    alpha_imag=Array([-0.082,  0.004, -0.079], dtype=float32),\n",
      "    theta_x=Array([ 1.554, -1.534], dtype=float32)\n",
      "  ),\n",
      "  SBSSet(\n",
      "    Ncut=100,\n",
      "    alpha_real=Array([0.08 , 0.009, 0.086], dtype=float32),\n",
      "    alpha_imag=Array([-0.008, -3.548, -0.004], dtype=float32),\n",
      "    theta_x=Array([ 1.615, -1.594], dtype=float32)\n",
      "  )\n",
      "]\n",
      "Step 81 Loss: -0.9860000610351562\n",
      "[\n",
      "  SBSSet(\n",
      "    Ncut=100,\n",
      "    alpha_real=Array([ 0.004, -3.55 ,  0.009], dtype=float32),\n",
      "    alpha_imag=Array([-0.082,  0.004, -0.079], dtype=float32),\n",
      "    theta_x=Array([ 1.553, -1.534], dtype=float32)\n",
      "  ),\n",
      "  SBSSet(\n",
      "    Ncut=100,\n",
      "    alpha_real=Array([0.08 , 0.009, 0.086], dtype=float32),\n",
      "    alpha_imag=Array([-7.873e-03, -3.548e+00, -3.449e-03], dtype=float32),\n",
      "    theta_x=Array([ 1.615, -1.594], dtype=float32)\n",
      "  )\n",
      "]\n",
      "Step 82 Loss: -0.9860000610351562\n",
      "[\n",
      "  SBSSet(\n",
      "    Ncut=100,\n",
      "    alpha_real=Array([ 3.541e-03, -3.550e+00,  9.263e-03], dtype=float32),\n",
      "    alpha_imag=Array([-0.082,  0.004, -0.079], dtype=float32),\n",
      "    theta_x=Array([ 1.553, -1.534], dtype=float32)\n",
      "  ),\n",
      "  SBSSet(\n",
      "    Ncut=100,\n",
      "    alpha_real=Array([0.08 , 0.009, 0.086], dtype=float32),\n",
      "    alpha_imag=Array([-7.920e-03, -3.548e+00, -3.332e-03], dtype=float32),\n",
      "    theta_x=Array([ 1.615, -1.594], dtype=float32)\n",
      "  )\n",
      "]\n",
      "Step 83 Loss: -0.9860000610351562\n",
      "[\n",
      "  SBSSet(\n",
      "    Ncut=100,\n",
      "    alpha_real=Array([ 3.422e-03, -3.550e+00,  9.313e-03], dtype=float32),\n",
      "    alpha_imag=Array([-0.082,  0.004, -0.079], dtype=float32),\n",
      "    theta_x=Array([ 1.553, -1.533], dtype=float32)\n",
      "  ),\n",
      "  SBSSet(\n",
      "    Ncut=100,\n",
      "    alpha_real=Array([0.08 , 0.009, 0.086], dtype=float32),\n",
      "    alpha_imag=Array([-7.967e-03, -3.548e+00, -3.214e-03], dtype=float32),\n",
      "    theta_x=Array([ 1.616, -1.594], dtype=float32)\n",
      "  )\n",
      "]\n",
      "Step 84 Loss: -0.9860000610351562\n",
      "[\n",
      "  SBSSet(\n",
      "    Ncut=100,\n",
      "    alpha_real=Array([ 3.302e-03, -3.550e+00,  9.363e-03], dtype=float32),\n",
      "    alpha_imag=Array([-0.082,  0.005, -0.079], dtype=float32),\n",
      "    theta_x=Array([ 1.553, -1.533], dtype=float32)\n",
      "  ),\n",
      "  SBSSet(\n",
      "    Ncut=100,\n",
      "    alpha_real=Array([0.08 , 0.009, 0.086], dtype=float32),\n",
      "    alpha_imag=Array([-8.013e-03, -3.548e+00, -3.096e-03], dtype=float32),\n",
      "    theta_x=Array([ 1.616, -1.594], dtype=float32)\n",
      "  )\n",
      "]\n",
      "Step 85 Loss: -0.9860000610351562\n",
      "[\n",
      "  SBSSet(\n",
      "    Ncut=100,\n",
      "    alpha_real=Array([ 3.181e-03, -3.550e+00,  9.413e-03], dtype=float32),\n",
      "    alpha_imag=Array([-0.082,  0.005, -0.079], dtype=float32),\n",
      "    theta_x=Array([ 1.553, -1.533], dtype=float32)\n",
      "  ),\n",
      "  SBSSet(\n",
      "    Ncut=100,\n",
      "    alpha_real=Array([0.08 , 0.009, 0.086], dtype=float32),\n",
      "    alpha_imag=Array([-8.059e-03, -3.548e+00, -2.976e-03], dtype=float32),\n",
      "    theta_x=Array([ 1.617, -1.595], dtype=float32)\n",
      "  )\n",
      "]\n",
      "Step 86 Loss: -0.9860000610351562\n",
      "[\n",
      "  SBSSet(\n",
      "    Ncut=100,\n",
      "    alpha_real=Array([ 3.060e-03, -3.550e+00,  9.462e-03], dtype=float32),\n",
      "    alpha_imag=Array([-0.082,  0.005, -0.079], dtype=float32),\n",
      "    theta_x=Array([ 1.553, -1.533], dtype=float32)\n",
      "  ),\n",
      "  SBSSet(\n",
      "    Ncut=100,\n",
      "    alpha_real=Array([0.08 , 0.009, 0.086], dtype=float32),\n",
      "    alpha_imag=Array([-8.105e-03, -3.548e+00, -2.856e-03], dtype=float32),\n",
      "    theta_x=Array([ 1.617, -1.595], dtype=float32)\n",
      "  )\n",
      "]\n",
      "Step 87 Loss: -0.9860000610351562\n",
      "[\n",
      "  SBSSet(\n",
      "    Ncut=100,\n",
      "    alpha_real=Array([ 2.938e-03, -3.550e+00,  9.512e-03], dtype=float32),\n",
      "    alpha_imag=Array([-0.082,  0.005, -0.079], dtype=float32),\n",
      "    theta_x=Array([ 1.552, -1.533], dtype=float32)\n",
      "  ),\n",
      "  SBSSet(\n",
      "    Ncut=100,\n",
      "    alpha_real=Array([0.08 , 0.009, 0.086], dtype=float32),\n",
      "    alpha_imag=Array([-8.151e-03, -3.548e+00, -2.736e-03], dtype=float32),\n",
      "    theta_x=Array([ 1.617, -1.595], dtype=float32)\n",
      "  )\n",
      "]\n",
      "Step 88 Loss: -0.9860000610351562\n",
      "[\n",
      "  SBSSet(\n",
      "    Ncut=100,\n",
      "    alpha_real=Array([ 2.816e-03, -3.550e+00,  9.562e-03], dtype=float32),\n",
      "    alpha_imag=Array([-0.082,  0.005, -0.079], dtype=float32),\n",
      "    theta_x=Array([ 1.552, -1.532], dtype=float32)\n",
      "  ),\n",
      "  SBSSet(\n",
      "    Ncut=100,\n",
      "    alpha_real=Array([0.08 , 0.009, 0.086], dtype=float32),\n",
      "    alpha_imag=Array([-8.197e-03, -3.548e+00, -2.616e-03], dtype=float32),\n",
      "    theta_x=Array([ 1.618, -1.595], dtype=float32)\n",
      "  )\n",
      "]\n",
      "Step 89 Loss: -0.9860000610351562\n",
      "[\n",
      "  SBSSet(\n",
      "    Ncut=100,\n",
      "    alpha_real=Array([ 2.693e-03, -3.550e+00,  9.612e-03], dtype=float32),\n",
      "    alpha_imag=Array([-0.082,  0.005, -0.079], dtype=float32),\n",
      "    theta_x=Array([ 1.552, -1.532], dtype=float32)\n",
      "  ),\n",
      "  SBSSet(\n",
      "    Ncut=100,\n",
      "    alpha_real=Array([0.08 , 0.009, 0.086], dtype=float32),\n",
      "    alpha_imag=Array([-8.244e-03, -3.548e+00, -2.496e-03], dtype=float32),\n",
      "    theta_x=Array([ 1.618, -1.595], dtype=float32)\n",
      "  )\n",
      "]\n",
      "Step 90 Loss: -0.9860000610351562\n",
      "[\n",
      "  SBSSet(\n",
      "    Ncut=100,\n",
      "    alpha_real=Array([ 2.571e-03, -3.550e+00,  9.663e-03], dtype=float32),\n",
      "    alpha_imag=Array([-0.082,  0.005, -0.079], dtype=float32),\n",
      "    theta_x=Array([ 1.552, -1.532], dtype=float32)\n",
      "  ),\n",
      "  SBSSet(\n",
      "    Ncut=100,\n",
      "    alpha_real=Array([0.081, 0.009, 0.086], dtype=float32),\n",
      "    alpha_imag=Array([-8.291e-03, -3.548e+00, -2.377e-03], dtype=float32),\n",
      "    theta_x=Array([ 1.619, -1.595], dtype=float32)\n",
      "  )\n",
      "]\n",
      "Step 91 Loss: -0.9860000610351562\n",
      "[\n",
      "  SBSSet(\n",
      "    Ncut=100,\n",
      "    alpha_real=Array([ 2.449e-03, -3.550e+00,  9.714e-03], dtype=float32),\n",
      "    alpha_imag=Array([-0.082,  0.005, -0.079], dtype=float32),\n",
      "    theta_x=Array([ 1.552, -1.532], dtype=float32)\n",
      "  ),\n",
      "  SBSSet(\n",
      "    Ncut=100,\n",
      "    alpha_real=Array([0.081, 0.009, 0.086], dtype=float32),\n",
      "    alpha_imag=Array([-8.339e-03, -3.548e+00, -2.258e-03], dtype=float32),\n",
      "    theta_x=Array([ 1.619, -1.595], dtype=float32)\n",
      "  )\n",
      "]\n",
      "Step 92 Loss: -0.9860000610351562\n",
      "[\n",
      "  SBSSet(\n",
      "    Ncut=100,\n",
      "    alpha_real=Array([ 2.327e-03, -3.550e+00,  9.766e-03], dtype=float32),\n",
      "    alpha_imag=Array([-0.082,  0.005, -0.079], dtype=float32),\n",
      "    theta_x=Array([ 1.552, -1.532], dtype=float32)\n",
      "  ),\n",
      "  SBSSet(\n",
      "    Ncut=100,\n",
      "    alpha_real=Array([0.081, 0.009, 0.085], dtype=float32),\n",
      "    alpha_imag=Array([-8.387e-03, -3.548e+00, -2.139e-03], dtype=float32),\n",
      "    theta_x=Array([ 1.619, -1.595], dtype=float32)\n",
      "  )\n",
      "]\n",
      "Step 93 Loss: -0.9860000610351562\n",
      "[\n",
      "  SBSSet(\n",
      "    Ncut=100,\n",
      "    alpha_real=Array([ 2.205e-03, -3.550e+00,  9.818e-03], dtype=float32),\n",
      "    alpha_imag=Array([-0.082,  0.005, -0.079], dtype=float32),\n",
      "    theta_x=Array([ 1.551, -1.532], dtype=float32)\n",
      "  ),\n",
      "  SBSSet(\n",
      "    Ncut=100,\n",
      "    alpha_real=Array([0.081, 0.009, 0.085], dtype=float32),\n",
      "    alpha_imag=Array([-8.436e-03, -3.548e+00, -2.021e-03], dtype=float32),\n",
      "    theta_x=Array([ 1.62 , -1.595], dtype=float32)\n",
      "  )\n",
      "]\n",
      "Step 94 Loss: -0.9860000610351562\n",
      "[\n",
      "  SBSSet(\n",
      "    Ncut=100,\n",
      "    alpha_real=Array([ 2.084e-03, -3.550e+00,  9.870e-03], dtype=float32),\n",
      "    alpha_imag=Array([-0.082,  0.005, -0.079], dtype=float32),\n",
      "    theta_x=Array([ 1.551, -1.531], dtype=float32)\n",
      "  ),\n",
      "  SBSSet(\n",
      "    Ncut=100,\n",
      "    alpha_real=Array([0.081, 0.009, 0.085], dtype=float32),\n",
      "    alpha_imag=Array([-8.486e-03, -3.548e+00, -1.904e-03], dtype=float32),\n",
      "    theta_x=Array([ 1.62 , -1.595], dtype=float32)\n",
      "  )\n",
      "]\n",
      "Step 95 Loss: -0.9860000610351562\n",
      "[\n",
      "  SBSSet(\n",
      "    Ncut=100,\n",
      "    alpha_real=Array([ 1.963e-03, -3.550e+00,  9.923e-03], dtype=float32),\n",
      "    alpha_imag=Array([-0.082,  0.005, -0.079], dtype=float32),\n",
      "    theta_x=Array([ 1.551, -1.531], dtype=float32)\n",
      "  ),\n",
      "  SBSSet(\n",
      "    Ncut=100,\n",
      "    alpha_real=Array([0.081, 0.009, 0.085], dtype=float32),\n",
      "    alpha_imag=Array([-8.536e-03, -3.548e+00, -1.787e-03], dtype=float32),\n",
      "    theta_x=Array([ 1.62 , -1.595], dtype=float32)\n",
      "  )\n",
      "]\n",
      "Step 96 Loss: -0.9860000610351562\n",
      "[\n",
      "  SBSSet(\n",
      "    Ncut=100,\n",
      "    alpha_real=Array([ 1.842e-03, -3.550e+00,  9.976e-03], dtype=float32),\n",
      "    alpha_imag=Array([-0.082,  0.005, -0.079], dtype=float32),\n",
      "    theta_x=Array([ 1.551, -1.531], dtype=float32)\n",
      "  ),\n",
      "  SBSSet(\n",
      "    Ncut=100,\n",
      "    alpha_real=Array([0.081, 0.009, 0.085], dtype=float32),\n",
      "    alpha_imag=Array([-8.587e-03, -3.548e+00, -1.671e-03], dtype=float32),\n",
      "    theta_x=Array([ 1.621, -1.595], dtype=float32)\n",
      "  )\n",
      "]\n",
      "Step 97 Loss: -0.9860000610351562\n",
      "[\n",
      "  SBSSet(\n",
      "    Ncut=100,\n",
      "    alpha_real=Array([ 1.721e-03, -3.550e+00,  1.003e-02], dtype=float32),\n",
      "    alpha_imag=Array([-0.082,  0.005, -0.079], dtype=float32),\n",
      "    theta_x=Array([ 1.551, -1.531], dtype=float32)\n",
      "  ),\n",
      "  SBSSet(\n",
      "    Ncut=100,\n",
      "    alpha_real=Array([0.081, 0.009, 0.085], dtype=float32),\n",
      "    alpha_imag=Array([-8.639e-03, -3.548e+00, -1.556e-03], dtype=float32),\n",
      "    theta_x=Array([ 1.621, -1.595], dtype=float32)\n",
      "  )\n",
      "]\n",
      "Step 98 Loss: -0.9860000610351562\n",
      "[\n",
      "  SBSSet(\n",
      "    Ncut=100,\n",
      "    alpha_real=Array([ 1.601e-03, -3.550e+00,  1.008e-02], dtype=float32),\n",
      "    alpha_imag=Array([-0.082,  0.005, -0.08 ], dtype=float32),\n",
      "    theta_x=Array([ 1.551, -1.531], dtype=float32)\n",
      "  ),\n",
      "  SBSSet(\n",
      "    Ncut=100,\n",
      "    alpha_real=Array([0.081, 0.009, 0.085], dtype=float32),\n",
      "    alpha_imag=Array([-8.692e-03, -3.548e+00, -1.441e-03], dtype=float32),\n",
      "    theta_x=Array([ 1.622, -1.595], dtype=float32)\n",
      "  )\n",
      "]\n",
      "Step 99 Loss: -0.9860000610351562\n"
     ]
    },
    {
     "data": {
      "text/plain": [
       "[SBSSet(Ncut=100, alpha_real=f32[3], alpha_imag=f32[3], theta_x=f32[2]),\n",
       " SBSSet(Ncut=100, alpha_real=f32[3], alpha_imag=f32[3], theta_x=f32[2])]"
      ]
     },
     "execution_count": 328,
     "metadata": {},
     "output_type": "execute_result"
    }
   ],
   "source": [
    "sbs_opt.optimize(N_steps=100, learning_rate=.001, verbosity=2)"
   ]
  },
  {
   "cell_type": "markdown",
   "metadata": {},
   "source": [
    "### Fidelity Plot Recreation"
   ]
  },
  {
   "cell_type": "code",
   "execution_count": 37,
   "metadata": {},
   "outputs": [],
   "source": [
    "run_tests = True\n",
    "run_plots = True"
   ]
  },
  {
   "cell_type": "code",
   "execution_count": 38,
   "metadata": {},
   "outputs": [
    {
     "name": "stdout",
     "output_type": "stream",
     "text": [
      "(1+0j) (0.9999999+0j)\n",
      "(0.9996747+0j) (0.9993495+0j)\n",
      "(1.0000608+2.0805399e-26j) (1.0001216+1.0959253e-25j)\n",
      "(0.99983925-8.623184e-09j) (0.9996784+1.6012791e-09j)\n"
     ]
    }
   ],
   "source": [
    "if run_tests:\n",
    "    l_one = rho_C(0.,0.)\n",
    "    Xrot = X_E@l_one@dq.dag(X_E)\n",
    "    Zrot = Z_E@l_one@dq.dag(Z_E)\n",
    "    Yrot = Y_E@l_one@dq.dag(Y_E)\n",
    "    print(dq.trace(l_one), dq.trace(l_one@l_one))\n",
    "    print(dq.trace(Xrot), dq.trace(Xrot@Xrot))\n",
    "    print(dq.trace(Zrot), dq.trace(Zrot@Zrot))\n",
    "    print(dq.trace(Yrot), dq.trace(Yrot@Yrot))"
   ]
  },
  {
   "cell_type": "code",
   "execution_count": 39,
   "metadata": {},
   "outputs": [],
   "source": [
    "run_tests = False\n",
    "run_plots = False"
   ]
  },
  {
   "cell_type": "markdown",
   "metadata": {},
   "source": [
    "### Intuition for Manifold Actions\n"
   ]
  },
  {
   "cell_type": "code",
   "execution_count": 40,
   "metadata": {},
   "outputs": [],
   "source": [
    "run_plots = False\n",
    "run_tests = False"
   ]
  },
  {
   "cell_type": "markdown",
   "metadata": {},
   "source": [
    "#### Non Commuting Shifts"
   ]
  },
  {
   "cell_type": "code",
   "execution_count": 41,
   "metadata": {},
   "outputs": [],
   "source": [
    "if run_plots:\n",
    "    dq.plot.wigner(rho_T)"
   ]
  },
  {
   "cell_type": "code",
   "execution_count": 42,
   "metadata": {},
   "outputs": [],
   "source": [
    "if run_plots:\n",
    "  alpha_shift = 1j\n",
    "  shift_cycle = [1j, 1, -1j, -1]\n",
    "  rho_s = rho_T\n",
    "  for shift in shift_cycle:\n",
    "    rho_s = D(shift) @ rho_s\n",
    "    dq.plot.wigner(rho_s)"
   ]
  },
  {
   "cell_type": "markdown",
   "metadata": {},
   "source": [
    "#### Shift + Restabilize Visualization"
   ]
  },
  {
   "cell_type": "code",
   "execution_count": 43,
   "metadata": {},
   "outputs": [
    {
     "name": "stdout",
     "output_type": "stream",
     "text": [
      "Population: (12.158409118652344+0j)\n"
     ]
    }
   ],
   "source": [
    "if run_plots:\n",
    "    dq.plot.wigner(rho_T)\n",
    "print(f\"Population: {dq.expect(n_hat,rho_T)}\")"
   ]
  },
  {
   "cell_type": "code",
   "execution_count": 44,
   "metadata": {},
   "outputs": [
    {
     "name": "stdout",
     "output_type": "stream",
     "text": [
      "Population (shifted): (11.398311614990234+0j)\n"
     ]
    }
   ],
   "source": [
    "displacement_shift = .05\n",
    "rho_shifted = D(displacement_shift) @ rho_T\n",
    "print(f\"Population (shifted): {dq.expect(n_hat,rho_shifted)}\")\n",
    "if run_plots:\n",
    "    dq.plot.wigner(rho_shifted)"
   ]
  },
  {
   "cell_type": "code",
   "execution_count": 45,
   "metadata": {},
   "outputs": [
    {
     "name": "stderr",
     "output_type": "stream",
     "text": [
      "|██████████| 100.0% ◆ elapsed 132.72ms ◆ remaining 0.00ms\n"
     ]
    }
   ],
   "source": [
    "rho_0_shift = dq.tensor(rho_shifted,dq.fock_dm(2,0))\n",
    "shift_times = jnp.linspace(0,5,100)\n",
    "restabilize_res = dq.mesolve(\n",
    "  H=H_idle,\n",
    "  jump_ops=[dissipator_x,dissipator_p],\n",
    "  rho0=rho_0_shift,\n",
    "  tsave=shift_times,\n",
    "  exp_ops=[Number_rq,]\n",
    ")\n",
    "rho_shifted_t = dq.ptrace(restabilize_res.states,0,(N,2))\n",
    "n_t_restabilizing = restabilize_res.expects[0]"
   ]
  },
  {
   "cell_type": "code",
   "execution_count": 46,
   "metadata": {},
   "outputs": [],
   "source": [
    "if run_plots:\n",
    "    plt.plot(shift_times,jnp.real(n_t_restabilizing))\n",
    "    plt.xlabel(\"Time\")\n",
    "    plt.ylabel(\"Manifold Repopulation after \")\n",
    "    plt.show()"
   ]
  },
  {
   "cell_type": "code",
   "execution_count": 47,
   "metadata": {},
   "outputs": [],
   "source": [
    "if run_plots:\n",
    "  dq.plot.wigner_gif(\n",
    "    states=rho_shifted_t,\n",
    "    gif_duration=5,\n",
    "    fps=25,\n",
    "    npixels=200,\n",
    "    filename=\"shift_restabilize.gif\"\n",
    "  )"
   ]
  },
  {
   "cell_type": "markdown",
   "metadata": {},
   "source": [
    "#### $T_j$, $d_j$ Modes"
   ]
  },
  {
   "cell_type": "code",
   "execution_count": 48,
   "metadata": {},
   "outputs": [],
   "source": [
    "rho_T_j = T_j_E[0] @ rho_T # does not nothing as expected\n",
    "if run_plots:\n",
    "    dq.plot.wigner(rho_T_j)"
   ]
  },
  {
   "cell_type": "code",
   "execution_count": 49,
   "metadata": {},
   "outputs": [],
   "source": [
    "rho_d_j = d_j_E[0] @ rho_T # kills as expected\n",
    "if run_plots:\n",
    "  dq.plot.wigner(\n",
    "    state=rho_d_j,\n",
    "    xmax=8,\n",
    "    ymax=8\n",
    "  )"
   ]
  },
  {
   "cell_type": "markdown",
   "metadata": {},
   "source": [
    "## Control"
   ]
  },
  {
   "cell_type": "markdown",
   "metadata": {},
   "source": [
    "### Pulse Testing"
   ]
  },
  {
   "cell_type": "code",
   "execution_count": 50,
   "metadata": {},
   "outputs": [],
   "source": [
    "run_plots = False\n",
    "run_tests = True"
   ]
  },
  {
   "cell_type": "code",
   "execution_count": 51,
   "metadata": {},
   "outputs": [],
   "source": [
    "from jaxpulse.controllers import *\n",
    "from jaxpulse.optimizers import *\n",
    "from jaxtyping import Array"
   ]
  },
  {
   "cell_type": "markdown",
   "metadata": {},
   "source": [
    "#### Utils"
   ]
  },
  {
   "cell_type": "code",
   "execution_count": 52,
   "metadata": {},
   "outputs": [],
   "source": [
    "I2 = dq.eye(2)\n",
    "IN = dq.eye(N)\n",
    "\n",
    "II = dq.tensor(IN,I2)\n",
    "\n",
    "NI = dq.tensor(n_hat,I2)\n",
    "XI = dq.tensor(x, I2)\n",
    "PI = dq.tensor(p, I2)\n",
    "\n",
    "IZ = dq.tensor(IN,dq.sigmaz())\n",
    "IX = dq.tensor(IN,dq.sigmax())\n",
    "IY = dq.tensor(IN,dq.sigmay())\n",
    "XZ = dq.tensor(x, dq.sigmaz())\n",
    "PZ = dq.tensor(p, dq.sigmaz())\n",
    "\n",
    "Ia = dq.tensor(IN, dq.destroy(2))\n",
    "\n",
    "\n",
    "t_final = 4*np.pi\n",
    "delta_t = np.pi\n",
    "k = 7. # ie \\int_{-k}^{k} N(0,1) ~ 1"
   ]
  },
  {
   "cell_type": "code",
   "execution_count": 53,
   "metadata": {},
   "outputs": [],
   "source": [
    "def pulse_train_builder(amp: float, fraction: float):\n",
    "    return GaussianShapedPulseTrain(\n",
    "        amp=jnp.array([amp]),\n",
    "        mean=jnp.array([fraction*delta_t]),\n",
    "        sigma=jnp.array([delta_t/2/k]),\n",
    "        period=jnp.array([delta_t])\n",
    "    )\n",
    "\n",
    "def D_pulse_train(alpha: complex, fraction: float):\n",
    "    return (\n",
    "        p,\n",
    "        x,\n",
    "        pulse_train_builder(amp=alpha.real*root2, fraction=.5),\n",
    "        pulse_train_builder(amp=alpha.imag*root2, fraction=.5)\n",
    "    )\n",
    "def CD_pulse_train(alpha: complex, fraction: float) -> tuple[Array, Array, AbstractControl, AbstractControl]:\n",
    "    return (\n",
    "        PZ,\n",
    "        XZ,\n",
    "        pulse_train_builder(\n",
    "            amp=alpha.real*root2,\n",
    "            fraction=fraction\n",
    "        ),\n",
    "        pulse_train_builder(\n",
    "            amp=alpha.imag*root2,\n",
    "            fraction=fraction\n",
    "        )\n",
    "    )\n",
    "def ancilla_reset_pulse(gamma: float):\n",
    "    return (\n",
    "        jnp.sqrt(gamma)*dq.destroy(2),\n",
    "        GaussianHeightControl(\n",
    "            amp=jnp.array([.5]),\n",
    "            mean=jnp.array([duration/2]),\n",
    "            sigma=jnp.array([.1])\n",
    "        )\n",
    "    )"
   ]
  },
  {
   "cell_type": "markdown",
   "metadata": {},
   "source": [
    "#### Displacement Pulses"
   ]
  },
  {
   "cell_type": "code",
   "execution_count": 54,
   "metadata": {},
   "outputs": [],
   "source": [
    "rho0 = dq.fock_dm(N,0)\n",
    "H_0 = IN\n",
    "H_1, H_2, u_1, u_2 = D_pulse_train(1.0, .5)\n",
    "\n",
    "H_M = [H_1, H_2]\n",
    "d_controls = ControlVector([u_1, u_2])\n"
   ]
  },
  {
   "cell_type": "code",
   "execution_count": 55,
   "metadata": {},
   "outputs": [],
   "source": [
    "d_sys = OpenQuantumSystem(\n",
    "    H_0=IN,\n",
    "    H_M=H_M,\n",
    "    U_K=[],\n",
    "    C_K=[]\n",
    ")\n",
    "d_opt = OptimalController(\n",
    "    system=d_sys,\n",
    "    controls=d_controls,\n",
    "    y0=rho0,\n",
    "    y_final = lambda y: 0,\n",
    "    duration=t_final\n",
    ")"
   ]
  },
  {
   "cell_type": "code",
   "execution_count": 56,
   "metadata": {},
   "outputs": [],
   "source": [
    "if run_plots:\n",
    "    figpre, axpre = plt.subplots()\n",
    "    d_opt.plot(\n",
    "        ax=axpre,\n",
    "        exp_ops=[dq.number(N)],\n",
    "        exp_names=[\"<n>\"]\n",
    "    )\n",
    "    rho_t =d_opt.run()\n",
    "    axpre.legend()\n",
    "    figpre.show()"
   ]
  },
  {
   "cell_type": "code",
   "execution_count": 57,
   "metadata": {},
   "outputs": [],
   "source": [
    "if run_plots:\n",
    "    dq.plot.wigner_gif(rho_t)"
   ]
  },
  {
   "cell_type": "markdown",
   "metadata": {},
   "source": [
    "#### Controlled Displacement"
   ]
  },
  {
   "cell_type": "code",
   "execution_count": 58,
   "metadata": {},
   "outputs": [],
   "source": [
    "# states\n",
    "rho_0 = dq.tensor(dq.fock_dm(N, 0),.5*(dq.fock_dm(2,0)+dq.fock_dm(2,1))) # vac to start\n",
    "\n",
    "\n",
    "\n",
    "def ancilla_reset_pulse(fraction: float):\n",
    "    return None # TODO\n",
    "\n",
    "# Hamiltonians\n",
    "H_0 = dq.tensor(n_hat, I2)  # drift\n",
    "\n",
    "CD_train = CD_pulse_train(1.0, .5)\n",
    "H_1 = CD_train[0]\n",
    "H_2 = CD_train[1]\n",
    "u_1 = CD_train[2]\n",
    "u_2 = CD_train[3]\n",
    "H_M = [H_1, H_2]\n",
    "u_M = ControlVector([u_1, u_2])\n"
   ]
  },
  {
   "cell_type": "code",
   "execution_count": 59,
   "metadata": {},
   "outputs": [],
   "source": [
    "cd_sys = OpenQuantumSystem(\n",
    "    H_0=H_0,\n",
    "    H_M=H_M,\n",
    "    U_K=[],\n",
    "    C_K=[]\n",
    ")\n",
    "cd_opt = OptimalController(\n",
    "    system=cd_sys,\n",
    "    controls=u_M,\n",
    "    y0=rho_0,\n",
    "    duration=t_final,\n",
    "    y_final = lambda y: 0,\n",
    ")"
   ]
  },
  {
   "cell_type": "code",
   "execution_count": 60,
   "metadata": {},
   "outputs": [],
   "source": [
    "if run_plots:\n",
    "    figpre, axpre = plt.subplots()\n",
    "    cd_opt.plot(\n",
    "        ax=axpre,\n",
    "        exp_ops=[NI,IZ],\n",
    "        exp_names=[\"<n>\",\"<q>\"]\n",
    "    )\n",
    "    rho_t_cd = cd_opt.run()\n",
    "    rho_t_res_cd = dq.ptrace(rho_t_cd,0,(N,2))\n",
    "    axpre.legend()\n",
    "    figpre.show()"
   ]
  },
  {
   "cell_type": "code",
   "execution_count": 61,
   "metadata": {},
   "outputs": [],
   "source": [
    "if run_plots:\n",
    "    dq.plot.wigner_gif(rho_t_res_cd)"
   ]
  },
  {
   "cell_type": "code",
   "execution_count": 62,
   "metadata": {},
   "outputs": [],
   "source": [
    "\n",
    "\n",
    "# Dissipators, uncontrollable\n",
    "gamma_0 = .05\n",
    "U_0 = jnp.sqrt(gamma_0) * dq.tensor(a,I2)     # photon loss\n",
    "gamma_1 = .01\n",
    "U_1 = jnp.sqrt(gamma_1) * dq.tensor(n_hat,I2) # dephasing\n",
    "\n",
    "# Dissipators, controllable\n",
    "C_0 = Ia # ancilla reset operator\n",
    "v_1 = ancilla_reset_pulse(1.0)\n"
   ]
  },
  {
   "cell_type": "markdown",
   "metadata": {},
   "source": [
    "#### Qubit Rotation"
   ]
  },
  {
   "cell_type": "code",
   "execution_count": 63,
   "metadata": {},
   "outputs": [],
   "source": [
    "rho0=dq.fock_dm(2,0)\n",
    "rotation_sys = OpenQuantumSystem(\n",
    "    H_0=I2,\n",
    "    H_M=[dq.sigmax()],\n",
    "    U_K=[],\n",
    "    C_K=[]\n",
    ")\n",
    "duration = 10.0\n",
    "theta = jnp.pi/2\n",
    "\n",
    "u_1 = GaussianControl.std(theta, duration/3., .3)*2 # allows natural multiplication\n",
    "u_2 = GaussianControl.std(theta, duration*2./3., .3)\n",
    "rotator = OptimalController(\n",
    "    system=rotation_sys,\n",
    "    controls=ControlVector([u_1+u_2]), # allows natural combination\n",
    "    y0=rho0,\n",
    "    duration=duration,\n",
    "    y_final= lambda y: 0,\n",
    ")"
   ]
  },
  {
   "cell_type": "code",
   "execution_count": 64,
   "metadata": {},
   "outputs": [],
   "source": [
    "if run_plots:\n",
    "    figpre, axpre = plt.subplots()\n",
    "    rotator.plot(\n",
    "        ax=axpre,\n",
    "        exp_ops=[dq.sigmaz()],\n",
    "        exp_names=[\"<Z>\"]\n",
    "    )\n",
    "    rho_t_qub = rotator.run()\n",
    "    axpre.legend()\n",
    "    figpre.show()"
   ]
  },
  {
   "cell_type": "markdown",
   "metadata": {},
   "source": [
    "### SBS"
   ]
  },
  {
   "cell_type": "code",
   "execution_count": 65,
   "metadata": {},
   "outputs": [],
   "source": [
    "def D_pulse(alpha: complex, mean: float, sigma: float, period: float = None):\n",
    "    if period is not None:\n",
    "        return (\n",
    "            p,\n",
    "            x,\n",
    "            GaussianPulseTrain.std(amp=alpha.real*root2, mean=mean, sigma=sigma, period=period),\n",
    "            GaussianPulseTrain.std(amp=alpha.imag*root2, mean=mean, sigma=sigma, period=period)\n",
    "        )\n",
    "    else:\n",
    "        return (\n",
    "            p,\n",
    "            x,\n",
    "            GaussianControl.std(amp=alpha.real*root2, mean=mean, sigma=sigma),\n",
    "            GaussianControl.std(amp=alpha.imag*root2, mean=mean, sigma=sigma)\n",
    "        )    \n",
    "def CD_pulse(alpha: complex, mean: float, sigma: float, period: float = None):\n",
    "    if period is not None:\n",
    "        return (\n",
    "            PZ,\n",
    "            XZ,\n",
    "            GaussianPulseTrain.std(amp=alpha.real*root2, mean=mean, sigma=sigma, period=period),\n",
    "            GaussianPulseTrain.std(amp=alpha.imag*root2, mean=mean, sigma=sigma, period=period)\n",
    "        )\n",
    "    else:\n",
    "        return (\n",
    "            PZ,\n",
    "            XZ,\n",
    "            GaussianControl.std(amp=alpha.real*root2, mean=mean, sigma=sigma),\n",
    "            GaussianControl.std(amp=alpha.imag*root2, mean=mean, sigma=sigma)\n",
    "        )\n",
    "def ancilla_reset_pulse(mean: float, sigma: float, period: float = None):\n",
    "    if period is not None:\n",
    "        return (Ia, GaussianPulseTrain.std(amp=5.0, mean=mean, sigma=sigma, period=period))\n",
    "    else:\n",
    "        return (Ia, GaussianControl.std(amp=2.0, mean=mean, sigma=sigma))\n",
    "def qubit_rotation(angle: float, mean: float, sigma: float, period: float = None):\n",
    "    if period is not None:\n",
    "        return GaussianPulseTrain.std(amp=angle/2, mean=mean, sigma=sigma, period=period)\n",
    "    else: \n",
    "        return GaussianControl.std(amp=angle/2, mean=mean, sigma=sigma)"
   ]
  },
  {
   "cell_type": "code",
   "execution_count": 66,
   "metadata": {},
   "outputs": [
    {
     "name": "stdout",
     "output_type": "stream",
     "text": [
      "Controlled Displacements\n",
      "[-3.100e-09-0.071j  7.092e-02+0.j   ]\n",
      "[-3.548+1.551e-07j  0.   -3.548e+00j]\n"
     ]
    }
   ],
   "source": [
    "# goal: Pidot_perp = 0 forall t ie not leaving codespace\n",
    "rho0 = dq.tensor(dq.fock_dm(N,0),dq.fock_dm(2,1))\n",
    "H_0 = II\n",
    "\n",
    "CD1 = jnp.array([epsilon_j[j]*jnp.exp(1j*theta_j[j])*.5 for j in [0,1]])\n",
    "CD2 = jnp.array([-1j*l_j[j]*jnp.exp(1j*theta_j[j])*c_Delta for j in [0,1]])\n",
    "print(\"Controlled Displacements\")\n",
    "print(CD1)\n",
    "print(CD2)\n",
    "\n",
    "pulse_gap = 1\n",
    "duration = pulse_gap * 10\n",
    "sigma_default = .12\n",
    "\n",
    "#define all pulses for SBS\n",
    "C_reset, v_reset = ancilla_reset_pulse(mean=pulse_gap,          sigma=sigma_default, period=duration)\n",
    "u_rotY  = qubit_rotation(angle=jnp.pi/2, mean=pulse_gap*2,   sigma=sigma_default, period=duration)\n",
    "u_rotX1 = qubit_rotation(angle=jnp.pi,   mean=pulse_gap*3,   sigma=sigma_default, period=duration)\n",
    "H_P, H_X, u_p1, u_x1 = CD_pulse(alpha=CD1[0],   mean=4*pulse_gap,   sigma=sigma_default, period=duration)\n",
    "u_rotX2 = qubit_rotation(angle=jnp.pi/2, mean=5*pulse_gap,   sigma=sigma_default, period=duration)\n",
    "H_P, H_X, u_p2, u_x2 = CD_pulse(alpha=CD2[0],   mean=6*pulse_gap,   sigma=sigma_default, period=duration)\n",
    "u_rotX3 = qubit_rotation(angle=-jnp.pi/2,mean=7*pulse_gap,   sigma=sigma_default, period=duration)\n",
    "H_P, H_X, u_p3, u_x3 = CD_pulse(alpha=CD1[0],   mean=8*pulse_gap,   sigma=sigma_default, period=duration)\n",
    "\n",
    "\n",
    "u_p = u_p1 + u_p2 + u_p3\n",
    "u_x = u_x1 + u_x2 + u_x3\n",
    "u_rotX = u_rotX1 + u_rotX2 + u_rotX3\n",
    "H_M = [H_P, H_X, IX, IY]\n",
    "C_K = [C_reset]\n",
    "sbs_control = ControlVector([u_p, u_x, u_rotX, u_rotY, v_reset])\n",
    "\n",
    "\n",
    "# H_M = [IX, IY]\n",
    "# sbs_control = ControlVector([u_rotX1, u_rotY, v_reset])\n",
    "\n",
    "n_cycles = 2\n",
    "sbs_sys = OpenQuantumSystem(\n",
    "    H_0=H_0,\n",
    "    H_M=H_M,\n",
    "    U_K=[],\n",
    "    C_K=C_K\n",
    ")\n",
    "sbs = OptimalController(\n",
    "    system=sbs_sys,\n",
    "    controls=sbs_control,\n",
    "    y0=rho0,\n",
    "    y_final= lambda y: 0,\n",
    "    duration=duration*n_cycles\n",
    ")\n"
   ]
  },
  {
   "cell_type": "code",
   "execution_count": 67,
   "metadata": {},
   "outputs": [
    {
     "name": "stderr",
     "output_type": "stream",
     "text": [
      "/home/cjblake/miniconda3/envs/jiang/lib/python3.12/site-packages/equinox/_jit.py:51: UserWarning: Complex dtype support is work in progress, please read https://github.com/patrick-kidger/diffrax/pull/197 and proceed carefully.\n",
      "/tmp/ipykernel_59189/1987263312.py:8: UserWarning: FigureCanvasAgg is non-interactive, and thus cannot be shown\n"
     ]
    },
    {
     "data": {
      "image/png": "[encoded data removed]",
      "text/plain": [
       "<Figure size 640x480 with 1 Axes>"
      ]
     },
     "metadata": {},
     "output_type": "display_data"
    }
   ],
   "source": [
    "figpre, axpre = plt.subplots()\n",
    "sbs.plot(\n",
    "    ax=axpre,\n",
    "    exp_ops=[IX,IY,IZ],\n",
    "    exp_names=[\"<X>\",\"<Y>\",\"<Z>\"]\n",
    ")\n",
    "axpre.legend()\n",
    "figpre.show()"
   ]
  },
  {
   "cell_type": "code",
   "execution_count": 68,
   "metadata": {},
   "outputs": [
    {
     "name": "stderr",
     "output_type": "stream",
     "text": [
      "/home/cjblake/miniconda3/envs/jiang/lib/python3.12/site-packages/equinox/_jit.py:51: UserWarning: Complex dtype support is work in progress, please read https://github.com/patrick-kidger/diffrax/pull/197 and proceed carefully.\n"
     ]
    }
   ],
   "source": [
    "rho_t = sbs.run()\n",
    "rho_res_t = dq.ptrace(rho_t,0,(N,2))\n",
    "rho_qub_t = dq.ptrace(rho_t,1,(N,2))"
   ]
  },
  {
   "cell_type": "code",
   "execution_count": 69,
   "metadata": {},
   "outputs": [
    {
     "data": {
      "image/png": "[encoded data removed]",
      "text/plain": [
       "<Figure size 500x500 with 1 Axes>"
      ]
     },
     "metadata": {},
     "output_type": "display_data"
    }
   ],
   "source": [
    "b = qt.Bloch()\n",
    "vec = dq.expect([dq.sigmax(), dq.sigmay(), dq.sigmaz()], rho_qub_t[50:100,:,:])\n",
    "b.add_points([list(vec[0,:]), list(vec[1,:]), list(vec[2,:])])\n",
    "b.show()"
   ]
  },
  {
   "cell_type": "code",
   "execution_count": 70,
   "metadata": {},
   "outputs": [
    {
     "name": "stderr",
     "output_type": "stream",
     "text": [
      "100%|██████████| 50/50 [00:04<00:00, 10.52it/s]\n"
     ]
    },
    {
     "data": {
      "image/gif": "[encoded data removed]",
      "text/plain": [
       "<IPython.core.display.Image object>"
      ]
     },
     "metadata": {},
     "output_type": "display_data"
    }
   ],
   "source": [
    "dq.plot.wigner_gif(rho_res_t)"
   ]
  },
  {
   "cell_type": "code",
   "execution_count": null,
   "metadata": {},
   "outputs": [],
   "source": []
  }
 ],
 "metadata": {
  "kernelspec": {
   "display_name": "jiang",
   "language": "python",
   "name": "python3"
  },
  "language_info": {
   "codemirror_mode": {
    "name": "ipython",
    "version": 3
   },
   "file_extension": ".py",
   "mimetype": "text/x-python",
   "name": "python",
   "nbconvert_exporter": "python",
   "pygments_lexer": "ipython3",
   "version": "3.12.4"
  }
 },
 "nbformat": 4,
 "nbformat_minor": 2
}
