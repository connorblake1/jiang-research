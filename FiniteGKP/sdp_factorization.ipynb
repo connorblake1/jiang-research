{
 "cells": [
  {
   "cell_type": "markdown",
   "metadata": {},
   "source": [
    "# Optimizing sBs under loss channel and factoring the recovery matrix with unitaries\n",
    "9/20/24"
   ]
  },
  {
   "cell_type": "code",
   "execution_count": 4,
   "metadata": {},
   "outputs": [],
   "source": [
    "import dynamiqs as dq\n",
    "import qutip as qt\n",
    "import jax\n",
    "from jaxtyping import Array\n",
    "import ruff\n",
    "import diffrax as dx\n",
    "import jax.numpy as jnp\n",
    "import jax.scipy.linalg as jla\n",
    "import equinox as eqx\n",
    "import numpy as np\n",
    "import scipy as sp\n",
    "import matplotlib.pyplot as plt\n",
    "from IPython.display import display, Latex, Math\n",
    "import strawberryfields as sf\n",
    "import os\n",
    "from jaxpulse.controllers import *\n",
    "from jaxpulse.optimizers import *\n",
    "from gkp_utils.utils import *\n",
    "os.environ[\"XLA_PYTHON_CLIENT_MEM_FRACTION\"]=\".5\""
   ]
  },
  {
   "cell_type": "code",
   "execution_count": 5,
   "metadata": {},
   "outputs": [],
   "source": [
    "# optimizer of square GKP\n",
    "class SBS(eqx.Module):\n",
    "    small_1: Array\n",
    "    rot_1: Array\n",
    "    big: Array\n",
    "    rot_2: Array\n",
    "    small_2: Array\n",
    "\n",
    "    def __init__(self, small_1, rot_1, big, rot_2, small_2):\n",
    "        self.small_1 = small_1\n",
    "        self.rot_1 = rot_1\n",
    "        self.big = big\n",
    "        self.rot_2 = rot_2\n",
    "        self.small_2 = small_2\n",
    "\n",
    "    def generate_U(self):\n",
    "\n",
    "        return jnp.array(\n",
    "            [\n",
    "                CD(self.small_1[i]) @ (\n",
    "                dq.tensor(dq.eye(GKP_N),dq.dag(R_x(self.rot_1[i])))@(\n",
    "                CD(self.big[i])@(\n",
    "                dq.tensor(dq.eye(N),R_x(self.rot_2[i]))@(\n",
    "                CD(self.small_2[i])))))\n",
    "                for i in [0,1]\n",
    "            ]\n",
    "        )\n",
    "    \n",
    "    \n",
    "    def __call__(self, N_t: int, loss_rate: float = 0.): \n",
    "        plus = 1/jnp.sqrt(2.0)*(dq.fock(2,0) + dq.fock(2,1))\n",
    "        plusdm = dq.todm(plus)\n",
    "        U_sbs = self.generate_U()\n",
    "        U_sbs_dag = dq.dag(U_sBs)\n",
    "        rho_sbs = dq.tensor(dq.fock_dm(N,0),plusdm)\n",
    "        rho_t = jnp.zeros((N_t,GKP_N*2,GKP_N*2))\n",
    "        rho_t = rho_t.at[0,:,:].set(rho_sbs)\n",
    "        K0 = jnp.sqrt(loss_rate)*dq.tensor(dq.destroy(GKP_N),I2)\n",
    "        if 1 - loss_rate*GKP_N < 0:\n",
    "            raise ValueError(f\"Loss rate must not exceed {1/GKP_N}\")\n",
    "        K0_dag = dq.dag(K0)\n",
    "        K1 = dq.tensor(jnp.sqrt(IN - loss_rate*dq.number(GKP_N)), I2)\n",
    "        K1_dag = dq.dag(K1)\n",
    "        def loop_body(i,rho):\n",
    "            traced_out = dq.ptrace(rho,0,(GKP_N,2))\n",
    "            recombo = dq.tensor(traced_out, plusdm)\n",
    "            # unitary evolution\n",
    "            xevolve = U_sbs[0]@recombo@U_sbs_dag[0]\n",
    "            xpevolve = U_sbs[1]@xevolve@U_sbs_dag[1]\n",
    "            # kraus map\n",
    "            mapped = K0 @ xpevolve @ K0_dag + K1 @ xpevolve @ K1_dag\n",
    "\n",
    "            return rho.at[i,:,:].set(mapped.reshape((2*GKP_N,2*GKP_N)))\n",
    "        rho_t = jax.lax.fori_loop(0,N_t,loop_body,rho_t)\n",
    "\n",
    "        n_t = dq.expect(NI, rho_t)\n",
    "        return n_t, rho_t[-1,:,:]\n",
    "\n",
    "\n",
    "\n",
    "        \n"
   ]
  },
  {
   "cell_type": "code",
   "execution_count": null,
   "metadata": {},
   "outputs": [],
   "source": []
  }
 ],
 "metadata": {
  "kernelspec": {
   "display_name": "jiang",
   "language": "python",
   "name": "python3"
  },
  "language_info": {
   "codemirror_mode": {
    "name": "ipython",
    "version": 3
   },
   "file_extension": ".py",
   "mimetype": "text/x-python",
   "name": "python",
   "nbconvert_exporter": "python",
   "pygments_lexer": "ipython3",
   "version": "3.12.4"
  }
 },
 "nbformat": 4,
 "nbformat_minor": 2
}
