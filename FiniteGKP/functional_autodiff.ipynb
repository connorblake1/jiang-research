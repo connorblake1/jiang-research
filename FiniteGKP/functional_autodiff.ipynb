{
 "cells": [
  {
   "cell_type": "code",
   "execution_count": 2,
   "metadata": {},
   "outputs": [
    {
     "name": "stderr",
     "output_type": "stream",
     "text": [
      "WARNING:absl:grids_and_weights is None, this will create a dummy integration that always returns 0. The gradient of this dummy integration would still work.\n",
      "/home/cjb/miniconda3/envs/jiang/lib/python3.12/site-packages/jax/_src/core.py:678: FutureWarning: unhashable type: <class 'jax._src.interpreters.partial_eval.DynamicJaxprTracer'>. Attempting to hash a tracer will lead to an error in a future JAX release.\n",
      "  warnings.warn(\n",
      "/home/cjb/miniconda3/envs/jiang/lib/python3.12/site-packages/jax/_src/core.py:678: FutureWarning: unhashable type: <class 'jax._src.interpreters.partial_eval.JaxprTracer'>. Attempting to hash a tracer will lead to an error in a future JAX release.\n",
      "  warnings.warn(\n",
      "/home/cjb/miniconda3/envs/jiang/lib/python3.12/site-packages/jax/_src/core.py:678: FutureWarning: unhashable type: <class 'jax._src.interpreters.ad.JVPTracer'>. Attempting to hash a tracer will lead to an error in a future JAX release.\n",
      "  warnings.warn(\n"
     ]
    },
    {
     "data": {
      "text/plain": [
       "Array(0.36787948, dtype=float32)"
      ]
     },
     "execution_count": 2,
     "metadata": {},
     "output_type": "execute_result"
    }
   ],
   "source": [
    "import jax\n",
    "import jax.numpy as jnp\n",
    "from jaxtyping import Float32, Array\n",
    "from autofd import function\n",
    "import autofd.operators as o\n",
    "\n",
    "# define a function\n",
    "@function\n",
    "def f(x: Float32[Array, \"\"]) -> Float32[Array, \"\"]:\n",
    "  return -x**2\n",
    "\n",
    "# define a functional\n",
    "def F(f):\n",
    "  return o.integrate(o.compose(jnp.exp, f))\n",
    "\n",
    "# take the functional derivative\n",
    "dFdf = jax.grad(F)(f)\n",
    "\n",
    "# dFdf is invokable!\n",
    "dFdf(1.)"
   ]
  }
 ],
 "metadata": {
  "kernelspec": {
   "display_name": "jiang",
   "language": "python",
   "name": "python3"
  },
  "language_info": {
   "codemirror_mode": {
    "name": "ipython",
    "version": 3
   },
   "file_extension": ".py",
   "mimetype": "text/x-python",
   "name": "python",
   "nbconvert_exporter": "python",
   "pygments_lexer": "ipython3",
   "version": "3.12.4"
  }
 },
 "nbformat": 4,
 "nbformat_minor": 2
}
