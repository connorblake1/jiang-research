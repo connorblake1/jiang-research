{
 "cells": [
  {
   "cell_type": "code",
   "execution_count": 1,
   "metadata": {},
   "outputs": [],
   "source": [
    "import jax.numpy as jnp\n",
    "import jax.scipy.linalg as jla\n",
    "import jax\n",
    "import numpy as np\n",
    "import matplotlib.pyplot as plot\n",
    "import dynamiqs as dq"
   ]
  },
  {
   "cell_type": "code",
   "execution_count": 8,
   "metadata": {},
   "outputs": [],
   "source": [
    "def com(A,B):\n",
    "    return A@B + B@A"
   ]
  },
  {
   "cell_type": "code",
   "execution_count": 9,
   "metadata": {},
   "outputs": [],
   "source": [
    "N = 10\n",
    "X = (dq.create(N) + dq.destroy(N))/jnp.sqrt(2.)\n",
    "P = (dq.create(N) - dq.destroy(N))/1j/jnp.sqrt(2.)\n",
    "I = dq.eye(N)\n",
    "Xz = dq.tensor(X,dq.sigmaz())\n",
    "alpha = 2.0\n",
    "Ix = dq.tensor(I,dq.sigmax())\n",
    "beta = 1.4\n",
    "UXz = jla.expm(-1j*alpha*Xz)\n",
    "UIx = jla.expm(-1j*beta*Ix)\n",
    "A = UXz@UIx\n",
    "B = jla.expm(-1j*(alpha*Xz + beta*Ix))"
   ]
  },
  {
   "cell_type": "code",
   "execution_count": null,
   "metadata": {},
   "outputs": [],
   "source": []
  },
  {
   "cell_type": "code",
   "execution_count": 27,
   "metadata": {},
   "outputs": [],
   "source": [
    "import sympy as sp\n",
    "from sympy.physics.quantum import TensorProduct\n",
    "\n",
    "alpha, beta = sp.symbols('alpha beta')\n",
    "# Define Pauli matrices\n",
    "sigma_x = sp.Matrix([[0, 1], [1, 0]])\n",
    "sigma_z = sp.Matrix([[1, 0], [0, -1]])\n",
    "I2 = sp.Matrix([[1,0],[0,1]])\n",
    "\n",
    "# Define the tensor products\n",
    "Ix = alpha*TensorProduct(I2,sigma_x)\n",
    "Xz = beta*TensorProduct(sigma_x, sigma_z)"
   ]
  },
  {
   "cell_type": "code",
   "execution_count": 36,
   "metadata": {},
   "outputs": [],
   "source": [
    "def BCH(A,B,n=3):\n",
    "    total = A + B\n",
    "\n",
    "    comAB = com(A,B)\n",
    "    total += 1/2 * comAB\n",
    "\n",
    "    comAAB = com(A,comAB)\n",
    "    comBAB = com(B,comAB)\n",
    "    total += 1/12*(comAAB + comBAB)\n",
    "\n",
    "    comBAAB = com(B,comAAB)\n",
    "    print(comBAAB)\n",
    "    total += 1/24 * comBAAB\n",
    "\n",
    "    print( com(A,com(A,com(A,com(A,B)))) + com(B,com(B,com(B,com(B,A))))  )\n",
    "    return total"
   ]
  },
  {
   "cell_type": "code",
   "execution_count": 37,
   "metadata": {},
   "outputs": [
    {
     "name": "stdout",
     "output_type": "stream",
     "text": [
      "Matrix([[0, 0, 0, 0], [0, 0, 0, 0], [0, 0, 0, 0], [0, 0, 0, 0]])\n",
      "Matrix([[0, 16*alpha*beta**4, 16*alpha**4*beta, 0], [16*alpha*beta**4, 0, 0, -16*alpha**4*beta], [16*alpha**4*beta, 0, 0, 16*alpha*beta**4], [0, -16*alpha**4*beta, 16*alpha*beta**4, 0]])\n"
     ]
    },
    {
     "data": {
      "text/latex": [
       "$\\displaystyle \\left[\\begin{matrix}0 & - 0.333333333333333 \\alpha \\beta^{2} + \\alpha & 0.333333333333333 \\alpha^{2} \\beta + \\beta & - 1.0 \\alpha \\beta\\\\- 0.333333333333333 \\alpha \\beta^{2} + \\alpha & 0 & 1.0 \\alpha \\beta & - 0.333333333333333 \\alpha^{2} \\beta - \\beta\\\\0.333333333333333 \\alpha^{2} \\beta + \\beta & - 1.0 \\alpha \\beta & 0 & - 0.333333333333333 \\alpha \\beta^{2} + \\alpha\\\\1.0 \\alpha \\beta & - 0.333333333333333 \\alpha^{2} \\beta - \\beta & - 0.333333333333333 \\alpha \\beta^{2} + \\alpha & 0\\end{matrix}\\right]$"
      ],
      "text/plain": [
       "Matrix([\n",
       "[                                       0, -0.333333333333333*alpha*beta**2 + alpha,   0.333333333333333*alpha**2*beta + beta,                          -1.0*alpha*beta],\n",
       "[-0.333333333333333*alpha*beta**2 + alpha,                                        0,                           1.0*alpha*beta,  -0.333333333333333*alpha**2*beta - beta],\n",
       "[  0.333333333333333*alpha**2*beta + beta,                          -1.0*alpha*beta,                                        0, -0.333333333333333*alpha*beta**2 + alpha],\n",
       "[                          1.0*alpha*beta,  -0.333333333333333*alpha**2*beta - beta, -0.333333333333333*alpha*beta**2 + alpha,                                        0]])"
      ]
     },
     "execution_count": 37,
     "metadata": {},
     "output_type": "execute_result"
    }
   ],
   "source": [
    "BCH(Ix,Xz)"
   ]
  },
  {
   "cell_type": "code",
   "execution_count": null,
   "metadata": {},
   "outputs": [],
   "source": []
  },
  {
   "cell_type": "code",
   "execution_count": null,
   "metadata": {},
   "outputs": [],
   "source": []
  }
 ],
 "metadata": {
  "kernelspec": {
   "display_name": "jiang",
   "language": "python",
   "name": "python3"
  },
  "language_info": {
   "codemirror_mode": {
    "name": "ipython",
    "version": 3
   },
   "file_extension": ".py",
   "mimetype": "text/x-python",
   "name": "python",
   "nbconvert_exporter": "python",
   "pygments_lexer": "ipython3",
   "version": "3.12.4"
  }
 },
 "nbformat": 4,
 "nbformat_minor": 2
}
