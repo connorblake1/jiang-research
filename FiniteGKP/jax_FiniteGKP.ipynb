{
 "cells": [
  {
   "cell_type": "markdown",
   "metadata": {},
   "source": [
    "# JAX'd Finite GKP Simulations\n",
    "7/27/24\n"
   ]
  },
  {
   "cell_type": "markdown",
   "metadata": {},
   "source": [
    "## Setup"
   ]
  },
  {
   "cell_type": "code",
   "execution_count": 40,
   "metadata": {},
   "outputs": [],
   "source": [
    "import dynamiqs as dq\n",
    "import qutip as qt\n",
    "import jax\n",
    "from jax import jit\n",
    "import ruff\n",
    "import diffrax as dx\n",
    "import jax.numpy as jnp\n",
    "import jax.scipy.linalg as jla\n",
    "import numpy as np\n",
    "import scipy as sp\n",
    "import matplotlib.pyplot as plt\n",
    "from dynamiqs import tensor\n",
    "from IPython.display import display, Latex, Math\n",
    "import strawberryfields as sf\n",
    "import os\n",
    "from jaxpulse.controllers import *\n",
    "from jaxpulse.optimizers import *\n",
    "os.environ[\"XLA_PYTHON_CLIENT_MEM_FRACTION\"]=\".5\""
   ]
  },
  {
   "cell_type": "code",
   "execution_count": 41,
   "metadata": {},
   "outputs": [],
   "source": [
    "jnp.set_printoptions(precision=3)\n",
    "def mat_print(array,tol=3):\n",
    "    matrix = ''\n",
    "    for row in array:\n",
    "        try:\n",
    "            for number in row:\n",
    "                matrix += f'{np.round(number,tol)}&'\n",
    "        except TypeError:\n",
    "            matrix += f'{row}&'\n",
    "        matrix = matrix[:-1] + r'\\\\'\n",
    "    display(Math(r'\\begin{bmatrix}'+matrix+r'\\end{bmatrix}'))\n",
    "def lat_print(val):\n",
    "    display(Latex(val))"
   ]
  },
  {
   "cell_type": "code",
   "execution_count": 42,
   "metadata": {},
   "outputs": [],
   "source": [
    "run_plots = False\n",
    "run_tests = True"
   ]
  },
  {
   "cell_type": "code",
   "execution_count": 43,
   "metadata": {},
   "outputs": [],
   "source": [
    "\n",
    "N = 100  # full computational\n",
    "n = 25  # truncated for viewing / verification\n",
    "hbar = 1\n",
    "root2 = jnp.sqrt(2)\n",
    "pi = jnp.pi\n",
    "def tprint(mat,tol=3):\n",
    "    mat_print(mat[:n, :n],tol=tol)"
   ]
  },
  {
   "cell_type": "code",
   "execution_count": 44,
   "metadata": {},
   "outputs": [],
   "source": [
    "\n",
    "ket0 = dq.fock(2, 0)\n",
    "ket1 = dq.fock(2, 1)\n",
    "ketplus = (ket0 + ket1) / root2\n",
    "ketminus = (ket0 - ket1) / root2\n",
    "\n",
    "I_N = dq.eye(N)\n",
    "a = dq.destroy(N)\n",
    "a_dag = dq.create(N)\n",
    "n_hat = dq.number(N)\n",
    "x = (a + a_dag) / root2\n",
    "p = -1j * (a - a_dag) / root2"
   ]
  },
  {
   "cell_type": "code",
   "execution_count": 45,
   "metadata": {},
   "outputs": [],
   "source": [
    "def R_x(theta):\n",
    "    return jla.expm(-1j*theta*dq.sigmax()/2)\n",
    "def R_z(theta):\n",
    "    return jla.expm(-1j*theta*dq.sigmaz()/2)\n",
    "def com(ai,bi):\n",
    "    return ai@bi - bi@ai\n",
    "def anticom(ai,bi):\n",
    "    return ai@bi + bi@ai\n",
    "@jit\n",
    "def sinm(ai):\n",
    "    return -.5j*(jla.expm(1j*ai) - jla.expm(-1j*ai))\n",
    "@jit\n",
    "def sawtooth_fourier(ai,mi,ni=60):\n",
    "    # a is the matrix\n",
    "    # ni is the fourier truncation\n",
    "    # mi is the half-width of the pulse\n",
    "    sum = jnp.zeros_like(ai)\n",
    "    arg_a = ai*2*jnp.pi/mi\n",
    "    for k in range(1,ni+1):\n",
    "        sum = sum + ((-1)**k)/k*sinm(arg_a*k)\n",
    "    return -mi/jnp.pi*sum\n",
    "def D(alpha_i):\n",
    "    return jla.expm(alpha_i*a_dag - jnp.conj(alpha_i)*a)\n",
    "def CD(beta_i):\n",
    "    return jla.expm(tensor(beta_i*a_dag - jnp.conj(beta_i)*a,dq.sigmaz())/(2*root2))\n",
    "def S(xi):\n",
    "    return jla.expm(jnp.conj(xi)*(a@a)-xi*(a_dag@a_dag))"
   ]
  },
  {
   "cell_type": "code",
   "execution_count": 46,
   "metadata": {},
   "outputs": [],
   "source": [
    "if run_plots:\n",
    "  psi = dq.coherent(N, 0)\n",
    "  dq.plot.wigner(psi)\n",
    "  print(psi[:10])\n",
    "  # displacement\n",
    "  alpha_shift = 2 + 1j\n",
    "  psi_shift = D(alpha_shift) @ psi\n",
    "  print(psi_shift[:10])\n",
    "  dq.plot.wigner(psi_shift)\n",
    "\n",
    "  # controlled displacement\n",
    "  psi_cd_shift_0 = CD(2*alpha_shift) @ tensor(psi,ket0)\n",
    "  dq.plot.wigner(dq.ptrace(psi_cd_shift_0,0,(N,2)))\n",
    "  psi_cd_shift_1 = CD(2*alpha_shift) @ tensor(psi,ket1)\n",
    "  dq.plot.wigner(dq.ptrace(psi_cd_shift_1,0,(N,2)))\n",
    "  psi_cd_shift_p = CD(2*alpha_shift) @ tensor(psi,ketminus)\n",
    "  dq.plot.wigner(dq.ptrace(psi_cd_shift_p,0,(N,2)))\n",
    "\n",
    "  # squeezing\n",
    "  psi_squeeze_0 = S(.2j) @ psi\n",
    "  dq.plot.wigner(psi_squeeze_0)\n",
    "  "
   ]
  },
  {
   "cell_type": "markdown",
   "metadata": {},
   "source": [
    "## Exact GKP Variables"
   ]
  },
  {
   "cell_type": "code",
   "execution_count": 47,
   "metadata": {},
   "outputs": [],
   "source": [
    "\n",
    "l = 2 * jnp.sqrt(pi)\n",
    "alpha = l * jnp.array([0, 1])\n",
    "beta = l * jnp.array([-1, 0])\n",
    "l_j = jnp.array(\n",
    "    [\n",
    "        jnp.sqrt(alpha[0] ** 2 + beta[0] ** 2),\n",
    "        jnp.sqrt(alpha[1] ** 2 + beta[1] ** 2),\n",
    "    ]\n",
    ")\n",
    "q_j = jnp.array(\n",
    "    [\n",
    "        alpha[0] * x + beta[0] * p,\n",
    "        alpha[1] * x + beta[1] * p,\n",
    "    ]\n",
    ")\n",
    "q_j_perp = jnp.array(\n",
    "    [\n",
    "        alpha[0] *p - beta[0] * x,\n",
    "        alpha[1] * p - beta[1] * x,\n",
    "    ]\n",
    ")\n",
    "omega_12 = alpha[0] * beta[1] - beta[0] * alpha[1]\n",
    "T_j_0 = jnp.array(\n",
    "    [\n",
    "        jla.expm(1j * q_j[0]),\n",
    "        jla.expm(1j * q_j[1]),\n",
    "    ]\n",
    ")\n",
    "X_0 = jla.expm(1j*q_j[0]/2.)\n",
    "Z_0 = jla.expm(1j*q_j[1]/2.)\n",
    "Y_0 = jla.expm(1j*(q_j[0]+q_j[1])/2.)\n",
    "x_j = jnp.array(\n",
    "  [\n",
    "    q_j[0]/l_j[0],\n",
    "    q_j[1]/l_j[1]\n",
    "  ]\n",
    ")\n",
    "x_j_perp = jnp.array(\n",
    "  [\n",
    "    q_j_perp[0]/l_j[0],\n",
    "    q_j_perp[1]/l_j[1]\n",
    "  ]\n",
    ")"
   ]
  },
  {
   "cell_type": "code",
   "execution_count": 48,
   "metadata": {},
   "outputs": [],
   "source": [
    "\n",
    "x_j_m = jnp.array(\n",
    "  [\n",
    "    sawtooth_fourier(x_j[0],2*pi/l_j[0]),\n",
    "    sawtooth_fourier(x_j[1],2*pi/l_j[1])\n",
    "  ]\n",
    ")"
   ]
  },
  {
   "cell_type": "markdown",
   "metadata": {},
   "source": [
    "### Verification of Variables"
   ]
  },
  {
   "cell_type": "code",
   "execution_count": 49,
   "metadata": {},
   "outputs": [],
   "source": [
    "def jallclose(A,B,n=n,rtol=1e-6,atol=1e-6):\n",
    "  return jnp.allclose(A[:n, :n],B[:n, :n],atol=atol,rtol=rtol)"
   ]
  },
  {
   "cell_type": "code",
   "execution_count": 50,
   "metadata": {},
   "outputs": [
    {
     "data": {
      "text/latex": [
       "$[q_j,q_{j,perp}]= i (a_j^2 + b_j^2)$?"
      ],
      "text/plain": [
       "<IPython.core.display.Latex object>"
      ]
     },
     "metadata": {},
     "output_type": "display_data"
    },
    {
     "name": "stdout",
     "output_type": "stream",
     "text": [
      "True\n",
      "True\n"
     ]
    },
    {
     "data": {
      "text/latex": [
       "$[x_j,x_{j,perp}]= i$?"
      ],
      "text/plain": [
       "<IPython.core.display.Latex object>"
      ]
     },
     "metadata": {},
     "output_type": "display_data"
    },
    {
     "name": "stdout",
     "output_type": "stream",
     "text": [
      "True\n",
      "True\n"
     ]
    },
    {
     "data": {
      "text/latex": [
       "$T_{j,0} = e^{i q_j} = D((- b_j + i a_j) / \\sqrt{2} ) $?"
      ],
      "text/plain": [
       "<IPython.core.display.Latex object>"
      ]
     },
     "metadata": {},
     "output_type": "display_data"
    },
    {
     "name": "stdout",
     "output_type": "stream",
     "text": [
      "True\n",
      "True\n"
     ]
    },
    {
     "data": {
      "text/latex": [
       "$\\omega_{12} = 4 \\pi?$"
      ],
      "text/plain": [
       "<IPython.core.display.Latex object>"
      ]
     },
     "metadata": {},
     "output_type": "display_data"
    },
    {
     "name": "stdout",
     "output_type": "stream",
     "text": [
      "True\n"
     ]
    },
    {
     "data": {
      "text/latex": [
       "$[T_{1,0},T_{2,0}] = 0$?"
      ],
      "text/plain": [
       "<IPython.core.display.Latex object>"
      ]
     },
     "metadata": {},
     "output_type": "display_data"
    },
    {
     "name": "stdout",
     "output_type": "stream",
     "text": [
      "True\n"
     ]
    },
    {
     "data": {
      "text/latex": [
       "$X_0 = \\sqrt{T_{1,0}} = e^{iq_1/2}$?"
      ],
      "text/plain": [
       "<IPython.core.display.Latex object>"
      ]
     },
     "metadata": {},
     "output_type": "display_data"
    },
    {
     "name": "stdout",
     "output_type": "stream",
     "text": [
      "True\n"
     ]
    },
    {
     "data": {
      "text/latex": [
       "$Z_0 = \\sqrt{T_{2,0}} = e^{iq_2/2}$?"
      ],
      "text/plain": [
       "<IPython.core.display.Latex object>"
      ]
     },
     "metadata": {},
     "output_type": "display_data"
    },
    {
     "name": "stdout",
     "output_type": "stream",
     "text": [
      "True\n"
     ]
    },
    {
     "data": {
      "text/latex": [
       "$[X_0,T_{2,0}]=0$?"
      ],
      "text/plain": [
       "<IPython.core.display.Latex object>"
      ]
     },
     "metadata": {},
     "output_type": "display_data"
    },
    {
     "name": "stdout",
     "output_type": "stream",
     "text": [
      "True\n"
     ]
    },
    {
     "data": {
      "text/latex": [
       "$[X_0,T_{1,0}]=0$?"
      ],
      "text/plain": [
       "<IPython.core.display.Latex object>"
      ]
     },
     "metadata": {},
     "output_type": "display_data"
    },
    {
     "name": "stdout",
     "output_type": "stream",
     "text": [
      "True\n"
     ]
    },
    {
     "data": {
      "text/latex": [
       "$[Z_0,T_{1,0}]=0$?"
      ],
      "text/plain": [
       "<IPython.core.display.Latex object>"
      ]
     },
     "metadata": {},
     "output_type": "display_data"
    },
    {
     "name": "stdout",
     "output_type": "stream",
     "text": [
      "True\n"
     ]
    },
    {
     "data": {
      "text/latex": [
       "$[Z_0,T_{2,0}]=0$?"
      ],
      "text/plain": [
       "<IPython.core.display.Latex object>"
      ]
     },
     "metadata": {},
     "output_type": "display_data"
    },
    {
     "name": "stdout",
     "output_type": "stream",
     "text": [
      "True\n"
     ]
    },
    {
     "data": {
      "text/latex": [
       "$\\{Z_0,X_0\\}=0$?"
      ],
      "text/plain": [
       "<IPython.core.display.Latex object>"
      ]
     },
     "metadata": {},
     "output_type": "display_data"
    },
    {
     "name": "stdout",
     "output_type": "stream",
     "text": [
      "True\n"
     ]
    },
    {
     "data": {
      "text/latex": [
       "$Y_0 = -i Z_0 X_0$?"
      ],
      "text/plain": [
       "<IPython.core.display.Latex object>"
      ]
     },
     "metadata": {},
     "output_type": "display_data"
    },
    {
     "name": "stdout",
     "output_type": "stream",
     "text": [
      "True\n"
     ]
    }
   ],
   "source": [
    "lat_print(\"$[q_j,q_{j,perp}]= i (a_j^2 + b_j^2)$?\")\n",
    "com_0 = com(q_j[0],q_j_perp[0])\n",
    "com_1 = com(q_j[1],q_j_perp[1])\n",
    "print(jnp.all(jnp.isclose(jnp.diag(com_0)[:n],1j*(alpha[0]**2+beta[0]**2))))\n",
    "print(jnp.all(jnp.isclose(jnp.diag(com_0)[:n],1j*(alpha[0]**2+beta[0]**2))))\n",
    "lat_print(\"$[x_j,x_{j,perp}]= i$?\")\n",
    "com_0 = com(x_j[0],x_j_perp[0])\n",
    "com_1 = com(x_j[1],x_j_perp[1])\n",
    "print(jnp.all(jnp.isclose(jnp.diag(com_0)[:n],1j)))\n",
    "print(jnp.all(jnp.isclose(jnp.diag(com_0)[:n],1j)))\n",
    "lat_print(\"$T_{j,0} = e^{i q_j} = D((- b_j + i a_j) / \\\\sqrt{2} ) $?\")\n",
    "Dshift_0 = D((-beta[0]+1j*alpha[0])/root2)\n",
    "Dshift_1 = D((-beta[1]+1j*alpha[1])/root2)\n",
    "print(jallclose(T_j_0[0],Dshift_0))\n",
    "print(jallclose(T_j_0[1],Dshift_1))\n",
    "lat_print(\"$\\\\omega_{12} = 4 \\\\pi?$\")\n",
    "print(jnp.isclose(omega_12,4*pi))\n",
    "lat_print(\"$[T_{1,0},T_{2,0}] = 0$?\")\n",
    "c0 = T_j_0[0]@T_j_0[1]\n",
    "c1 = T_j_0[1]@T_j_0[0]\n",
    "print(jallclose(c0,c1))\n",
    "lat_print(\"$X_0 = \\\\sqrt{T_{1,0}} = e^{iq_1/2}$?\")\n",
    "exp_def_0 = jla.expm(1j*q_j[0]/2.0)\n",
    "print(jallclose(X_0,exp_def_0))\n",
    "lat_print(\"$Z_0 = \\\\sqrt{T_{2,0}} = e^{iq_2/2}$?\")\n",
    "exp_def_1 = jla.expm(1j*q_j[1]/2.0)\n",
    "print(jallclose(Z_0,exp_def_1))\n",
    "lat_print(\"$[X_0,T_{2,0}]=0$?\")\n",
    "X_T2_com = com(X_0,T_j_0[1])\n",
    "print(jallclose(X_T2_com,np.zeros((n,n))))\n",
    "lat_print(\"$[X_0,T_{1,0}]=0$?\")\n",
    "X_T1_com = com(X_0,T_j_0[0])\n",
    "print(jallclose(X_T1_com,np.zeros((n,n))))\n",
    "lat_print(\"$[Z_0,T_{1,0}]=0$?\")\n",
    "Z_T1_com = com(Z_0,T_j_0[0])\n",
    "print(jallclose(Z_T1_com,np.zeros((n,n))))\n",
    "lat_print(\"$[Z_0,T_{2,0}]=0$?\")\n",
    "Z_T2_com = com(Z_0,T_j_0[1])\n",
    "print(jallclose(Z_T2_com,np.zeros((n,n))))\n",
    "lat_print(\"$\\\\{Z_0,X_0\\\\}=0$?\")\n",
    "X_Z_anticom = anticom(X_0,Z_0)\n",
    "print(jallclose(X_Z_anticom,np.zeros((n,n))))\n",
    "lat_print(\"$Y_0 = -i Z_0 X_0$?\")\n",
    "prod = -1j*Z_0@X_0\n",
    "print(jallclose(Y_0,prod))\n",
    "# lat_print(\"$\\\\ln T_{j,0} = i l_j x_{j,[2\\\\pi/l_j]}$? ($\\\\pm .05$)\")\n",
    "# eps = .05\n",
    "# log_T_0 = jla.logm(T_j_0[0])\n",
    "# log_T_1 = jla.logm(T_j_0[1])\n",
    "# rhs_0 = 1j*l_j[0]*x_j_m[0]\n",
    "# rhs_1 = 1j*l_j[1]*x_j_m[1]\n",
    "# print(jallclose(log_T_0,rhs_0,atol=eps))\n",
    "# print(jallclose(log_T_1,rhs_1,atol=eps))"
   ]
  },
  {
   "cell_type": "markdown",
   "metadata": {},
   "source": [
    "## Finite GKP Variables"
   ]
  },
  {
   "cell_type": "code",
   "execution_count": 51,
   "metadata": {},
   "outputs": [],
   "source": [
    "Delta = .2\n",
    "c_Delta = jnp.cosh(Delta**2)\n",
    "s_Delta = jnp.sinh(Delta**2)\n",
    "t_Delta = jnp.tanh(Delta**2)\n",
    "m_j = 2*pi/c_Delta/l_j\n",
    "E_D = jla.expm(-Delta**2*n_hat)\n",
    "E_D_plus = jla.expm(-Delta**2*(n_hat + I_N))\n",
    "E_D_minus = jla.expm(-Delta**2*(n_hat - I_N))\n",
    "E_D_inv = jla.inv(E_D)\n",
    "c_n = .5*(E_D_minus@E_D_inv + E_D_plus@E_D_inv)\n",
    "s_n = .5*(E_D_minus@E_D_inv - E_D_plus@E_D_inv)\n",
    "T_j_E = jnp.array([E_D@T_j_0[0]@E_D_inv, E_D@T_j_0[1]@E_D_inv])\n",
    "d_j_E = 1.0/root2*(x_j_m/jnp.sqrt(t_Delta) + 1j*x_j_perp*jnp.sqrt(t_Delta))\n",
    "d_j_E_dag = np.array([jnp.conj(d_j.T) for d_j in d_j_E])\n",
    "d_j_E_prod = np.array([d_j_E_dag[j]@d_j_E[j] for j in [0,1]])\n",
    "X_E = jla.expm(.5*(1j*q_j[0]*c_Delta - q_j_perp[0]*s_Delta))\n",
    "Z_E = jla.expm(.5*(1j*q_j[1]*c_Delta - q_j_perp[1]*s_Delta))\n",
    "Y_E = 1j*Z_E@X_E"
   ]
  },
  {
   "cell_type": "markdown",
   "metadata": {},
   "source": [
    "### Verification of Variables"
   ]
  },
  {
   "cell_type": "code",
   "execution_count": 52,
   "metadata": {},
   "outputs": [
    {
     "data": {
      "text/latex": [
       "$ET_{i,0}E^{-1} = e^{EqE^{-1}}$?"
      ],
      "text/plain": [
       "<IPython.core.display.Latex object>"
      ]
     },
     "metadata": {},
     "output_type": "display_data"
    },
    {
     "name": "stdout",
     "output_type": "stream",
     "text": [
      "True\n",
      "True\n"
     ]
    },
    {
     "data": {
      "text/latex": [
       "$[T_{1,E},T_{2,E}] = 0$?"
      ],
      "text/plain": [
       "<IPython.core.display.Latex object>"
      ]
     },
     "metadata": {},
     "output_type": "display_data"
    },
    {
     "name": "stdout",
     "output_type": "stream",
     "text": [
      "True\n"
     ]
    },
    {
     "data": {
      "text/latex": [
       "$T_{j,E}=e^{\\cosh(\\Delta^2)\\sinh(\\Delta^2)l_j^2/2}e^{-q_{j,perp}\\sinh(\\Delta^2)}e^{iq_j\\cosh(\\Delta^2)}$?"
      ],
      "text/plain": [
       "<IPython.core.display.Latex object>"
      ]
     },
     "metadata": {},
     "output_type": "display_data"
    },
    {
     "name": "stdout",
     "output_type": "stream",
     "text": [
      "True\n",
      "True\n"
     ]
    }
   ],
   "source": [
    "lat_print(\"$ET_{i,0}E^{-1} = e^{EqE^{-1}}$?\")\n",
    "exp_form_0 = jla.expm(1j*E_D@(q_j[0]@E_D_inv))\n",
    "print(jallclose(T_j_E[0],exp_form_0))\n",
    "exp_form_1 = jla.expm(1j*E_D@(q_j[1]@E_D_inv))\n",
    "print(jallclose(T_j_E[1],exp_form_1))\n",
    "lat_print(\"$[T_{1,E},T_{2,E}] = 0$?\")\n",
    "com_val = com(T_j_E[0],T_j_E[1])\n",
    "print(jallclose(com_val,jnp.zeros((n,n)),atol=1e-4))\n",
    "lat_print(\"$T_{j,E}=e^{\\\\cosh(\\\\Delta^2)\\\\sinh(\\\\Delta^2)l_j^2/2}e^{-q_{j,perp}\\\\sinh(\\\\Delta^2)}e^{iq_j\\\\cosh(\\\\Delta^2)}$?\")\n",
    "exp_def_0 = np.exp(c_Delta*s_Delta*l_j[0]**2/2)*(jla.expm(-q_j_perp[0]*s_Delta)@jla.expm(1j*q_j[0]))\n",
    "print(jallclose(T_j_E[0],exp_def_0,atol=.01))\n",
    "exp_def_1 = np.exp(c_Delta*s_Delta*l_j[1]**2/2)*(jla.expm(-q_j_perp[1]*s_Delta)@jla.expm(1j*q_j[1]))\n",
    "print(jallclose(T_j_E[1],exp_def_1,atol=.01))"
   ]
  },
  {
   "cell_type": "markdown",
   "metadata": {},
   "source": [
    "## Dynamics"
   ]
  },
  {
   "cell_type": "markdown",
   "metadata": {},
   "source": [
    "### Setup"
   ]
  },
  {
   "cell_type": "code",
   "execution_count": 53,
   "metadata": {},
   "outputs": [],
   "source": [
    "gamma = 1  # free parameter\n",
    "gamma_j = jnp.array([gamma,gamma])\n",
    "T = 10\n",
    "epsilon_j = s_Delta*l_j\n",
    "theta_j = jnp.angle(alpha+1j*beta)\n",
    "Gamma_dt = t_Delta/4*c_Delta**2*l_j**2\n",
    "dt = Gamma_dt[0]/gamma\n",
    "t_f = dt*T\n",
    "b_k = (dq.sigmax() + 1j*dq.sigmay())/2 # typo in paper\n",
    "b_dag_k = dq.dag(b_k)\n",
    "Nt = 100\n",
    "t = jnp.linspace(0,1,Nt)"
   ]
  },
  {
   "cell_type": "code",
   "execution_count": 54,
   "metadata": {},
   "outputs": [],
   "source": [
    "H_idle = dq.tensor(dq.eye(N),dq.eye(2))\n",
    "H_E_n = jnp.sqrt(gamma)*(dq.tensor(d_j_E[0],b_dag_k) + dq.tensor(d_j_E_dag[0],b_k))\n",
    "U_n = jla.expm(-1j*jnp.sqrt(dt)*H_E_n)\n",
    "U_n_dag = dq.dag(U_n)\n",
    "Number_rq = dq.tensor(dq.number(N),dq.eye(2))\n",
    "a_rq = dq.tensor(a,dq.eye(2))"
   ]
  },
  {
   "cell_type": "markdown",
   "metadata": {},
   "source": [
    "### Markov Verification"
   ]
  },
  {
   "cell_type": "code",
   "execution_count": 55,
   "metadata": {},
   "outputs": [
    {
     "data": {
      "text/latex": [
       "$[b_n,b_n^{\\dagger}] = \\sigma_z$?"
      ],
      "text/plain": [
       "<IPython.core.display.Latex object>"
      ]
     },
     "metadata": {},
     "output_type": "display_data"
    },
    {
     "name": "stdout",
     "output_type": "stream",
     "text": [
      "True\n"
     ]
    },
    {
     "data": {
      "text/latex": [
       "$U_n$ unitary?"
      ],
      "text/plain": [
       "<IPython.core.display.Latex object>"
      ]
     },
     "metadata": {},
     "output_type": "display_data"
    },
    {
     "name": "stdout",
     "output_type": "stream",
     "text": [
      "True\n"
     ]
    },
    {
     "data": {
      "text/latex": [
       "$U_n^{\\dagger}$ unitary?"
      ],
      "text/plain": [
       "<IPython.core.display.Latex object>"
      ]
     },
     "metadata": {},
     "output_type": "display_data"
    },
    {
     "name": "stdout",
     "output_type": "stream",
     "text": [
      "True\n"
     ]
    },
    {
     "data": {
      "text/latex": [
       "$\\Gamma_j\\delta t=t_{\\Delta}c_{\\Delta}^2l_j^2/4$?"
      ],
      "text/plain": [
       "<IPython.core.display.Latex object>"
      ]
     },
     "metadata": {},
     "output_type": "display_data"
    },
    {
     "name": "stdout",
     "output_type": "stream",
     "text": [
      "True\n"
     ]
    }
   ],
   "source": [
    "if run_tests:\n",
    "    lat_print(\"$[b_n,b_n^{\\\\dagger}] = \\\\sigma_z$?\")\n",
    "    print(jallclose(com(b_k,b_dag_k),dq.sigmaz()))\n",
    "    lat_print(\"$U_n$ unitary?\")\n",
    "    print(jnp.isclose(1,jnp.abs(jnp.linalg.det(U_n))))\n",
    "    lat_print(\"$U_n^{\\\\dagger}$ unitary?\")\n",
    "    print(jnp.isclose(1,jnp.abs(jnp.linalg.det(U_n_dag))))\n",
    "    lat_print(\"$\\\\Gamma_j\\\\delta t=t_{\\\\Delta}c_{\\\\Delta}^2l_j^2/4$?\")\n",
    "    print(jnp.allclose(gamma_j*dt,t_Delta/4*c_Delta**2*l_j**2))"
   ]
  },
  {
   "cell_type": "markdown",
   "metadata": {},
   "source": [
    "### Open Dynamics"
   ]
  },
  {
   "cell_type": "code",
   "execution_count": 56,
   "metadata": {},
   "outputs": [],
   "source": [
    "alpha = 0\n",
    "psi_0 = dq.tensor(dq.coherent(N,alpha),dq.fock(2,0))\n",
    "rho_0 = dq.todm(psi_0)\n",
    "times = jnp.linspace(0,6,100)\n",
    "dissipator_x = dq.tensor(gamma*d_j_E[0],dq.eye(2))\n",
    "dissipator_p = dq.tensor(gamma*d_j_E[1],dq.eye(2))"
   ]
  },
  {
   "cell_type": "code",
   "execution_count": 57,
   "metadata": {},
   "outputs": [
    {
     "name": "stderr",
     "output_type": "stream",
     "text": [
      "|          |   0.2% ◆ elapsed 36.82ms ◆ remaining 0.00ms"
     ]
    },
    {
     "name": "stderr",
     "output_type": "stream",
     "text": [
      "|██████████| 100.0% ◆ elapsed 655.77ms ◆ remaining 0.00ms  \n"
     ]
    }
   ],
   "source": [
    "\n",
    "me_open_res = dq.mesolve(\n",
    "  H=H_idle,\n",
    "  jump_ops=[dissipator_x,dissipator_p],\n",
    "  rho0=rho_0,\n",
    "  tsave=times,\n",
    "  exp_ops=[Number_rq,a_rq]\n",
    ")\n",
    "rho_t = me_open_res.states\n",
    "rho_r_t = dq.ptrace(rho_t,0,(N,2))\n",
    "n_t = jnp.real(me_open_res.expects[0])\n",
    "a_t = me_open_res.expects[1]\n"
   ]
  },
  {
   "cell_type": "code",
   "execution_count": 58,
   "metadata": {},
   "outputs": [],
   "source": [
    "if run_plots:\n",
    "    plt.xlabel(\"Time (ns)\")\n",
    "    plt.ylabel(\"Resonator Population\")\n",
    "    plt.plot(times,n_t)\n",
    "    plt.show()"
   ]
  },
  {
   "cell_type": "code",
   "execution_count": 59,
   "metadata": {},
   "outputs": [],
   "source": [
    "# dq.plot.wigner_gif(\n",
    "#   rho_r_t,\n",
    "#   gif_duration=10,\n",
    "#   fps=25,\n",
    "#   xmax=4,\n",
    "#   ymax=4,\n",
    "#   npixels=200,\n",
    "#   filename=\"manifold_stabilizing.gif\"\n",
    "# )"
   ]
  },
  {
   "cell_type": "code",
   "execution_count": 60,
   "metadata": {},
   "outputs": [],
   "source": [
    "if run_plots:\n",
    "    plt.plot(times,jnp.real(a_t),label=r\"$\\text{Re}(\\alpha)$\")\n",
    "    plt.plot(times,jnp.imag(a_t),label=r\"$\\text{Im}(\\alpha)$\")\n",
    "    plt.legend()\n",
    "    plt.show()"
   ]
  },
  {
   "cell_type": "markdown",
   "metadata": {},
   "source": [
    "### Testing Against Strawberry Fields"
   ]
  },
  {
   "cell_type": "code",
   "execution_count": 61,
   "metadata": {},
   "outputs": [],
   "source": [
    "rho_T = rho_r_t[-1]\n",
    "if run_plots:\n",
    "    dq.plot.wigner(rho_T)"
   ]
  },
  {
   "cell_type": "code",
   "execution_count": 62,
   "metadata": {},
   "outputs": [],
   "source": [
    "import strawberryfields as sf\n",
    "nmodes = 1\n",
    "\n",
    "prog_gkp_fock = sf.Program(nmodes)\n",
    "with prog_gkp_fock.context as q:\n",
    "    sf.ops.GKP(state=[0,0],epsilon=Delta) | q\n",
    "\n",
    "eng = sf.Engine(\"fock\", backend_options={\"cutoff_dim\": N, \"hbar\": 1})\n",
    "logical_zero = jnp.array(eng.run(prog_gkp_fock).state.data).reshape((N,1))\n",
    "\n",
    "prog_gkp_fock2 = sf.Program(nmodes)\n",
    "with prog_gkp_fock2.context as q:\n",
    "    sf.ops.GKP(state=[np.pi,0],epsilon=Delta) | q\n",
    "logical_one = jnp.array(eng.run(prog_gkp_fock2).state.data).reshape((N,1))\n",
    "U = jnp.hstack((logical_zero,logical_one))\n",
    "U_dag = dq.dag(U)\n",
    "U_ident = U_dag@U\n",
    "U_proj = U@U_dag"
   ]
  },
  {
   "cell_type": "code",
   "execution_count": 63,
   "metadata": {},
   "outputs": [],
   "source": [
    "if run_plots:\n",
    "    dq.plot.wigner(logical_one)\n",
    "    dq.plot.wigner(logical_zero)"
   ]
  },
  {
   "cell_type": "markdown",
   "metadata": {},
   "source": [
    "### Intuition for Manifold Actions\n"
   ]
  },
  {
   "cell_type": "markdown",
   "metadata": {},
   "source": [
    "#### Non Commuting Shifts"
   ]
  },
  {
   "cell_type": "code",
   "execution_count": 64,
   "metadata": {},
   "outputs": [],
   "source": [
    "if run_plots:\n",
    "    dq.plot.wigner(rho_T)"
   ]
  },
  {
   "cell_type": "code",
   "execution_count": 65,
   "metadata": {},
   "outputs": [],
   "source": [
    "alpha_shift = 1j\n",
    "shift_cycle = [1j, 1, -1j, -1]\n",
    "rho_s = rho_T\n",
    "if run_plots:\n",
    "  for shift in shift_cycle:\n",
    "    rho_s = D(shift) @ rho_s\n",
    "    dq.plot.wigner(rho_s)"
   ]
  },
  {
   "cell_type": "markdown",
   "metadata": {},
   "source": [
    "#### Shift + Restabilize Visualization"
   ]
  },
  {
   "cell_type": "code",
   "execution_count": 66,
   "metadata": {},
   "outputs": [
    {
     "name": "stdout",
     "output_type": "stream",
     "text": [
      "Population: (12.000056266784668+0j)\n"
     ]
    }
   ],
   "source": [
    "if run_plots:\n",
    "    dq.plot.wigner(rho_T)\n",
    "print(f\"Population: {dq.expect(n_hat,rho_T)}\")"
   ]
  },
  {
   "cell_type": "code",
   "execution_count": 67,
   "metadata": {},
   "outputs": [
    {
     "name": "stdout",
     "output_type": "stream",
     "text": [
      "Population (shifted): (11.254366874694824+0j)\n"
     ]
    }
   ],
   "source": [
    "displacement_shift = .05\n",
    "rho_shifted = D(displacement_shift) @ rho_T\n",
    "print(f\"Population (shifted): {dq.expect(n_hat,rho_shifted)}\")\n",
    "if run_plots:\n",
    "    dq.plot.wigner(rho_shifted)"
   ]
  },
  {
   "cell_type": "code",
   "execution_count": 68,
   "metadata": {},
   "outputs": [
    {
     "name": "stderr",
     "output_type": "stream",
     "text": [
      "|          |   0.2% ◆ elapsed 25.35ms ◆ remaining 0.00ms"
     ]
    },
    {
     "name": "stderr",
     "output_type": "stream",
     "text": [
      "|██████████| 100.0% ◆ elapsed 642.52ms ◆ remaining 0.00ms  \n"
     ]
    }
   ],
   "source": [
    "rho_0_shift = dq.tensor(rho_shifted,dq.fock_dm(2,0))\n",
    "shift_times = jnp.linspace(0,5,100)\n",
    "restabilize_res = dq.mesolve(\n",
    "  H=H_idle,\n",
    "  jump_ops=[dissipator_x,dissipator_p],\n",
    "  rho0=rho_0_shift,\n",
    "  tsave=shift_times,\n",
    "  exp_ops=[Number_rq,]\n",
    ")\n",
    "rho_shifted_t = dq.ptrace(restabilize_res.states,0,(N,2))\n",
    "n_t_restabilizing = restabilize_res.expects[0]"
   ]
  },
  {
   "cell_type": "code",
   "execution_count": 70,
   "metadata": {},
   "outputs": [],
   "source": [
    "if run_plots:\n",
    "    plt.plot(shift_times,jnp.real(n_t_restabilizing))\n",
    "    plt.xlabel(\"Time\")\n",
    "    plt.ylabel(\"Manifold Repopulation after \")\n",
    "    plt.show()"
   ]
  },
  {
   "cell_type": "code",
   "execution_count": 71,
   "metadata": {},
   "outputs": [],
   "source": [
    "if run_plots:\n",
    "  dq.plot.wigner_gif(\n",
    "    states=rho_shifted_t,\n",
    "    gif_duration=5,\n",
    "    fps=25,\n",
    "    npixels=200,\n",
    "    filename=\"shift_restabilize.gif\"\n",
    "  )"
   ]
  },
  {
   "cell_type": "markdown",
   "metadata": {},
   "source": [
    "#### $T_j$, $d_j$ Modes"
   ]
  },
  {
   "cell_type": "code",
   "execution_count": 72,
   "metadata": {},
   "outputs": [],
   "source": [
    "rho_T_j = T_j_E[0] @ rho_T # does not nothing as expected\n",
    "if run_plots:\n",
    "    dq.plot.wigner(rho_T_j)"
   ]
  },
  {
   "cell_type": "code",
   "execution_count": 73,
   "metadata": {},
   "outputs": [],
   "source": [
    "rho_d_j = d_j_E[0] @ rho_T # kills as expected\n",
    "if run_plots:\n",
    "  dq.plot.wigner(\n",
    "    state=rho_d_j,\n",
    "    xmax=8,\n",
    "    ymax=8\n",
    "  )"
   ]
  },
  {
   "cell_type": "markdown",
   "metadata": {},
   "source": [
    "## Control"
   ]
  },
  {
   "cell_type": "markdown",
   "metadata": {},
   "source": [
    "### Manifold Functions"
   ]
  },
  {
   "cell_type": "code",
   "execution_count": 76,
   "metadata": {},
   "outputs": [],
   "source": [
    "def Pi(rho):\n",
    "    return U_proj@rho@U_proj\n",
    "def Pi_perp(rho):\n",
    "    return rho - Pi(rho)\n",
    "def Pidot_2(sigma_dot):\n",
    "    return .5*(dq.sigmax() * dq.trace(dq.sigmax() @ sigma_dot) +\n",
    "            dq.sigmay() * dq.trace(dq.sigmay() @ sigma_dot) + \n",
    "            dq.sigmaz() * dq.trace(dq.sigmaz() @ sigma_dot))\n",
    "def Pidot(rho_dot):\n",
    "    return U@Pidot_2(U_dag@rho_dot@U)@U_dag\n",
    "def Pidot_perp(rho_dot):\n",
    "    return rho_dot - Pidot(rho_dot)"
   ]
  },
  {
   "cell_type": "code",
   "execution_count": 77,
   "metadata": {},
   "outputs": [],
   "source": [
    "def psi_C(theta: float, phi: float):\n",
    "    return jnp.cos(theta/2.)*logical_zero + jnp.exp(1j*phi)*jnp.sin(theta/2.)*logical_one\n",
    "def rho_C(theta:float, phi: float):\n",
    "    return dq.todm(psi_C(theta=theta,phi=phi))\n",
    "def add_rho_to_bloch(rho, blocher):\n",
    "    sigma = U_dag @ rho @ U\n",
    "    vec = dq.expect([dq.sigmax(), dq.sigmay(), dq.sigmaz()], sigma)\n",
    "    blocher.add_vectors(vec)"
   ]
  },
  {
   "cell_type": "code",
   "execution_count": 79,
   "metadata": {},
   "outputs": [
    {
     "name": "stdout",
     "output_type": "stream",
     "text": [
      "(1+0j)\n",
      "(1.0042024+0j)\n",
      "(0.021137066+0j)\n",
      "(1.5314827e-25+0j)\n",
      "(0.0014007865+0j)\n",
      "(1.0000001+0j)\n",
      "(0.0011825762+0j)\n"
     ]
    }
   ],
   "source": [
    "if run_tests:\n",
    "    rho_A = rho_C(0,0)\n",
    "    rho_B = Pi(rho_A)\n",
    "    print(dq.trace(rho_A))\n",
    "    print(dq.trace(rho_B))\n",
    "    print(np.max(rho_A-rho_B))\n",
    "    print(np.max(rho_A - (rho_B + Pi_perp(rho_A))))\n",
    "    print(dq.trace(rho_C(0,0)@rho_C(jnp.pi,0)))\n",
    "    print(dq.trace(rho_A@rho_A))\n",
    "    cohere = dq.coherent_dm(N, 4)\n",
    "    print(dq.trace(cohere@rho_A))"
   ]
  },
  {
   "cell_type": "code",
   "execution_count": 83,
   "metadata": {},
   "outputs": [],
   "source": [
    "if run_plots:\n",
    "    b = qt.Bloch()\n",
    "    add_rho_to_bloch(rho_A, b) # 0\n",
    "    add_rho_to_bloch(rho_B, b) # 0 off by a bit\n",
    "    add_rho_to_bloch(rho_C(jnp.pi,0),b) # 1\n",
    "    add_rho_to_bloch(rho_C(jnp.pi/2,jnp.pi/2.),b) # y\n",
    "    b.show()"
   ]
  },
  {
   "cell_type": "code",
   "execution_count": null,
   "metadata": {},
   "outputs": [],
   "source": [
    "# states\n",
    "rho_0 = dq.fock_dm(N, 0) # vac to start\n",
    "# goal: Pidot_perp = 0 forall t ie not leaving codespace\n",
    "\n",
    "# Hamiltonians\n",
    "H_0 = dq.eye(N) # drift\n",
    "H_1 = jnp.sqrt(2) * x # control 1 (displacement part 1)\n",
    "H_2 = jnp.sqrt(2) * p # control 2 (displacement part 2)\n",
    "\n",
    "# Dissipators, uncontrollable\n",
    "gamma_0 = .05\n",
    "U_0 = jnp.sqrt(gamma_0) * a # photon loss\n",
    "gamma_1 = .01\n",
    "U_1 = jnp.sqrt(gamma_1) * n # dephasing\n",
    "\n",
    "# Dissipators, controllable\n",
    "C_0 = 0 # TODO"
   ]
  },
  {
   "cell_type": "markdown",
   "metadata": {},
   "source": [
    "### Custom Diffrax Solver"
   ]
  },
  {
   "cell_type": "code",
   "execution_count": null,
   "metadata": {},
   "outputs": [],
   "source": [
    "from jaxtyping import PyTree, ArrayLike, Shaped, Array\n",
    "from typing import TypeVar, TypeAlias, Union, Callable, Any\n",
    "FloatScalarLike = Union[float, Array, np.ndarray]\n",
    "IntScalarLike = Union[int, Array, np.ndarray]\n",
    "RealScalarLike = Union[FloatScalarLike, IntScalarLike]"
   ]
  },
  {
   "cell_type": "code",
   "execution_count": null,
   "metadata": {},
   "outputs": [],
   "source": [
    "class AncillaResetSolver(dx.AbstractSolver):\n",
    "  term_structure = dx.AbstractTerm\n",
    "  interpolation_cls = dx.LocalLinearInterpolation\n",
    "\n",
    "  def order(self, terms):\n",
    "    return 1\n",
    "  def init(self, terms, t0, t1, y0, args):\n",
    "    return None\n",
    "  \n",
    "  def step(self, terms, t0, t1, y0, args, solver_state, made_jump):\n",
    "    del solver_state, made_jump\n",
    "    \n",
    "    "
   ]
  },
  {
   "cell_type": "markdown",
   "metadata": {},
   "source": [
    "### Sharpen-Trim, BsB, sBs"
   ]
  },
  {
   "cell_type": "code",
   "execution_count": null,
   "metadata": {},
   "outputs": [],
   "source": []
  }
 ],
 "metadata": {
  "kernelspec": {
   "display_name": "jiang",
   "language": "python",
   "name": "python3"
  },
  "language_info": {
   "codemirror_mode": {
    "name": "ipython",
    "version": 3
   },
   "file_extension": ".py",
   "mimetype": "text/x-python",
   "name": "python",
   "nbconvert_exporter": "python",
   "pygments_lexer": "ipython3",
   "version": "3.12.4"
  }
 },
 "nbformat": 4,
 "nbformat_minor": 2
}
