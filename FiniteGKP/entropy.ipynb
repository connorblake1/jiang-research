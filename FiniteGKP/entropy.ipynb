{
 "cells": [
  {
   "cell_type": "code",
   "execution_count": 15,
   "metadata": {},
   "outputs": [],
   "source": [
    "import qutip as qt\n",
    "from qutip import Qobj\n",
    "import numpy as np\n",
    "from scipy.linalg import logm"
   ]
  },
  {
   "cell_type": "code",
   "execution_count": 33,
   "metadata": {},
   "outputs": [],
   "source": [
    "rho_A = Qobj(np.array([[.2,0.],[0.,.8]]))\n",
    "rho_B = Qobj(np.array([[.5,.5],[.5,.5]]))\n",
    "U = qt.tensor(qt.fock_dm(2,0),qt.qeye(2)) + qt.tensor(qt.fock_dm(2,1),qt.sigmax())\n",
    "rho = qt.tensor(rho_B,rho_A)\n",
    "def entropy(rho_test):\n",
    "    med = rho_test.full() @ logm(rho_test.full())\n",
    "    return -np.trace(med)"
   ]
  },
  {
   "cell_type": "code",
   "execution_count": 34,
   "metadata": {},
   "outputs": [
    {
     "name": "stdout",
     "output_type": "stream",
     "text": [
      "S_A = (0.5004024235381879-0j)\n",
      "S_B = (-0-0j)\n",
      "S = (0.500402423538187-0j)\n"
     ]
    }
   ],
   "source": [
    "print(f\"S_A = {entropy(rho_A)}\")\n",
    "print(f\"S_B = {entropy(rho_B)}\")\n",
    "print(f\"S = {entropy(rho)}\")\n",
    "rho_prime = U * rho * U.dag()"
   ]
  },
  {
   "cell_type": "code",
   "execution_count": 35,
   "metadata": {},
   "outputs": [
    {
     "name": "stdout",
     "output_type": "stream",
     "text": [
      "S_A' = (0.6931471805599453-0j)\n",
      "S_B' = (0.6931471805599453-0j)\n",
      "S' = (0.500402423538187-0j)\n"
     ]
    }
   ],
   "source": [
    "print(f\"S_A' = {entropy(qt.ptrace(rho_prime,0))}\")\n",
    "print(f\"S_B' = {entropy(qt.ptrace(rho_prime,1))}\")\n",
    "print(f\"S' = {entropy(rho_prime)}\")"
   ]
  },
  {
   "cell_type": "code",
   "execution_count": null,
   "metadata": {},
   "outputs": [],
   "source": []
  },
  {
   "cell_type": "code",
   "execution_count": null,
   "metadata": {},
   "outputs": [],
   "source": []
  },
  {
   "cell_type": "code",
   "execution_count": null,
   "metadata": {},
   "outputs": [],
   "source": []
  },
  {
   "cell_type": "code",
   "execution_count": null,
   "metadata": {},
   "outputs": [],
   "source": []
  }
 ],
 "metadata": {
  "kernelspec": {
   "display_name": "jiang",
   "language": "python",
   "name": "python3"
  },
  "language_info": {
   "codemirror_mode": {
    "name": "ipython",
    "version": 3
   },
   "file_extension": ".py",
   "mimetype": "text/x-python",
   "name": "python",
   "nbconvert_exporter": "python",
   "pygments_lexer": "ipython3",
   "version": "3.12.4"
  }
 },
 "nbformat": 4,
 "nbformat_minor": 2
}
