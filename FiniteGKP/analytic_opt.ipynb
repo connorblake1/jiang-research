{
 "cells": [
  {
   "cell_type": "code",
   "execution_count": 78,
   "metadata": {},
   "outputs": [],
   "source": [
    "import sympy as sp\n",
    "from sympy import Array, Trace, Matrix, MatrixSymbol, I, pprint, simplify, symbols, latex, pretty, diff, cos, exp, sin\n",
    "from IPython.display import display, Latex, Math\n",
    "from sympy.matrices import Matrix, eye, zeros, ones, diag, Trace, Transpose\n",
    "from sympy.tensor.array.expressions import ArraySymbol, ArrayTensorProduct, ArrayContraction, convert_array_to_matrix, convert_indexed_to_array, convert_array_to_indexed\n",
    "from sympy.abc import i,j,k, alpha, beta, epsilon, gamma, X, P\n",
    "from sympy.physics.quantum import Commutator, Ket, Bra, TensorPowerHilbertSpace, trace\n",
    "from sympy.physics.quantum import Dagger as d\n",
    "from sympy.physics.matrices import msigma\n",
    "from sympy.physics.secondquant import B, Bd, BBra, BKet, Commutator"
   ]
  },
  {
   "cell_type": "code",
   "execution_count": 47,
   "metadata": {},
   "outputs": [],
   "source": [
    "def com(A,B):\n",
    "    return Commutator(A,B).doit()\n",
    "def symvec()"
   ]
  },
  {
   "cell_type": "code",
   "execution_count": 72,
   "metadata": {},
   "outputs": [],
   "source": [
    "Nf = 3"
   ]
  },
  {
   "cell_type": "code",
   "execution_count": 68,
   "metadata": {},
   "outputs": [],
   "source": [
    "up = Matrix([[1],[0]])\n",
    "down = Matrix([[0],[1]])\n",
    "theta, phi = symbols(\"theta,phi\",real=True)\n",
    "psi = cos(theta/2)*up + sin(theta/2)*exp(I*phi)*down\n",
    "plus = 1/sp.sqrt(2)*Matrix([[1],[1]])\n",
    "minus = 1/sp.sqrt(2)*Matrix([[1],[-1]])\n",
    "sx = msigma(1)\n",
    "sy = msigma(2)\n",
    "sz = msigma(3)"
   ]
  },
  {
   "cell_type": "code",
   "execution_count": 71,
   "metadata": {},
   "outputs": [
    {
     "data": {
      "text/latex": [
       "$\\displaystyle \\left[\\begin{matrix}\\cos{\\left(\\frac{\\theta}{2} \\right)}\\\\e^{i \\phi} \\sin{\\left(\\frac{\\theta}{2} \\right)}\\end{matrix}\\right]$"
      ],
      "text/plain": [
       "Matrix([\n",
       "[           cos(theta/2)],\n",
       "[exp(I*phi)*sin(theta/2)]])"
      ]
     },
     "execution_count": 71,
     "metadata": {},
     "output_type": "execute_result"
    }
   ],
   "source": [
    "psinorm = simplify(d(psi)*psi)\n",
    "psi"
   ]
  },
  {
   "cell_type": "code",
   "execution_count": 86,
   "metadata": {},
   "outputs": [
    {
     "ename": "TypeError",
     "evalue": "ArraySymbol.__new__() got an unexpected keyword argument 'complex'",
     "output_type": "error",
     "traceback": [
      "\u001b[0;31m---------------------------------------------------------------------------\u001b[0m",
      "\u001b[0;31mTypeError\u001b[0m                                 Traceback (most recent call last)",
      "Cell \u001b[0;32mIn[86], line 1\u001b[0m\n\u001b[0;32m----> 1\u001b[0m A \u001b[38;5;241m=\u001b[39m \u001b[43mArraySymbol\u001b[49m\u001b[43m(\u001b[49m\u001b[38;5;124;43m'\u001b[39;49m\u001b[38;5;124;43mA\u001b[39;49m\u001b[38;5;124;43m'\u001b[39;49m\u001b[43m,\u001b[49m\u001b[43m \u001b[49m\u001b[43m(\u001b[49m\u001b[38;5;241;43m2\u001b[39;49m\u001b[43m,\u001b[49m\u001b[43m \u001b[49m\u001b[38;5;241;43m2\u001b[39;49m\u001b[43m)\u001b[49m\u001b[43m,\u001b[49m\u001b[43m \u001b[49m\u001b[38;5;28;43mcomplex\u001b[39;49m\u001b[38;5;241;43m=\u001b[39;49m\u001b[38;5;28;43;01mTrue\u001b[39;49;00m\u001b[43m)\u001b[49m\n\u001b[1;32m      2\u001b[0m c1 \u001b[38;5;241m=\u001b[39m ArraySymbol(\u001b[38;5;124m\"\u001b[39m\u001b[38;5;124mc1\u001b[39m\u001b[38;5;124m\"\u001b[39m,(Nf,))\n",
      "\u001b[0;31mTypeError\u001b[0m: ArraySymbol.__new__() got an unexpected keyword argument 'complex'"
     ]
    }
   ],
   "source": []
  },
  {
   "cell_type": "code",
   "execution_count": null,
   "metadata": {},
   "outputs": [],
   "source": []
  }
 ],
 "metadata": {
  "kernelspec": {
   "display_name": "jiang",
   "language": "python",
   "name": "python3"
  },
  "language_info": {
   "codemirror_mode": {
    "name": "ipython",
    "version": 3
   },
   "file_extension": ".py",
   "mimetype": "text/x-python",
   "name": "python",
   "nbconvert_exporter": "python",
   "pygments_lexer": "ipython3",
   "version": "3.12.4"
  }
 },
 "nbformat": 4,
 "nbformat_minor": 2
}
