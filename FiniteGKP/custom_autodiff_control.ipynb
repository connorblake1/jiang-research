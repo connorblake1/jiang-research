{
 "cells": [
  {
   "cell_type": "markdown",
   "metadata": {},
   "source": [
    "### Optimal Control on Simple Systems: Driven JC Model"
   ]
  },
  {
   "cell_type": "code",
   "execution_count": null,
   "metadata": {},
   "outputs": [],
   "source": [
    "%load_ext autoreload\n",
    "import jax.numpy as jnp\n",
    "from jaxtyping import Array\n",
    "import matplotlib.pyplot as plt\n",
    "import dynamiqs as dq\n",
    "import strawberryfields as sf\n",
    "import os\n",
    "from controllers import ControlVector, SinusoidalControl, ConstantControl\n",
    "from optimizers import ClosedQuantumSystem, OptimalController\n",
    "os.environ['XLA_PYTHON_CLIENT_MEM_FRACTION']='.90'"
   ]
  },
  {
   "cell_type": "markdown",
   "metadata": {},
   "source": [
    "#### System Setup"
   ]
  },
  {
   "cell_type": "code",
   "execution_count": null,
   "metadata": {},
   "outputs": [],
   "source": [
    "N_res = 4\n",
    "N_qub = 2\n",
    "omega_res = 3\n",
    "omega_qub = 2.4\n",
    "g = .1\n",
    "\n",
    "a = dq.tensor(dq.destroy(N_res), dq.eye(N_qub))\n",
    "b = dq.tensor(dq.eye(N_res),dq.destroy(N_qub))\n",
    "Z = dq.tensor(dq.eye(N_res), dq.number(N_qub))\n",
    "H_0 = omega_res * dq.dag(a)@a + omega_qub * dq.dag(b)@b \n",
    "H_1 = (dq.dag(a)@b + a @ dq.dag(b)) # coupling\n",
    "H_2 = 1./jnp.sqrt(2)*(a + dq.dag(a)) # X\n",
    "H_3 = 1j/jnp.sqrt(2)*(dq.dag(a) - a) # P\n",
    "psi_0 = dq.tensor(dq.fock(N_res,0),dq.fock(N_qub,0))\n"
   ]
  },
  {
   "cell_type": "markdown",
   "metadata": {},
   "source": [
    "#### Control Setups"
   ]
  },
  {
   "cell_type": "code",
   "execution_count": null,
   "metadata": {},
   "outputs": [],
   "source": [
    "coupling_control = ConstantControl(\n",
    "    k=jnp.array(.1)\n",
    ")\n",
    "sine_drive_X = SinusoidalControl(\n",
    "    a=jnp.array([.5]),\n",
    "    omega=jnp.array([3.0]),\n",
    "    phi=jnp.array([0.0])\n",
    ")\n",
    "sine_drive_P = SinusoidalControl(\n",
    "    a=jnp.array([.5]),\n",
    "    omega=jnp.array([3.5]),\n",
    "    phi=[0.0]\n",
    ")"
   ]
  },
  {
   "cell_type": "markdown",
   "metadata": {},
   "source": [
    "#### Optimizer Setup"
   ]
  },
  {
   "cell_type": "code",
   "execution_count": null,
   "metadata": {},
   "outputs": [],
   "source": [
    "jc_system = ClosedQuantumSystem(\n",
    "    dim=N_res*N_qub,\n",
    "    H_0=H_0,\n",
    "    H_M=[H_1,H_2],\n",
    ")\n",
    "\n",
    "jc_controls = ControlVector(\n",
    "    [\n",
    "        coupling_control,\n",
    "        sine_drive_X,\n",
    "        # sine_drive_P\n",
    "        ]\n",
    "    )\n",
    "\n",
    "def final_penalty(psi_tF: Array) -> float:\n",
    "    return 1 - dq.expect(Z, psi_tF)\n",
    "\n",
    "def statewise_penalty(psi_ti: Array) -> float:\n",
    "    return 0\n",
    "\n",
    "def control_penalty(u_m_ti: Array) -> float:\n",
    "    return 0\n",
    "\n",
    "controller = OptimalController(\n",
    "    system=jc_system,\n",
    "    controls=jc_controls,\n",
    "    y0=psi_0,\n",
    "    duration=15.0,\n",
    "    dt_start=.01,\n",
    "    dt_save=.1,\n",
    "    y_final=final_penalty,\n",
    "    y_statewise=statewise_penalty,\n",
    "    u_statewise=control_penalty,\n",
    ")"
   ]
  },
  {
   "cell_type": "markdown",
   "metadata": {},
   "source": [
    "#### Pre-Training"
   ]
  },
  {
   "cell_type": "code",
   "execution_count": null,
   "metadata": {},
   "outputs": [],
   "source": [
    "fig, ax = plt.subplots()\n",
    "controller.plot(\n",
    "    ax=ax,\n",
    "    exp_ops=[Z],\n",
    "    exp_names=[r\"$\\langle Z\\rangle$\"],\n",
    ")\n",
    "fig.legend()\n",
    "fig.show()"
   ]
  },
  {
   "cell_type": "markdown",
   "metadata": {},
   "source": [
    "#### Training"
   ]
  },
  {
   "cell_type": "code",
   "execution_count": null,
   "metadata": {},
   "outputs": [],
   "source": [
    "new_controller = controller.optimize(\n",
    "    N_steps=10,\n",
    "    learning_rate=.1,\n",
    "    verbosity=2,\n",
    ")"
   ]
  },
  {
   "cell_type": "markdown",
   "metadata": {},
   "source": [
    "#### Post-Training"
   ]
  },
  {
   "cell_type": "code",
   "execution_count": null,
   "metadata": {},
   "outputs": [],
   "source": [
    "\n",
    "fig_opt, ax_opt = plt.subplots()\n",
    "new_controller.plot(\n",
    "    ax_opt,\n",
    "    exp_ops=[Z],\n",
    "    exp_names=[r\"$\\langle Z\\rangle$\"]\n",
    ")\n",
    "fig_opt.legend()\n",
    "fig_opt.show()"
   ]
  }
 ],
 "metadata": {
  "kernelspec": {
   "display_name": "jiang",
   "language": "python",
   "name": "python3"
  },
  "language_info": {
   "codemirror_mode": {
    "name": "ipython",
    "version": 3
   },
   "file_extension": ".py",
   "mimetype": "text/x-python",
   "name": "python",
   "nbconvert_exporter": "python",
   "pygments_lexer": "ipython3",
   "version": "3.12.4"
  }
 },
 "nbformat": 4,
 "nbformat_minor": 2
}
