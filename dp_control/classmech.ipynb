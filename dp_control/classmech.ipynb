{
 "cells": [
  {
   "cell_type": "markdown",
   "metadata": {},
   "source": [
    "# Structure and Interpretation of Classical Mechanics"
   ]
  },
  {
   "cell_type": "markdown",
   "metadata": {},
   "source": [
    "## Chapter 1"
   ]
  },
  {
   "cell_type": "code",
   "execution_count": 1,
   "metadata": {},
   "outputs": [],
   "source": [
    "import numpy as np\n",
    "import jax\n",
    "import jax.numpy as jnp\n",
    "import scipy\n",
    "from jax import grad, jit, vmap, random\n",
    "import jax.scipy.optimize\n",
    "import matplotlib.pyplot as plt"
   ]
  },
  {
   "cell_type": "markdown",
   "metadata": {},
   "source": [
    "### Harmonic Oscillator Path-Finding"
   ]
  },
  {
   "cell_type": "code",
   "execution_count": 28,
   "metadata": {},
   "outputs": [
    {
     "name": "stdout",
     "output_type": "stream",
     "text": [
      "N=158\n"
     ]
    }
   ],
   "source": [
    "m = 1\n",
    "k = 1\n",
    "t0 = 0\n",
    "t1 = .5*jnp.pi\n",
    "q0 = 1\n",
    "q1 = 0\n",
    "dt = .01\n",
    "t = jnp.arange(t0,t1,dt)\n",
    "N = len(t)\n",
    "# build derivative matrix\n",
    "D = np.zeros((N,N))\n",
    "np.fill_diagonal(D[:,1:],.5/dt)\n",
    "np.fill_diagonal(D[1:,:],-.5/dt)\n",
    "D[0,0] = -1./dt\n",
    "D[0,1] = 1./dt\n",
    "D[N-1,N-1] = 1./dt\n",
    "D[N-1,N-2] = -1./dt\n",
    "jD = jnp.copy(D)\n",
    "print(f\"N={N}\")"
   ]
  },
  {
   "cell_type": "code",
   "execution_count": 29,
   "metadata": {},
   "outputs": [],
   "source": [
    "\n",
    "def L(Gamma_qi):\n",
    "  ti,qi,Dqi = Gamma_qi\n",
    "  return .5*m*Dqi**2 - .5*k*qi**2\n",
    "def S(Gamma_qi):\n",
    "  return jax.scipy.integrate.trapezoid(L(Gamma_qi),Gamma_qi[0])\n",
    "def Dt(Dj,qi):\n",
    "  # ffd on first, cfd on middle, bfd on last\n",
    "  return Dj@qi"
   ]
  },
  {
   "cell_type": "code",
   "execution_count": 30,
   "metadata": {},
   "outputs": [
    {
     "name": "stdout",
     "output_type": "stream",
     "text": [
      "Exact Action: -0.0\n",
      "Finite difference good?: True\n",
      "Perturbed Action: 0.28300002217292786\n"
     ]
    }
   ],
   "source": [
    "\n",
    "q_exact = jnp.cos(t)\n",
    "Dq_exact = -jnp.sin(t)\n",
    "Gamma_q_exact = jnp.array([t,q_exact,Dq_exact])\n",
    "S_exact = S(Gamma_q_exact)\n",
    "print(f\"Exact Action: {np.round(S_exact,3)}\")\n",
    "\n",
    "Dq_2 = Dt(jD,q_exact)\n",
    "print(f\"Finite difference good?: {jnp.allclose(Dq_2,Dq_exact,atol=.01)}\")\n",
    "q_pert = (t-t0)*(t-t1)*jnp.sin(t)**2\n",
    "Dq_pert=  Dt(jD,q_pert)\n",
    "Gamma_q_pert = (t,q_pert,Dq_pert)\n",
    "S_pert = S(Gamma_q_pert)\n",
    "print(f\"Perturbed Action: {np.round(S_pert,3)}\")"
   ]
  },
  {
   "cell_type": "code",
   "execution_count": 31,
   "metadata": {},
   "outputs": [
    {
     "name": "stdout",
     "output_type": "stream",
     "text": [
      "1 0\n",
      "[1.         0.9999947  0.99977934 0.9995994  0.9991292 ]\n",
      "[0.04996809 0.04001105 0.02996998 0.02001541 0.00999532 0.        ]\n",
      "Action=0.0003850688226521015\n"
     ]
    },
    {
     "data": {
      "text/plain": [
       "OptimizeResults(x=Array([0.9999947 , 0.99977934, 0.9995994 , 0.9991292 , 0.998796  ,\n",
       "       0.99812657, 0.99757546, 0.99671125, 0.9959336 , 0.9949558 ,\n",
       "       0.993894  , 0.9927424 , 0.9914891 , 0.9901273 , 0.9886846 ,\n",
       "       0.9871261 , 0.9854904 , 0.983709  , 0.98190254, 0.9799186 ,\n",
       "       0.9779269 , 0.9757061 , 0.9735604 , 0.9711332 , 0.9687885 ,\n",
       "       0.9661729 , 0.96362805, 0.96082854, 0.95807916, 0.9551024 ,\n",
       "       0.9521454 , 0.94899535, 0.9458209 , 0.9425268 , 0.9391357 ,\n",
       "       0.9356285 , 0.93209076, 0.92837626, 0.9246424 , 0.9207933 ,\n",
       "       0.91683877, 0.91277224, 0.90869546, 0.90440375, 0.90016973,\n",
       "       0.8956919 , 0.8912745 , 0.8866221 , 0.8820275 , 0.8771884 ,\n",
       "       0.8724259 , 0.86741674, 0.862461  , 0.8573137 , 0.8521398 ,\n",
       "       0.8468743 , 0.84148985, 0.83606684, 0.83051825, 0.8249224 ,\n",
       "       0.8192324 , 0.8134161 , 0.8076174 , 0.80161935, 0.79566884,\n",
       "       0.78948736, 0.7834224 , 0.7770134 , 0.77082807, 0.7643236 ,\n",
       "       0.7578841 , 0.75131613, 0.74466264, 0.737969  , 0.73116523,\n",
       "       0.7243228 , 0.7173817 , 0.7103753 , 0.70331156, 0.6961568 ,\n",
       "       0.6889646 , 0.6816372 , 0.6743356 , 0.66688055, 0.6594126 ,\n",
       "       0.6518698 , 0.6442495 , 0.6365383 , 0.6288692 , 0.62093234,\n",
       "       0.61318743, 0.6051965 , 0.59723735, 0.58914626, 0.58108747,\n",
       "       0.5728542 , 0.5646857 , 0.55637836, 0.54805785, 0.5396346 ,\n",
       "       0.5312115 , 0.5227198 , 0.5141469 , 0.5055621 , 0.4968925 ,\n",
       "       0.4882036 , 0.47943214, 0.47066405, 0.4617987 , 0.45288417,\n",
       "       0.44397795, 0.43497977, 0.42595673, 0.4168914 , 0.40779662,\n",
       "       0.39858246, 0.38948628, 0.38014233, 0.37098178, 0.361599  ,\n",
       "       0.35232744, 0.34286487, 0.3335195 , 0.3240653 , 0.31455845,\n",
       "       0.30510375, 0.2954995 , 0.2859968 , 0.27636093, 0.26672116,\n",
       "       0.25708959, 0.2474378 , 0.23769784, 0.2279919 , 0.21823618,\n",
       "       0.20846818, 0.19869867, 0.1888245 , 0.17906374, 0.1691775 ,\n",
       "       0.15934195, 0.14942156, 0.13955897, 0.12964176, 0.11971639,\n",
       "       0.10978192, 0.09983122, 0.08989577, 0.07990608, 0.06995638,\n",
       "       0.05996787, 0.04996809, 0.04001105, 0.02996998, 0.02001541,\n",
       "       0.00999532], dtype=float32), success=Array(False, dtype=bool), status=Array(3, dtype=int32, weak_type=True), fun=Array(0.00038507, dtype=float32), jac=Array([-3.50922346e-06,  1.19209290e-05,  5.40465117e-05, -1.17343850e-04,\n",
       "       -6.36605546e-05,  2.43716873e-04, -5.53512946e-05, -1.36910938e-04,\n",
       "        4.66154888e-05,  4.52697277e-05,  6.85974956e-05, -1.78661197e-04,\n",
       "        1.26175582e-05,  1.44890510e-04, -3.93465161e-05, -6.15585595e-05,\n",
       "        5.91762364e-06,  5.25191426e-05, -3.62554565e-05,  1.80555508e-05,\n",
       "       -2.11689621e-05,  2.54036859e-05,  5.53205609e-06, -4.12743539e-05,\n",
       "        1.09840184e-05,  2.56290659e-05,  1.71409920e-05, -6.61397353e-05,\n",
       "        2.27931887e-05,  2.21347436e-05, -3.07150185e-05,  4.11188230e-05,\n",
       "        2.32709572e-05, -8.49151984e-05,  2.69552693e-05,  2.81780958e-05,\n",
       "       -1.90548599e-05,  6.63846731e-06, -5.09601086e-05,  9.29003581e-05,\n",
       "        1.69128180e-05, -1.13577582e-04,  1.97160989e-06,  9.73874703e-05,\n",
       "       -1.79177150e-05, -5.70490956e-05,  9.61311162e-06,  3.90885398e-05,\n",
       "        3.98615375e-05, -1.20711513e-04,  1.50166452e-05,  9.18544829e-05,\n",
       "       -4.26154584e-05, -1.21751800e-05,  9.18190926e-06,  5.16884029e-06,\n",
       "        1.90529972e-05, -5.38444147e-05, -1.71987340e-05,  9.46167856e-05,\n",
       "       -6.98594376e-05,  4.74136323e-05,  6.25420362e-05, -1.77083537e-04,\n",
       "        7.15143979e-05,  3.84580344e-05, -6.22961670e-05,  7.31493346e-05,\n",
       "       -2.40625814e-05, -1.39954500e-05, -6.73951581e-06,  2.78325751e-05,\n",
       "       -2.63149850e-05,  2.77124345e-05,  3.79751436e-05, -1.17070973e-04,\n",
       "        5.66956587e-05,  1.07749365e-05, -9.28109512e-06,  1.10007823e-05,\n",
       "       -1.47721730e-05,  1.64406374e-05, -7.90124759e-05,  1.42342877e-04,\n",
       "        3.87118198e-05, -2.22070143e-04,  1.11774076e-04,  4.90806997e-06,\n",
       "       -8.84728506e-05,  1.63396355e-04,  7.96746463e-07, -1.57993753e-04,\n",
       "       -1.10915862e-05,  1.69719569e-04, -5.43552451e-05, -5.24865463e-05,\n",
       "        4.37833369e-05, -3.97260301e-05,  1.75810419e-05,  9.67970118e-06,\n",
       "       -3.00821848e-05,  4.68851067e-05,  6.24549575e-05, -1.71605498e-04,\n",
       "       -2.33785249e-05,  2.22208910e-04, -1.78571790e-05, -1.89010054e-04,\n",
       "        7.51093030e-05,  3.55876982e-05, -9.76459123e-05,  1.63010787e-04,\n",
       "        2.13445164e-05, -2.08111946e-04,  8.78074206e-05,  3.63965519e-05,\n",
       "       -6.54356554e-05,  9.37760342e-05, -8.06818716e-05,  6.67639542e-05,\n",
       "        2.17610504e-05, -1.11086527e-04,  6.15557656e-06,  9.83129721e-05,\n",
       "        5.55543229e-05, -2.06284923e-04,  5.15461434e-05,  1.02543971e-04,\n",
       "       -3.14570498e-05, -4.37756535e-05, -6.56538177e-05,  1.79460039e-04,\n",
       "       -3.34922224e-05, -1.13982474e-04,  7.53207132e-05, -3.70733906e-05,\n",
       "        1.77833717e-05,  1.06520019e-06,  1.03279017e-05, -1.86320394e-05,\n",
       "       -3.87862092e-05,  9.29636881e-05, -8.63021705e-06, -7.37553928e-05,\n",
       "       -1.19834440e-05,  9.74662835e-05, -1.79680064e-05, -6.14376040e-05,\n",
       "        7.19071249e-05, -8.28741468e-05, -7.56845111e-06,  9.78412572e-05,\n",
       "       -8.51647928e-06, -8.04712472e-05, -5.99122868e-05,  1.99693546e-04],      dtype=float32), hess_inv=Array([[ 0.08512728, -0.13066533,  0.07571364, ...,  0.01558482,\n",
       "         0.00343885, -0.02104536],\n",
       "       [-0.13066606,  0.3011024 , -0.11181722, ..., -0.02947304,\n",
       "        -0.0057579 ,  0.04296364],\n",
       "       [ 0.07571354, -0.11181735,  0.1710786 , ...,  0.00359473,\n",
       "        -0.00396474,  0.00692178],\n",
       "       ...,\n",
       "       [ 0.0155848 , -0.02947301,  0.00359474, ...,  0.49840158,\n",
       "        -0.15000437, -0.11884618],\n",
       "       [ 0.00343886, -0.00575795, -0.0039647 , ..., -0.15000433,\n",
       "         0.19499695, -0.16037154],\n",
       "       [-0.02104541,  0.04296357,  0.00692174, ..., -0.11884613,\n",
       "        -0.16037151,  0.47938806]], dtype=float32), nfev=Array(158, dtype=int32, weak_type=True), njev=Array(158, dtype=int32, weak_type=True), nit=Array(124, dtype=int32, weak_type=True))"
      ]
     },
     "execution_count": 31,
     "metadata": {},
     "output_type": "execute_result"
    }
   ],
   "source": [
    "def min_wrapper(qi,ti,q0i,q1i):\n",
    "  start = jnp.array([q0i])\n",
    "  end = jnp.array([q1i])\n",
    "  c1 = jnp.concat((start,qi))\n",
    "  q_test = jnp.concat((c1,end))\n",
    "  Dq_test = Dt(jD,q_test)\n",
    "  Gamma_q_test = [ti,q_test,Dq_test]\n",
    "  S_test = S(Gamma_q_test)\n",
    "  return S_test\n",
    "x0 = jnp.zeros(N-2)\n",
    "print(q0,q1)\n",
    "result = jax.scipy.optimize.minimize(min_wrapper,x0,args=(t,q0,q1),method=\"BFGS\")\n",
    "q_out = jnp.concat((jnp.concat((jnp.array([q0]),result.x)),jnp.array([q1])))\n",
    "print(q_out[:5])\n",
    "print(q_out[N-6:])\n",
    "\n",
    "print(f\"Action={result.fun}\")\n",
    "result"
   ]
  },
  {
   "cell_type": "code",
   "execution_count": 32,
   "metadata": {},
   "outputs": [
    {
     "data": {
      "image/png": "[encoded data removed]",
      "text/plain": [
       "<Figure size 640x480 with 1 Axes>"
      ]
     },
     "metadata": {},
     "output_type": "display_data"
    }
   ],
   "source": [
    "plt.plot(t,q_exact,label=f\"Exact: {np.round(S_exact,3)}\")\n",
    "plt.plot(t,q_out,label=f\"Approx: {np.round(result.fun)}\")\n",
    "plt.title(\"Harmonic Oscillator Action\")\n",
    "plt.legend()\n",
    "plt.show()"
   ]
  },
  {
   "cell_type": "markdown",
   "metadata": {},
   "source": [
    "note: making this go more than 1/2 cycle breaks it for some reason, also making nonphysical endpoints leads to a wacked out optimization"
   ]
  },
  {
   "cell_type": "markdown",
   "metadata": {},
   "source": [
    "### Euler-Lagrange"
   ]
  },
  {
   "cell_type": "code",
   "execution_count": null,
   "metadata": {},
   "outputs": [],
   "source": []
  }
 ],
 "metadata": {
  "kernelspec": {
   "display_name": "GKP",
   "language": "python",
   "name": "python3"
  },
  "language_info": {
   "codemirror_mode": {
    "name": "ipython",
    "version": 3
   },
   "file_extension": ".py",
   "mimetype": "text/x-python",
   "name": "python",
   "nbconvert_exporter": "python",
   "pygments_lexer": "ipython3",
   "version": "3.12.4"
  }
 },
 "nbformat": 4,
 "nbformat_minor": 2
}
