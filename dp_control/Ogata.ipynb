{
 "cells": [
  {
   "cell_type": "code",
   "execution_count": 1,
   "metadata": {},
   "outputs": [
    {
     "name": "stdout",
     "output_type": "stream",
     "text": [
      "ENVIRONMENT: /home/cjb/miniconda3/envs/ctrl2/bin/python\n"
     ]
    }
   ],
   "source": [
    "import numpy as np\n",
    "import control as ct\n",
    "import scipy as sp\n",
    "import sys\n",
    "from functools import partial\n",
    "import matplotlib.pyplot as plt\n",
    "print(\"ENVIRONMENT:\",sys.executable)"
   ]
  },
  {
   "cell_type": "markdown",
   "metadata": {},
   "source": [
    "Utils"
   ]
  },
  {
   "cell_type": "code",
   "execution_count": 2,
   "metadata": {},
   "outputs": [],
   "source": [
    "def controllability(Ai,Bi):\n",
    "    ni = Ai.shape[0]\n",
    "    ri = Bi.shape[1]\n",
    "    controllability = np.zeros((ni,ni*ri))\n",
    "    for i in range(ni):\n",
    "        controllability[:,i*ri:(i+1)*ri] = np.linalg.matrix_power(Ai,i)@Bi\n",
    "    return controllability\n",
    "def is_controllable(Ai,Bi):\n",
    "    # never gives false positives, only false negatives\n",
    "    ni = Ai.shape[0]\n",
    "    return np.linalg.matrix_rank(controllability(Ai,Bi)) == ni\n",
    "def diagonalize(Ai):\n",
    "    E,V = np.linalg.eig(Ai)\n",
    "    return np.diag(E), V\n",
    "def exp_diag(Ai): # TODO assumes fully diagonal https://math.stackexchange.com/questions/1451276/matrix-exponential-for-jordan-canonical-form\n",
    "    return np.diag(np.exp(np.diagonal(Ai)))\n",
    "def rk4_ctrl(xvec, uvec,fun, dti): # TODO enable multistep uvec\n",
    "    k1 = dti*fun(xvec,uvec)\n",
    "    k2 = dti*fun(xvec+k1/2.,uvec)\n",
    "    k3 = dti*fun(xvec+k2/2.,uvec)\n",
    "    k4 = dti*fun(xvec+k3,uvec)\n",
    "    xvec += 1./6*(k1+2*k2+2*k3+k4)\n",
    "    return xvec\n",
    "def exp_mat_t(MDi,MUi,ti):\n",
    "    return MUi@(exp_diag(MDi*ti)@np.conj(MUi.T))\n",
    "def lti_prop(ADi,AUi,Bi,xi_0,u_t,t_t): # u_t is r x len(t_t0\n",
    "    ni = len(xi_0)\n",
    "    nt = len(t_t)\n",
    "    out = np.zeros((ni,nt)) # assumes flat\n",
    "    eAt_t = np.zeros((ni,ni,nt))\n",
    "    integrand_t = np.zeros((ni,nt))\n",
    "    for i,ti in enumerate(t_t): # TODO:speedup\n",
    "        eAt_t[:,:,i] = exp_mat_t(ADi,AUi,ti) # todo better precompile by using e^{A(t + s)} = e^{At}e^{As}\n",
    "        integrand_t[:,i] = 0 # TODO\n",
    "        control_part = 0 # TODO\n",
    "        return eAt_t[:,:,i]@(xi_0 + control_part)\n",
    "def dx_dt(Ai,Bi,xi,ui):\n",
    "    return Ai@xi + Bi@ui\n",
    "def obs(Ci,Di,xi,ui):\n",
    "    return Ci@xi + Di@ui"
   ]
  },
  {
   "cell_type": "code",
   "execution_count": 3,
   "metadata": {},
   "outputs": [
    {
     "name": "stdout",
     "output_type": "stream",
     "text": [
      "Controllability Working?\n",
      "True\n",
      "True\n",
      "Diagonalization Working?\n",
      "True\n"
     ]
    }
   ],
   "source": [
    "print(\"Controllability Working?\")\n",
    "A = np.array([[1,1],[0,-1]])\n",
    "B = np.array([[1],[0]]) # not\n",
    "print(is_controllable(A,B)==False)\n",
    "A = np.array([[1,1],[2,-1]])\n",
    "B = np.array([[0],[1]])\n",
    "print(is_controllable(A,B)==True) #yes\n",
    "print(\"Diagonalization Working?\")\n",
    "D,U = diagonalize(A)\n",
    "print(np.allclose(exp_diag(D),np.diag(np.array([np.exp(np.sqrt(3)),np.exp(-np.sqrt(3))]))))"
   ]
  },
  {
   "cell_type": "code",
   "execution_count": 71,
   "metadata": {},
   "outputs": [],
   "source": [
    "def control_lti(Ai,Bi,xi_0,ui_xt,ti,Ci=None,Di=None):\n",
    "    ni = Ai.shape[0]\n",
    "    ri = Bi.shape[1]\n",
    "    do_obs = True\n",
    "    ki = 0\n",
    "    if Ci is None:\n",
    "        do_obs = False\n",
    "    else:\n",
    "        ki = Ci.shape[0]\n",
    "    dx_dt_lti = partial(dx_dt,Ai,Bi)\n",
    "    if do_obs:\n",
    "        obs_lti = partial(obs,Ci,Di)\n",
    "    print(f\"Dimensions:\\nA={Ai.shape[0]}x{Ai.shape[1]}\\nB={Bi.shape[0]}x{Bi.shape[1]}\")\n",
    "    if do_obs:\n",
    "        print(f\"Obvervation Dimensions:\\nC={Ci.shape[0]}x{Ci.shape[1]}\\nD={Di.shape[0]}x{Di.shape[1]}\\n\")\n",
    "    print(f\"Controllable?: {is_controllable(Ai,Bi)}\")\n",
    "    Nti = len(ti)\n",
    "    dti = ti[1]-ti[0]\n",
    "    xi_t = np.zeros((ni,Nti),dtype=complex)\n",
    "    xi_t[:,0] = xi_0 # theta, thetadot, x, xdot\n",
    "    if do_obs:\n",
    "        yi_t = np.zeros((ki,Nti))\n",
    "        yi_t[:,0] = obs_lti(xi_t[:,0],ui_xt(xi_t[:,0],ti[0]))\n",
    "    print(fr\"Running LTI Control: N_t={Nti}, delta_t={np.round(dti,3)}, x_0={xi_0}\")\n",
    "    for i in range(1,Nti):\n",
    "        ui_ti = ui_xt(xi_t[:,i-1],ti[i]).flatten()\n",
    "        xi_t[:,i] = rk4_ctrl(xi_t[:,i-1],ui_ti,dx_dt_lti,dti)\n",
    "        if do_obs:\n",
    "            yi_t[:,i] = obs_lti(xi_t[:,i],ui_ti)\n",
    "    print(\"LTI Done\")\n",
    "    if do_obs:\n",
    "        return np.real(xi_t),np.real(yi_t)\n",
    "    return np.real(xi_t)"
   ]
  },
  {
   "cell_type": "code",
   "execution_count": 67,
   "metadata": {},
   "outputs": [],
   "source": [
    "\n",
    "def get_optimal_gain(Ai,Bi,Ci,Di,target_eigs,verbose=0):\n",
    "  ni = Ai.shape[0]\n",
    "  # M matrix\n",
    "  M = controllability(Ai,Bi)\n",
    "  # W matrix\n",
    "  num,den = sp.signal.ss2tf(Ai,Bi,Ci,Di) # den from polynomial of det(sI-A) = 0\n",
    "  a = den[1:] # den[0] = 1, den[i] = a_i\n",
    "  W = np.eye(ni)\n",
    "  for i in range(ni-1):\n",
    "    np.fill_diagonal(W[:-(i+1),(i+1):],a[i])\n",
    "  W = np.fliplr(W)\n",
    "  # T Matrix\n",
    "  T = M@W\n",
    "  # canonical form\n",
    "  Ti = np.linalg.inv(T)\n",
    "  canonical = np.round(Ti@(Ai@T),4)\n",
    "  # targeting gain matrix\n",
    "  alpha = np.poly(target_eigs)[1:] # char poly of values\n",
    "  K = np.flip(alpha-a).reshape((1,ni))@Ti\n",
    "  if verbose > 0:\n",
    "    print(M.shape)\n",
    "    print(f\"Controllable: {is_controllable(Ai,Bi)}\")\n",
    "    print(\"M\")\n",
    "    print(M)\n",
    "    print(\"a\")\n",
    "    print(a)\n",
    "    print(\"W\")\n",
    "    print(W)\n",
    "    print(\"T\")\n",
    "    print(T)\n",
    "    print(\"canonical A\")\n",
    "    print(canonical)\n",
    "    print(\"canonical B\")\n",
    "    print(np.round(Ti@Bi,3))\n",
    "    print(\"alpha\")\n",
    "    print(alpha)\n",
    "    print(\"Optimal Gain\")\n",
    "    print(K)\n",
    "  return np.real(K.flatten())\n"
   ]
  },
  {
   "cell_type": "markdown",
   "metadata": {},
   "source": [
    "## BAD Example Controlling With Parameterized Control Sequences (1D)"
   ]
  },
  {
   "cell_type": "code",
   "execution_count": 6,
   "metadata": {},
   "outputs": [],
   "source": [
    "a = 1\n",
    "b = .2\n",
    "A = np.array([[a]])\n",
    "B = np.array([[b]])\n",
    "C = np.eye(1)\n",
    "D = np.zeros((1,1))\n",
    "x_0 = np.array([-0.1])\n",
    "tf = 5\n",
    "x_f = 10\n",
    "Nt = 1000\n",
    "t = np.linspace(0,tf,Nt)"
   ]
  },
  {
   "cell_type": "code",
   "execution_count": 7,
   "metadata": {},
   "outputs": [],
   "source": [
    "def get_scheme_for_key_1d(key):\n",
    "    lhs = (x_f-np.exp(a*tf)*x_0)*np.exp(-a*tf)/b\n",
    "    if key == \"cos\":\n",
    "        def optim_omega(omega_i):\n",
    "            rhs = np.exp(-a*tf)*(-a*np.cos(tf*omega_i)+a*np.exp(a*tf) + omega_i*np.sin(tf*omega_i))/(a**2+omega_i**2)\n",
    "            return  lhs-rhs\n",
    "        omega = sp.optimize.fsolve(optim_omega,10)\n",
    "        print(f\"Optimized Omega: {omega}\")\n",
    "        u_t = np.cos(omega*t).reshape(1,Nt)\n",
    "        return u_t\n",
    "    elif key == \"box\": \n",
    "        i1 = int(Nt/2.5)\n",
    "        t1 = t[i1]\n",
    "        i2 = int(2*Nt/3.)\n",
    "        t2 = t[i2]\n",
    "        def optim_height(hi):\n",
    "            rhs = -hi/a*(np.exp(-a*t2)-np.exp(-a*t1))\n",
    "            return lhs - rhs\n",
    "        h = sp.optimize.fsolve(optim_height,2)\n",
    "        print(f\"Optimized Height: {h}\")\n",
    "        u_t = np.zeros((1,Nt))\n",
    "        u_t[0,i1:i2] = h\n",
    "        return u_t"
   ]
  },
  {
   "cell_type": "markdown",
   "metadata": {},
   "source": [
    "#### THIS IS THE WRONG WAY TO THINK ABOUT CONTROLLING linear time INVARIANT systems by controlling as preset function of time"
   ]
  },
  {
   "cell_type": "code",
   "execution_count": 8,
   "metadata": {},
   "outputs": [
    {
     "name": "stdout",
     "output_type": "stream",
     "text": [
      "Optimized Height: [8.42028508]\n",
      "Dimensions:\n",
      "A=1x1\n",
      "B=1x1\n",
      "Obvervation Dimensions:\n",
      "C=1x1\n",
      "D=1x1\n",
      "\n",
      "Controllable?: True\n"
     ]
    },
    {
     "ename": "TypeError",
     "evalue": "'numpy.ndarray' object is not callable",
     "output_type": "error",
     "traceback": [
      "\u001b[0;31m---------------------------------------------------------------------------\u001b[0m",
      "\u001b[0;31mTypeError\u001b[0m                                 Traceback (most recent call last)",
      "Cell \u001b[0;32mIn[8], line 3\u001b[0m\n\u001b[1;32m      1\u001b[0m schemes \u001b[38;5;241m=\u001b[39m [\u001b[38;5;124m\"\u001b[39m\u001b[38;5;124mcos\u001b[39m\u001b[38;5;124m\"\u001b[39m,\u001b[38;5;124m\"\u001b[39m\u001b[38;5;124mbox\u001b[39m\u001b[38;5;124m\"\u001b[39m]\n\u001b[1;32m      2\u001b[0m u_t \u001b[38;5;241m=\u001b[39m get_scheme_for_key_1d(\u001b[38;5;124m\"\u001b[39m\u001b[38;5;124mbox\u001b[39m\u001b[38;5;124m\"\u001b[39m)\n\u001b[0;32m----> 3\u001b[0m x_t,y_t \u001b[38;5;241m=\u001b[39m control_lti(A,B,x_0,u_t,t,Ci\u001b[38;5;241m=\u001b[39mC,Di\u001b[38;5;241m=\u001b[39mD)\n\u001b[1;32m      4\u001b[0m x_labels\u001b[38;5;241m=\u001b[39m[\u001b[38;5;124mr\u001b[39m\u001b[38;5;124m\"\u001b[39m\u001b[38;5;124m$x$\u001b[39m\u001b[38;5;124m\"\u001b[39m]\n\u001b[1;32m      5\u001b[0m u_labels\u001b[38;5;241m=\u001b[39m[\u001b[38;5;124mr\u001b[39m\u001b[38;5;124m\"\u001b[39m\u001b[38;5;124m$u$\u001b[39m\u001b[38;5;124m\"\u001b[39m]\n",
      "Cell \u001b[0;32mIn[4], line 23\u001b[0m, in \u001b[0;36mcontrol_lti\u001b[0;34m(Ai, Bi, xi_0, ui_xt, ti, Ci, Di)\u001b[0m\n\u001b[1;32m     21\u001b[0m \u001b[38;5;28;01mif\u001b[39;00m do_obs:\n\u001b[1;32m     22\u001b[0m     yi_t \u001b[38;5;241m=\u001b[39m np\u001b[38;5;241m.\u001b[39mzeros((ki,Nti))\n\u001b[0;32m---> 23\u001b[0m     yi_t[:,\u001b[38;5;241m0\u001b[39m] \u001b[38;5;241m=\u001b[39m obs_lti(xi_t[:,\u001b[38;5;241m0\u001b[39m],ui_xt(xi_0,t[\u001b[38;5;241m0\u001b[39m]))\n\u001b[1;32m     24\u001b[0m \u001b[38;5;28mprint\u001b[39m(\u001b[38;5;124mfr\u001b[39m\u001b[38;5;124m\"\u001b[39m\u001b[38;5;124mRunning LTI Control: N_t=\u001b[39m\u001b[38;5;132;01m{\u001b[39;00mNti\u001b[38;5;132;01m}\u001b[39;00m\u001b[38;5;124m, delta_t=\u001b[39m\u001b[38;5;132;01m{\u001b[39;00mnp\u001b[38;5;241m.\u001b[39mround(dti,\u001b[38;5;241m3\u001b[39m)\u001b[38;5;132;01m}\u001b[39;00m\u001b[38;5;124m, x_0=\u001b[39m\u001b[38;5;132;01m{\u001b[39;00mxi_0\u001b[38;5;132;01m}\u001b[39;00m\u001b[38;5;124m\"\u001b[39m)\n\u001b[1;32m     25\u001b[0m \u001b[38;5;28;01mfor\u001b[39;00m i \u001b[38;5;129;01min\u001b[39;00m \u001b[38;5;28mrange\u001b[39m(\u001b[38;5;241m1\u001b[39m,Nti):\n",
      "\u001b[0;31mTypeError\u001b[0m: 'numpy.ndarray' object is not callable"
     ]
    }
   ],
   "source": [
    "schemes = [\"cos\",\"box\"]\n",
    "u_t = get_scheme_for_key_1d(\"box\")\n",
    "x_t,y_t = control_lti(A,B,x_0,u_t,t,Ci=C,Di=D)\n",
    "x_labels=[r\"$x$\"]\n",
    "u_labels=[r\"$u$\"]\n",
    "fig, ax1 = plt.subplots()\n",
    "ax1.set_xlabel(\"Time\")\n",
    "ax1.set_ylabel(\"$x$\")\n",
    "ax1.set_ylim([-2+np.min(x_t[0,:]),x_f*1.2])\n",
    "for i_x in range(len(x_labels)):\n",
    "    ax1.plot(t,x_t[i_x,:],label=x_labels[i_x])\n",
    "ax2 = ax1.twinx()\n",
    "ax2.set_ylabel(\"$u$\")\n",
    "for i_u in range(len(u_labels)):\n",
    "    ax2.plot(t,u_t[0,:],color='black',label=u_labels[i_u])\n",
    "# for i_y in range(len(y_labels)):\n",
    "#     plt.plot(t,y_t[i_y,:],label=y_labels[i_y])\n",
    "ax1.scatter(tf,x_f,color=\"red\",label=\"Target\")\n",
    "ax1.scatter(0,x_0,label=\"Initial\")\n",
    "ax1.legend()\n",
    "ax2.legend()\n",
    "plt.title(\"Controlled\")\n",
    "plt.show()"
   ]
  },
  {
   "cell_type": "markdown",
   "metadata": {},
   "source": [
    "Example with Parameterized Control Sequence (2D)"
   ]
  },
  {
   "cell_type": "code",
   "execution_count": null,
   "metadata": {},
   "outputs": [],
   "source": [
    "A = np.array([[1,1],[2,-1]])\n",
    "B = np.array([[0],[1]])\n",
    "C = np.array([[1,0]])\n",
    "D = np.zeros((1,1))\n",
    "x_0 = np.array([-1,2])\n",
    "tf = 5\n",
    "x_f = 10\n",
    "Nt = 1000\n",
    "t = np.linspace(0,tf,Nt)"
   ]
  },
  {
   "cell_type": "code",
   "execution_count": null,
   "metadata": {},
   "outputs": [],
   "source": [
    "AD,AU = diagonalize(A)\n",
    "AUi = np.linalg.inv(AU)\n",
    "print(AD)\n",
    "print(AU)\n",
    "print(AU@(AD@AUi))"
   ]
  },
  {
   "cell_type": "code",
   "execution_count": null,
   "metadata": {},
   "outputs": [],
   "source": [
    "schemes = [\"cos\",\"box\"]\n",
    "u_t = np.zeros((1,Nt))\n",
    "x_t,y_t = control_lti(A,B,x_0,u_t,t,Ci=C,Di=D)\n",
    "print(x_t.shape)\n",
    "x_labels=[r\"$x_1$\",r\"$x_2$\"]\n",
    "u_labels=[r\"$u$\"]\n",
    "y_labels=[r\"y:$x_1$\"]\n",
    "fig, ax1 = plt.subplots()\n",
    "ax1.set_xlabel(\"Time\")\n",
    "ax1.set_ylabel(\"$x$\")\n",
    "ax1.set_ylim([-2+np.min(x_t[0,:]),x_f*1.2])\n",
    "for i_x in range(len(x_labels)):\n",
    "    ax1.plot(t,x_t[i_x,:],label=x_labels[i_x])\n",
    "# for i_y in range(len(y_labels)):\n",
    "#     ax1.plot(t,y_t[i_y,:],label=y_labels[i_y])\n",
    "ax2 = ax1.twinx()\n",
    "ax2.set_ylabel(\"$u$\")\n",
    "for i_u in range(len(u_labels)):\n",
    "    ax2.plot(t,u_t[0,:],color='black',label=u_labels[i_u])\n",
    "# for i_y in range(len(y_labels)):\n",
    "#     plt.plot(t,y_t[i_y,:],label=y_labels[i_y])\n",
    "ax1.scatter(tf,x_f,color=\"red\",label=\"Target\")\n",
    "ax1.scatter(0,x_0[0],label=\"Initial\")\n",
    "ax1.legend()\n",
    "ax2.legend()\n",
    "plt.title(\"Controlled\")\n",
    "plt.show()"
   ]
  },
  {
   "cell_type": "markdown",
   "metadata": {},
   "source": [
    "### Cart Pole"
   ]
  },
  {
   "cell_type": "code",
   "execution_count": null,
   "metadata": {},
   "outputs": [],
   "source": [
    "M = 100\n",
    "m = 10\n",
    "g = .8\n",
    "l = 2\n",
    "I = m*l*l\n",
    "n = 4\n",
    "A = np.array([[0,1,0,0],[(M+m)*g/M/l,0,0,0],[0,0,0,1],[-m*g/M,0,0,0]])\n",
    "B = np.array([0,-1/M/l,0,1/M]).reshape(n,1)\n",
    "C = np.array([[1,0,0,0],[0,0,1,0]])\n",
    "D = np.zeros((2,1))\n",
    "x_0 = np.array([.2,0,0,0])\n",
    "u_0 = np.zeros(1).flatten()\n",
    "tf = 2\n",
    "Nt = 1000\n",
    "u_t = np.tile(u_0,(1,Nt))\n",
    "t = np.linspace(0,tf,Nt)\n",
    "x_t,y_t = control_lti(A,B,x_0,u_t,t,Ci=C,Di=D)\n",
    "\n",
    "x_labels = [r\"$\\theta$\",r\"$\\dot{\\theta}$\",r\"$x$\",r\"$\\dot{x}$\"]\n",
    "y_labels = [r\"y:$\\theta$\",r\"y:$x$\"]\n",
    "for i_x in range(len(x_labels)):\n",
    "    plt.plot(t,x_t[i_x,:],label=x_labels[i_x])\n",
    "# for i_y in range(len(y_labels)):\n",
    "#     plt.plot(t,y_t[i_y,:],label=y_labels[i_y])\n",
    "plt.legend()\n",
    "plt.title(\"Free Motion\")\n",
    "plt.show()"
   ]
  },
  {
   "cell_type": "markdown",
   "metadata": {},
   "source": [
    "## Ch 9,10 Controllability/Obvservability + Pole Placement"
   ]
  },
  {
   "cell_type": "markdown",
   "metadata": {},
   "source": [
    "### Controllable Examples"
   ]
  },
  {
   "cell_type": "code",
   "execution_count": null,
   "metadata": {},
   "outputs": [],
   "source": [
    "A = np.array([[1,1,6],[4,-1,-6],[0,1,-2]])\n",
    "n = A.shape[0]\n",
    "B = np.array([[0],[4],[3]])\n",
    "C = np.eye(n)\n",
    "D = np.zeros((n,1))\n",
    "print(\"A\")\n",
    "print(A)\n",
    "print(\"B\")\n",
    "print(B)\n",
    "print(\"Eigvals\")\n",
    "Avals,Avecs= np.linalg.eig(A)\n",
    "print(Avals)"
   ]
  },
  {
   "cell_type": "code",
   "execution_count": null,
   "metadata": {},
   "outputs": [],
   "source": [
    "print(\"No Control\")\n",
    "x_0 = np.array([-5,1,6])\n",
    "N = 1000\n",
    "t = np.linspace(0,10,N)\n",
    "u = np.zeros((1,N))\n",
    "def u_x_none(xi,ti):\n",
    "  return np.array([0])\n",
    "x_t_noctrl = control_lti(A,B,x_0,u_x_none,t)\n",
    "print()\n",
    "targets = np.array([-5,-.5+.5j,-.5-.5j])\n",
    "K = get_optimal_gain(A,B,C,D,targets)\n",
    "print(f\"Poles Placed at {targets}: Gain={K}\")\n",
    "actualeigs,actualvecs= np.linalg.eig(A-B@K.reshape(1,n)) # verifies actually worked\n",
    "print(f\"Gain Proper? {np.allclose(sorted(targets),sorted(actualeigs))}\")\n",
    "def u_x_opt(xi,ti):\n",
    "  return np.array([np.dot(xi,-K)])\n",
    "x_t_optgain = control_lti(A,B,x_0,u_x_opt,t)"
   ]
  },
  {
   "cell_type": "code",
   "execution_count": null,
   "metadata": {},
   "outputs": [],
   "source": [
    "if np.all(np.real(Avals) < 0):\n",
    "  x_labels_noctrl = [r\"No Control: $x_1$\",r\"No Control: $x_2$\",r\"No Control: $x_3$\"]\n",
    "  for i,xlab in enumerate(x_labels_noctrl):\n",
    "    plt.plot(t,x_t_noctrl[i,:],label=xlab,color='blue')\n",
    "else:\n",
    "  print(\"Uncontrolled matrix unstable\")\n",
    "\n",
    "x_labels_opt_gain = [r\"Optimal Gain: $x_1$\",r\"Optimal Gain: $x_2$\",r\"Optimal Gain: $x_3$\"]\n",
    "for i,xlab in enumerate(x_labels_opt_gain):\n",
    "  plt.plot(t,x_t_optgain[i,:],label=xlab,color='green')\n",
    "plt.legend()\n",
    "plt.xlabel(\"t\")\n",
    "plt.title(\"$u = -K^Tx$\")\n",
    "plt.show()"
   ]
  },
  {
   "cell_type": "markdown",
   "metadata": {},
   "source": [
    "### Pole Placement + Shift (\"Servo Systems\")"
   ]
  },
  {
   "cell_type": "code",
   "execution_count": 55,
   "metadata": {},
   "outputs": [
    {
     "name": "stdout",
     "output_type": "stream",
     "text": [
      "A\n",
      "[[ 0  1  0]\n",
      " [ 0  0  1]\n",
      " [ 0 -2 -3]]\n",
      "B\n",
      "[[0]\n",
      " [0]\n",
      " [1]]\n",
      "Eigvals\n",
      "[ 0. -1. -2.]\n"
     ]
    }
   ],
   "source": [
    "A = np.array([[0,1,0],[0,0,1],[0,-2,-3]])\n",
    "n = A.shape[0]\n",
    "B = np.array([[0],[0],[1]])\n",
    "C = np.array([[1,0,0]])\n",
    "D = np.zeros((1,1))\n",
    "r = 2.5\n",
    "print(\"A\")\n",
    "print(A)\n",
    "print(\"B\")\n",
    "print(B)\n",
    "print(\"Eigvals\")\n",
    "Avals,Avecs= np.linalg.eig(A)\n",
    "print(Avals)"
   ]
  },
  {
   "cell_type": "code",
   "execution_count": 56,
   "metadata": {},
   "outputs": [
    {
     "name": "stdout",
     "output_type": "stream",
     "text": [
      "No Control\n",
      "Dimensions:\n",
      "A=3x3\n",
      "B=3x1\n",
      "Controllable?: True\n",
      "Running LTI Control: N_t=1000, delta_t=0.01, x_0=[-5  1  6]\n",
      "LTI Done\n",
      "\n",
      "Poles Placed at [-6.+0.j -5.+1.j -5.-1.j]: Gain=[156.  84.  13.]\n",
      "Gain As Desired? True\n",
      "Dimensions:\n",
      "A=3x3\n",
      "B=3x1\n",
      "Obvervation Dimensions:\n",
      "C=1x3\n",
      "D=1x1\n",
      "\n",
      "Controllable?: True\n",
      "Running LTI Control: N_t=1000, delta_t=0.01, x_0=[-5  1  6]\n",
      "LTI Done\n"
     ]
    },
    {
     "name": "stderr",
     "output_type": "stream",
     "text": [
      "/tmp/ipykernel_332758/3961340487.py:23: ComplexWarning: Casting complex values to real discards the imaginary part\n",
      "  yi_t[:,0] = obs_lti(xi_t[:,0],ui_xt(xi_0,t[0]))\n",
      "/tmp/ipykernel_332758/3961340487.py:29: ComplexWarning: Casting complex values to real discards the imaginary part\n",
      "  yi_t[:,i] = obs_lti(xi_t[:,i],ui_ti)\n"
     ]
    }
   ],
   "source": [
    "print(\"No Control\")\n",
    "x_0 = np.array([-5,1,6])\n",
    "N = 1000\n",
    "t = np.linspace(0,10,N)\n",
    "def u_x_none(xi,ti):\n",
    "  return np.array([0])\n",
    "x_t_noctrl = control_lti(A,B,x_0,u_x_none,t)\n",
    "print()\n",
    "targets = np.array([-6,-5+1j,-5-1j])\n",
    "K = get_optimal_gain(A,B,C,D,targets)\n",
    "print(f\"Poles Placed at {targets}: Gain={K}\")\n",
    "actualeigs,actualvecs= np.linalg.eig(A-B@K.reshape(1,n)) # verifies actually worked\n",
    "print(f\"Gain As Desired? {np.allclose(sorted(targets),sorted(actualeigs))}\")\n",
    "def u_x_opt(xi,ti):\n",
    "  return np.array([-(xi.reshape(1,len(xi))-np.array([r,0,0]))@K])\n",
    "x_t_optgain,y_t_optgain = control_lti(A,B,x_0,u_x_opt,t,Ci=C,Di=D)"
   ]
  },
  {
   "cell_type": "code",
   "execution_count": 57,
   "metadata": {},
   "outputs": [
    {
     "name": "stdout",
     "output_type": "stream",
     "text": [
      "Uncontrolled matrix unstable\n"
     ]
    },
    {
     "data": {
      "image/png": "[encoded data removed]",
      "text/plain": [
       "<Figure size 640x480 with 1 Axes>"
      ]
     },
     "metadata": {},
     "output_type": "display_data"
    }
   ],
   "source": [
    "if np.all(np.real(Avals) < 0):\n",
    "  x_labels_noctrl = [r\"No Control: $x_1$\",r\"No Control: $x_2$\",r\"No Control: $x_3$\"]\n",
    "  for i,xlab in enumerate(x_labels_noctrl):\n",
    "    plt.plot(t,x_t_noctrl[i,:],label=xlab,color='blue')\n",
    "else:\n",
    "  print(\"Uncontrolled matrix unstable\")\n",
    "\n",
    "x_labels_opt_gain = [r\"Optimal Gain: $x_1$\",r\"Optimal Gain: $x_2$\",r\"Optimal Gain: $x_3$\"]\n",
    "for i,xlab in enumerate(x_labels_opt_gain):\n",
    "  plt.plot(t,x_t_optgain[i,:],label=xlab,color='green')\n",
    "plt.hlines(r,xmin=t[0],xmax=t[-1],label=\"Target\",color='Red')\n",
    "plt.plot(t,y_t_optgain[0,:],label=\"Optimal Gain: $y$\")\n",
    "plt.legend()\n",
    "plt.xlabel(\"t\")\n",
    "plt.title(\"$u = -K^Tx + k_1r$\")\n",
    "plt.show()"
   ]
  },
  {
   "cell_type": "markdown",
   "metadata": {},
   "source": [
    "### Controlled Cart-Pole"
   ]
  },
  {
   "cell_type": "code",
   "execution_count": 72,
   "metadata": {},
   "outputs": [
    {
     "name": "stdout",
     "output_type": "stream",
     "text": [
      "A\n",
      "[[ 0.    1.    0.    0.  ]\n",
      " [20.58  0.    0.    0.  ]\n",
      " [ 0.    0.    0.    1.  ]\n",
      " [-0.49  0.    0.    0.  ]]\n",
      "B\n",
      "[[ 0. ]\n",
      " [-1. ]\n",
      " [ 0. ]\n",
      " [ 0.5]]\n",
      "C\n",
      "[[0 0 1 0]]\n",
      "D\n",
      "[[0.]]\n",
      "State: theta, thetadot, x, xdot\n"
     ]
    }
   ],
   "source": [
    "M = 2\n",
    "m = .1\n",
    "l = .5\n",
    "g = 9.8\n",
    "A = np.array([[0,1,0,0],[(M+m)/M/l*g,0,0,0],[0,0,0,1],[-m/M*g,0,0,0]])\n",
    "B = np.array([0,-1./M/l,0,1/M]).reshape(4,1)\n",
    "C = np.array([0,0,1,0]).reshape(1,4)\n",
    "D = np.zeros((1,1))\n",
    "print(\"A\")\n",
    "print(A)\n",
    "print(\"B\")\n",
    "print(B)\n",
    "print(\"C\")\n",
    "print(C)\n",
    "print(\"D\")\n",
    "print(D)\n",
    "print(\"State: theta, thetadot, x, xdot\")\n"
   ]
  },
  {
   "cell_type": "code",
   "execution_count": 73,
   "metadata": {},
   "outputs": [
    {
     "name": "stdout",
     "output_type": "stream",
     "text": [
      "Ah\n",
      "[[ 0.    1.    0.    0.    0.  ]\n",
      " [20.58  0.    0.    0.    0.  ]\n",
      " [ 0.    0.    0.    1.    0.  ]\n",
      " [-0.49  0.    0.    0.    0.  ]\n",
      " [ 0.    0.   -1.    0.    0.  ]]\n",
      "Bh\n",
      "[[ 0. ]\n",
      " [-1. ]\n",
      " [ 0. ]\n",
      " [ 0.5]\n",
      " [ 0. ]]\n",
      "Ch\n",
      "[[0. 0. 1. 0. 0.]]\n",
      "Dh\n",
      "[[0.]]\n"
     ]
    }
   ],
   "source": [
    "\n",
    "Ah = np.hstack((np.vstack((A,-C)),np.zeros((5,1))))\n",
    "Bh = np.vstack((B,np.zeros((1,1))))\n",
    "Ch = np.hstack((C,np.zeros((1,1))))\n",
    "Dh = D\n",
    "n = 5\n",
    "print(\"Ah\")\n",
    "print(Ah)\n",
    "print(\"Bh\")\n",
    "print(Bh)\n",
    "print(\"Ch\")\n",
    "print(Ch)\n",
    "print(\"Dh\")\n",
    "print(Dh)"
   ]
  },
  {
   "cell_type": "code",
   "execution_count": 79,
   "metadata": {},
   "outputs": [
    {
     "name": "stdout",
     "output_type": "stream",
     "text": [
      "Poles Placed at [-1.+1.732j -1.-1.732j -5.+0.j    -5.+0.j    -5.+0.j   ]: Gain=[-157.641  -35.393  -56.122  -36.787   51.02 ]\n",
      "Dimensions:\n",
      "A=5x5\n",
      "B=5x1\n",
      "Obvervation Dimensions:\n",
      "C=1x5\n",
      "D=1x1\n",
      "\n",
      "Controllable?: True\n",
      "Running LTI Control: N_t=1000, delta_t=0.01, x_0=[1 0 3 0 0]\n",
      "LTI Done\n"
     ]
    },
    {
     "name": "stderr",
     "output_type": "stream",
     "text": [
      "/tmp/ipykernel_332758/2670200118.py:23: ComplexWarning: Casting complex values to real discards the imaginary part\n",
      "  yi_t[:,0] = obs_lti(xi_t[:,0],ui_xt(xi_t[:,0],ti[0]))\n",
      "/tmp/ipykernel_332758/2670200118.py:29: ComplexWarning: Casting complex values to real discards the imaginary part\n",
      "  yi_t[:,i] = obs_lti(xi_t[:,i],ui_ti)\n"
     ]
    }
   ],
   "source": [
    "pole_targets = [-1+1j*np.sqrt(3),-1-1j*np.sqrt(3),-5,-5,-5]\n",
    "Kh = get_optimal_gain(Ah,Bh,Ch,Dh,pole_targets)\n",
    "r = 1\n",
    "print(f\"Poles Placed at {np.round(pole_targets,3)}: Gain={np.round(Kh,3)}\")\n",
    "actualeigs,actualvecs= np.linalg.eig(Ah-Bh@Kh.reshape(1,n)) # verifies actually worked\n",
    "def u_x_opt(xi,ti):\n",
    "  return np.array([-(xi.reshape(1,len(xi))-np.array([0,0,0,0,r]))@Kh])\n",
    "x_0 = np.array([1,0,3,0,0])\n",
    "x_cartpole,y_cartpole = control_lti(Ah,Bh,x_0,u_x_opt,t,Ci=Ch,Di=Dh)\n"
   ]
  },
  {
   "cell_type": "code",
   "execution_count": 78,
   "metadata": {},
   "outputs": [
    {
     "data": {
      "image/png": "[encoded data removed]",
      "text/plain": [
       "<Figure size 640x480 with 1 Axes>"
      ]
     },
     "metadata": {},
     "output_type": "display_data"
    }
   ],
   "source": [
    "x_labels_opt_gain = [r\"$\\theta$\",r\"$\\dot{\\theta}$\",r\"$x$\",r\"$\\dot{x}$\",r\"Error\"]\n",
    "x_lab_colors=['red','green','blue','orange','purple']\n",
    "for i,xlab in enumerate(x_labels_opt_gain):\n",
    "  plt.plot(t,x_cartpole[i,:],label=xlab,color=x_lab_colors[i])\n",
    "plt.hlines(r,xmin=t[0],xmax=t[-1],label=\"Target\",color='Red')\n",
    "plt.plot(t,y_t_optgain[0,:],label=\"Optimal Gain: $y$\")\n",
    "plt.legend()\n",
    "plt.ylim([-2,2])\n",
    "plt.xlabel(\"t\")\n",
    "plt.title(\"$u = -K^Tx + k_1r$\")\n",
    "plt.show()"
   ]
  }
 ],
 "metadata": {
  "kernelspec": {
   "display_name": "Python 3 (ipykernel)",
   "language": "python",
   "name": "python3"
  },
  "language_info": {
   "codemirror_mode": {
    "name": "ipython",
    "version": 3
   },
   "file_extension": ".py",
   "mimetype": "text/x-python",
   "name": "python",
   "nbconvert_exporter": "python",
   "pygments_lexer": "ipython3",
   "version": "3.1.undefined"
  }
 },
 "nbformat": 4,
 "nbformat_minor": 4
}
