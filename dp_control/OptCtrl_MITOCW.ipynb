{
 "cells": [
  {
   "cell_type": "markdown",
   "metadata": {},
   "source": [
    "# Optimal Control 16.323"
   ]
  },
  {
   "cell_type": "code",
   "execution_count": 109,
   "metadata": {},
   "outputs": [],
   "source": [
    "import numpy as np\n",
    "from functools import partial"
   ]
  },
  {
   "cell_type": "markdown",
   "metadata": {},
   "source": [
    "# Lecture 3/4: Dynamic Programming and HJB"
   ]
  },
  {
   "cell_type": "code",
   "execution_count": 129,
   "metadata": {},
   "outputs": [
    {
     "name": "stdout",
     "output_type": "stream",
     "text": [
      "J_T\n",
      "[[  8.   4.   2.   0.   0.   0.   2.   4.   8.  12.  18.  24.  32.  40.\n",
      "   50.  60.  72.  84.  98. 112. 128.]\n",
      " [  5.   3.   1.   0.   0.   0.   1.   3.   5.   8.  12.  16.  20.  26.\n",
      "   32.  39.  46.  54.  63.  72.  82.]\n",
      " [  3.   2.   1.   0.   0.   0.   1.   2.   3.   4.   6.   9.  12.  15.\n",
      "   18.  22.  26.  30.  35.  40.  46.]\n",
      " [  1.   1.   0.   0.   0.   0.   0.   1.   1.   2.   3.   4.   5.   6.\n",
      "    8.  10.  12.  14.  16.  18.  20.]\n",
      " [  0.   0.   0.   0.   0.   0.   0.   0.   0.   0.   1.   1.   1.   2.\n",
      "    2.   2.   3.   3.   4.   4.   5.]\n",
      " [  0.   0.   0.   0.   0.   0.   0.   0.   0.   0.   0.   0.   0.   0.\n",
      "    0.   0.   0.   0.   0.   0.   0.]\n",
      " [  0.   0.   0.   0.   0.   0.   0.   0.   0.   1.   1.   1.   1.   2.\n",
      "    2.   2.   3.   3.   4.   5.   5.]\n",
      " [  1.   1.   0.   0.   0.   0.   0.   1.   1.   2.   3.   4.   5.   6.\n",
      "    8.  10.  12.  14.  16.  18.  20.]\n",
      " [  3.   2.   1.   0.   0.   0.   1.   2.   3.   5.   6.   9.  12.  15.\n",
      "   18.  22.  26.  30.  35.  41.  46.]\n",
      " [  5.   3.   1.   0.   0.   0.   1.   3.   5.   8.  12.  16.  20.  26.\n",
      "   32.  39.  46.  54.  63.  72.  82.]\n",
      " [  8.   4.   2.   0.   0.   0.   2.   4.   8.  12.  18.  24.  32.  40.\n",
      "   50.  60.  72.  84.  98. 112. 128.]]\n"
     ]
    }
   ],
   "source": [
    "Nt = 10\n",
    "Nx = [11,21]\n",
    "n = len(Nx)\n",
    "NX = Nx[0]*Nx[1]\n",
    "Nu = 10\n",
    "x1 = np.linspace(-2,2,Nx[0])\n",
    "x2 = np.linspace(-1,4,Nx[1])\n",
    "N = tuple([Nt] + Nx)\n",
    "Nu = [10]\n",
    "NU = Nu[0]\n",
    "u = np.linspace(-2,2,NU)\n",
    "Dt = .01\n",
    "x_0 = np.array([[3],[-2]])\n",
    "A = np.array([[1.5,0],[-.5,2]])\n",
    "B = np.array([[0],[1]])\n",
    "def xdot(xk,uk,k):\n",
    "  return A@xk + uk\n",
    "J = np.zeros(N) # J_k(x_k^i, x_k+1^j) k is time index\n",
    "J[Nt-1,:,:] = np.outer(x1**2,2*x2**2)\n",
    "print(\"J_T\")\n",
    "print(np.round(J[Nt-1,:,:],0))"
   ]
  },
  {
   "cell_type": "code",
   "execution_count": 151,
   "metadata": {},
   "outputs": [],
   "source": [
    "\n",
    "def gij_k(xi_k, uij_k, k):\n",
    "  return 2*uij_k**2\n",
    "def grid_interp(x_c,x_i,c_i):\n",
    "  # x_i candidates Nxn where N candidates x in R^n\n",
    "  # c_i is cost Nx1\n",
    "  w_i = 1./np.linalg.norm(x_i-x_c,axis=1)\n",
    "  print(w_i)\n",
    "  print(np.dot(w_i,c_i))\n",
    "  return np.dot(w_i,c_i)/np.sum(w_i)\n",
    "  # demo pts\n",
    "  # xc = np.array([2,3])\n",
    "  # pts = np.array([[2.01,3.01],[1.66,2.53],[1.6,3.7]])\n",
    "  # cpts = np.array([9.6,10.2,11.0])\n",
    "  # print(grid_interp(xc,pts,cpts))\n"
   ]
  },
  {
   "cell_type": "code",
   "execution_count": 152,
   "metadata": {},
   "outputs": [],
   "source": [
    "X_k1 = np.zeros((Nx + Nu + [2*n+1]))\n",
    "# all possible states X all possible controls X [x^j_k+1 in R^n, interpolation shift, cost]\n",
    "k = Nt-2\n",
    "for i in range(NX): # all states\n",
    "    l,m = divmod(i,Nx[1])\n",
    "    xi = np.array([[x1[l]],[x2[m]]])\n",
    "    xdot_uk = partial(xdot,xk=xi,k=k) # TODO jit\n",
    "    for j in range(NU): # all controls\n",
    "      uj_k = B*u[j]\n",
    "      xdot_vec = xdot_uk(uk=uj_k)\n",
    "      shift = -np.sign(xdot_vec*Dt)*np.ceil(np.abs(xdot_vec*Dt))\n",
    "      X_k1[l,m,j,:n] = xdot_vec.flatten() #output\n",
    "      X_k1[l,m,j,n:2*n] = shift.flatten()\n",
    "      X_k1[l,m,j,-1] = gij_k(xi,u[j],k) # cost\n",
    "    # output map is off-grid -> interpolate back\n"
   ]
  }
 ],
 "metadata": {
  "kernelspec": {
   "display_name": "ctrl2",
   "language": "python",
   "name": "python3"
  },
  "language_info": {
   "codemirror_mode": {
    "name": "ipython",
    "version": 3
   },
   "file_extension": ".py",
   "mimetype": "text/x-python",
   "name": "python",
   "nbconvert_exporter": "python",
   "pygments_lexer": "ipython3",
   "version": "3.12.4"
  }
 },
 "nbformat": 4,
 "nbformat_minor": 2
}
